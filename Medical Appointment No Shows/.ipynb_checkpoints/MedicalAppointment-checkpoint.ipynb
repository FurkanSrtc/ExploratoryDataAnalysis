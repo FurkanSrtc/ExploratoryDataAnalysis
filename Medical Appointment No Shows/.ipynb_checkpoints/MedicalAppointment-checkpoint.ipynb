{
 "cells": [
  {
   "cell_type": "markdown",
   "metadata": {},
   "source": [
    "#### Context    \n",
    "> A person makes a doctor appointment, receives all the instructions and no-show. Who to blame?    \n",
    "> If this help you studying or working, please don´t forget to upvote :). Reference to Joni Hoppen and Aquarela Advanced Analytics Aquarela    \n",
    ">     \n",
    "> Greetings!    \n",
    ">     \n",
    "#### Content    \n",
    "> 110.527 medical appointments its 14 associated variables (characteristics). The most important one if the patient show-up or no-show to the appointment. Variable names are self-explanatory, if you have doubts, just let me know!    \n",
    ">     \n",
    "> scholarship variable means this concept = https://en.wikipedia.org/wiki/Bolsa_Família    \n",
    ">     \n",
    "> 14 variables    \n",
    ">     \n",
    "#### Data Dictionary    \n",
    "> 01 - PatientId    \n",
    "> Identification of a patient    \n",
    "> 02 - AppointmentID    \n",
    "> Identification of each appointment    \n",
    "> 03 - Gender    \n",
    "> Male or Female . Female is the greater proportion, woman takes way more care of they health in comparison to man.    \n",
    "> 04 - ScheduledDay    \n",
    "> The day of the actuall appointment, when they have to visit the doctor.    \n",
    "> 05 - AppointmentDay   \n",
    "> The day someone called or registered the appointment, this is before appointment of course.    \n",
    "> 06 - Age    \n",
    "> How old is the patient.    \n",
    "> 07 - Neighbourhood    \n",
    "> Where the appointment takes place.    \n",
    "> 08 - Scholarship    \n",
    "> True of False . Observation, this is a broad topic, consider reading this article https://en.wikipedia.org/wiki/Bolsa_Família    \n",
    "> 09 - Hipertension    \n",
    "> True or False    \n",
    "> 10 - Diabetes    \n",
    "> True or False    \n",
    "> Alcoholism    \n",
    "> True or False    \n",
    "> Handcap    \n",
    "> True or False    \n",
    "> SMS_received    \n",
    "> 1 or more messages sent to the patient.    \n",
    "> No-show    \n",
    "> True or False.    \n",
    "> Inspiration    \n",
    "> What if that possible to predict someone to no-show an appointment?    \n"
   ]
  },
  {
   "cell_type": "markdown",
   "metadata": {},
   "source": [
    "#### 1- Gerekli paketleri yükleyelim"
   ]
  },
  {
   "cell_type": "code",
   "execution_count": null,
   "metadata": {},
   "outputs": [],
   "source": [
    "\n",
    "\n",
    "import matplotlib.pyplot as plt\n",
    "import seaborn as sns\n",
    "import numpy as np\n",
    "import pandas as pd\n",
    "import seaborn as sns\n",
    "import plotly.io as pio\n",
    "\n",
    "import scipy.stats as stats\n",
    "from statistics import mean \n",
    "from scipy.stats.mstats import winsorize\n",
    "import warnings\n",
    "\n",
    "\n",
    "warnings.filterwarnings('ignore')\n",
    "df = pd.read_csv('data/KaggleV2-May-2016.csv',  low_memory=False)\n",
    "\n",
    "title_style = {'family': 'Century Gothic', 'color': 'darkred', 'size': 20 }\n",
    "axis_style  = {'family': 'Century Gothic', 'color': 'darkblue', 'size': 15 }"
   ]
  },
  {
   "cell_type": "code",
   "execution_count": null,
   "metadata": {},
   "outputs": [],
   "source": [
    "df.sort_values(by=['Age'])\n",
    "#Yaşları küçükten büyüğe listeliyorum"
   ]
  },
  {
   "cell_type": "markdown",
   "metadata": {},
   "source": [
    "### Checking for errors and NaNs\n"
   ]
  },
  {
   "cell_type": "markdown",
   "metadata": {},
   "source": [
    "#### 2- 'Yaş' kolonunda -1 değerlerini atalım."
   ]
  },
  {
   "cell_type": "code",
   "execution_count": null,
   "metadata": {},
   "outputs": [],
   "source": [
    "df=df[df['Age']>=0]"
   ]
  },
  {
   "cell_type": "markdown",
   "metadata": {},
   "source": [
    "#### 3-NaN veri Kontrolü"
   ]
  },
  {
   "cell_type": "code",
   "execution_count": null,
   "metadata": {},
   "outputs": [],
   "source": [
    "df.isnull().sum()"
   ]
  },
  {
   "cell_type": "code",
   "execution_count": null,
   "metadata": {},
   "outputs": [],
   "source": [
    "df[pd.isnull(df).any(axis=1)]"
   ]
  },
  {
   "cell_type": "code",
   "execution_count": null,
   "metadata": {},
   "outputs": [],
   "source": [
    "df.info()"
   ]
  },
  {
   "cell_type": "markdown",
   "metadata": {},
   "source": [
    "#### 4-Object Tipleri Dönüştürelim"
   ]
  },
  {
   "cell_type": "code",
   "execution_count": null,
   "metadata": {},
   "outputs": [],
   "source": [
    "df =df.replace({'No-show': {'Yes': True, 'No': False}})"
   ]
  },
  {
   "cell_type": "code",
   "execution_count": null,
   "metadata": {},
   "outputs": [],
   "source": [
    "df =df.replace({'Gender': {'F': 0, 'M': 1}})"
   ]
  },
  {
   "cell_type": "markdown",
   "metadata": {},
   "source": [
    "#### AppointmentDay ve ScheduledDay tipi object. Bunları datetime formatına dönüştürelim"
   ]
  },
  {
   "cell_type": "code",
   "execution_count": null,
   "metadata": {},
   "outputs": [],
   "source": [
    "df['AppointmentDay']=pd.to_datetime(df[\"AppointmentDay\"])\n",
    "df['ScheduledDay']=pd.to_datetime(df[\"ScheduledDay\"])\n"
   ]
  },
  {
   "cell_type": "code",
   "execution_count": null,
   "metadata": {},
   "outputs": [],
   "source": [
    "df.info()"
   ]
  },
  {
   "cell_type": "markdown",
   "metadata": {},
   "source": [
    "#### 5-Kategorik değişkenleri belirleyelim:"
   ]
  },
  {
   "cell_type": "code",
   "execution_count": null,
   "metadata": {},
   "outputs": [],
   "source": [
    "df.nunique() "
   ]
  },
  {
   "cell_type": "code",
   "execution_count": null,
   "metadata": {},
   "outputs": [],
   "source": [
    "df.describe(include=['O'])"
   ]
  },
  {
   "cell_type": "code",
   "execution_count": null,
   "metadata": {},
   "outputs": [],
   "source": [
    "df.describe()\n"
   ]
  },
  {
   "cell_type": "code",
   "execution_count": null,
   "metadata": {},
   "outputs": [],
   "source": [
    "##df2=df.drop_duplicates(subset=[\"PatientId\",\"AppointmentDay\"], keep='first', inplace=False, ignore_index=False)"
   ]
  },
  {
   "cell_type": "markdown",
   "metadata": {},
   "source": [
    "#### 6-Katılım Oranları (No:Katıldı, Yes:Katılmadı)"
   ]
  },
  {
   "cell_type": "code",
   "execution_count": null,
   "metadata": {
    "scrolled": true
   },
   "outputs": [],
   "source": [
    "colors = ['lightcoral','yellowgreen']\n",
    "\n",
    "ax2 = sns.countplot(x=\"No-show\", hue=\"No-show\", data=df)\n",
    "plt.title(\"Didn't they come to the appointment?\")\n",
    "plt.xlabel('AppointmentDay-ScheduleDay | No-shows ',fontdict = axis_style)\n",
    "\n",
    "\n",
    "plt.show()"
   ]
  },
  {
   "cell_type": "markdown",
   "metadata": {},
   "source": [
    "#### Randevuya Katılım Oranı Yüzdesi"
   ]
  },
  {
   "cell_type": "code",
   "execution_count": null,
   "metadata": {},
   "outputs": [],
   "source": [
    "nstrue=df[df[\"No-show\"]==True][\"No-show\"].count()\n",
    "nstruepercent=nstrue/df[\"No-show\"].count()*100\n",
    "nsfalsepercent=100-nstruepercent\n",
    "\n",
    "\n",
    "\n",
    "labels = 'True', 'False'\n",
    "sizes = [nstruepercent, nsfalsepercent]\n",
    "explode = (0.1, 0)  \n",
    "\n",
    "\n",
    "fig1, ax1 = plt.subplots()\n",
    "ax1.pie(sizes, explode=explode, labels=labels,colors=colors, autopct='%1.1f%%',\n",
    "        shadow=True, startangle=90)\n",
    "ax1.axis('equal') \n",
    "\n",
    "plt.show()"
   ]
  },
  {
   "cell_type": "markdown",
   "metadata": {},
   "source": [
    "#### 7-Randevuya katılmayan kadın ve erkeklerin yüzdesini hesaplayalım"
   ]
  },
  {
   "cell_type": "code",
   "execution_count": null,
   "metadata": {},
   "outputs": [],
   "source": [
    "ax = sns.countplot(x=\"No-show\", hue=\"No-show\", data=df)\n",
    "plt.title(\"Didn't they come to the appointment?\")\n",
    "plt.xlabel('AppointmentDay-ScheduleDay | No-shows ',fontdict = axis_style)\n",
    "plt.show()"
   ]
  },
  {
   "cell_type": "code",
   "execution_count": null,
   "metadata": {},
   "outputs": [],
   "source": [
    "df.groupby(\"Gender\")[\"Gender\"].count()"
   ]
  },
  {
   "cell_type": "markdown",
   "metadata": {},
   "source": [
    "#### 8-Cinsiyete Göre Randevulara Katılım Oranları"
   ]
  },
  {
   "cell_type": "code",
   "execution_count": null,
   "metadata": {},
   "outputs": [],
   "source": [
    "g = sns.catplot(x=\"Gender\", hue=\"No-show\",\n",
    "                data=df, kind=\"count\",\n",
    "                height=4, aspect=.7);\n",
    "g.set(xlabel='Gender 0=Female, 1=Male')\n",
    "plt.show()"
   ]
  },
  {
   "cell_type": "code",
   "execution_count": 135,
   "metadata": {},
   "outputs": [],
   "source": [
    "totalf=df.groupby(\"Gender\")[\"Gender\"].count()[0]  ##Total Female\n",
    "totalm=df.groupby(\"Gender\")[\"Gender\"].count()[1]  ##Total Male\n",
    "\n",
    "yesf=df[df['No-show']==True].groupby(\"Gender\")[\"Gender\"].count()[0]\n",
    "yesm=df[df['No-show']==True].groupby(\"Gender\")[\"Gender\"].count()[1]\n",
    "yespercentagef=yesf/(totalf)*100\n",
    "yespercentagem=yesm/(totalm)*100\n"
   ]
  },
  {
   "cell_type": "markdown",
   "metadata": {},
   "source": [
    "#### 9-Cinsiyete Göre Randevulara Katılmama Oranı"
   ]
  },
  {
   "cell_type": "code",
   "execution_count": 136,
   "metadata": {},
   "outputs": [
    {
     "name": "stdout",
     "output_type": "stream",
     "text": [
      "Percentage of female not attending the appointment\n",
      "20.314870752655242\n",
      "Percentage of male not attending the appointment\n",
      "19.967947889471915\n"
     ]
    }
   ],
   "source": [
    "print(\"Percentage of female not attending the appointment\")\n",
    "print(yespercentagef)\n",
    "\n",
    "print(\"Percentage of male not attending the appointment\")\n",
    "print(yespercentagem)\n"
   ]
  },
  {
   "cell_type": "markdown",
   "metadata": {},
   "source": [
    "> Randevulara gelen kadın ve erkek oranlarında pek bir fark yok"
   ]
  },
  {
   "cell_type": "code",
   "execution_count": 137,
   "metadata": {},
   "outputs": [
    {
     "data": {
      "text/plain": [
       "0        -1 days +05:21:52\n",
       "1        -1 days +07:51:33\n",
       "2        -1 days +07:40:56\n",
       "3        -1 days +06:30:29\n",
       "4        -1 days +07:52:37\n",
       "                ...       \n",
       "110522    34 days 14:44:25\n",
       "110523    34 days 16:32:27\n",
       "110524    40 days 07:56:08\n",
       "110525    40 days 08:50:37\n",
       "110526    40 days 10:29:04\n",
       "Length: 110526, dtype: timedelta64[ns]"
      ]
     },
     "execution_count": 137,
     "metadata": {},
     "output_type": "execute_result"
    }
   ],
   "source": [
    "(df.AppointmentDay)-(df.ScheduledDay)"
   ]
  },
  {
   "cell_type": "markdown",
   "metadata": {},
   "source": [
    "#### 10-Randevular kaç gün önce alınmış ?"
   ]
  },
  {
   "cell_type": "code",
   "execution_count": 138,
   "metadata": {},
   "outputs": [
    {
     "data": {
      "text/html": [
       "<div>\n",
       "<style scoped>\n",
       "    .dataframe tbody tr th:only-of-type {\n",
       "        vertical-align: middle;\n",
       "    }\n",
       "\n",
       "    .dataframe tbody tr th {\n",
       "        vertical-align: top;\n",
       "    }\n",
       "\n",
       "    .dataframe thead th {\n",
       "        text-align: right;\n",
       "    }\n",
       "</style>\n",
       "<table border=\"1\" class=\"dataframe\">\n",
       "  <thead>\n",
       "    <tr style=\"text-align: right;\">\n",
       "      <th></th>\n",
       "      <th>PatientId</th>\n",
       "      <th>AppointmentID</th>\n",
       "      <th>Gender</th>\n",
       "      <th>ScheduledDay</th>\n",
       "      <th>AppointmentDay</th>\n",
       "      <th>Age</th>\n",
       "      <th>Neighbourhood</th>\n",
       "      <th>Scholarship</th>\n",
       "      <th>Hipertension</th>\n",
       "      <th>Diabetes</th>\n",
       "      <th>Alcoholism</th>\n",
       "      <th>Handcap</th>\n",
       "      <th>SMS_received</th>\n",
       "      <th>No-show</th>\n",
       "      <th>days</th>\n",
       "    </tr>\n",
       "  </thead>\n",
       "  <tbody>\n",
       "    <tr>\n",
       "      <th>71533</th>\n",
       "      <td>9.982316e+14</td>\n",
       "      <td>5686628</td>\n",
       "      <td>0</td>\n",
       "      <td>2016-05-11 13:49:20+00:00</td>\n",
       "      <td>2016-05-05 00:00:00+00:00</td>\n",
       "      <td>81</td>\n",
       "      <td>SANTO ANTÔNIO</td>\n",
       "      <td>0</td>\n",
       "      <td>0</td>\n",
       "      <td>0</td>\n",
       "      <td>0</td>\n",
       "      <td>0</td>\n",
       "      <td>0</td>\n",
       "      <td>True</td>\n",
       "      <td>-7</td>\n",
       "    </tr>\n",
       "    <tr>\n",
       "      <th>72362</th>\n",
       "      <td>3.787482e+12</td>\n",
       "      <td>5655637</td>\n",
       "      <td>1</td>\n",
       "      <td>2016-05-04 06:50:57+00:00</td>\n",
       "      <td>2016-05-03 00:00:00+00:00</td>\n",
       "      <td>7</td>\n",
       "      <td>TABUAZEIRO</td>\n",
       "      <td>0</td>\n",
       "      <td>0</td>\n",
       "      <td>0</td>\n",
       "      <td>0</td>\n",
       "      <td>0</td>\n",
       "      <td>0</td>\n",
       "      <td>True</td>\n",
       "      <td>-2</td>\n",
       "    </tr>\n",
       "    <tr>\n",
       "      <th>64175</th>\n",
       "      <td>2.425226e+13</td>\n",
       "      <td>5664962</td>\n",
       "      <td>0</td>\n",
       "      <td>2016-05-05 13:43:58+00:00</td>\n",
       "      <td>2016-05-04 00:00:00+00:00</td>\n",
       "      <td>22</td>\n",
       "      <td>CONSOLAÇÃO</td>\n",
       "      <td>0</td>\n",
       "      <td>0</td>\n",
       "      <td>0</td>\n",
       "      <td>0</td>\n",
       "      <td>0</td>\n",
       "      <td>0</td>\n",
       "      <td>True</td>\n",
       "      <td>-2</td>\n",
       "    </tr>\n",
       "    <tr>\n",
       "      <th>55226</th>\n",
       "      <td>7.896294e+12</td>\n",
       "      <td>5715660</td>\n",
       "      <td>0</td>\n",
       "      <td>2016-05-18 14:50:41+00:00</td>\n",
       "      <td>2016-05-17 00:00:00+00:00</td>\n",
       "      <td>19</td>\n",
       "      <td>SANTO ANTÔNIO</td>\n",
       "      <td>0</td>\n",
       "      <td>0</td>\n",
       "      <td>0</td>\n",
       "      <td>0</td>\n",
       "      <td>1</td>\n",
       "      <td>0</td>\n",
       "      <td>True</td>\n",
       "      <td>-2</td>\n",
       "    </tr>\n",
       "    <tr>\n",
       "      <th>27033</th>\n",
       "      <td>7.839273e+12</td>\n",
       "      <td>5679978</td>\n",
       "      <td>1</td>\n",
       "      <td>2016-05-10 10:51:53+00:00</td>\n",
       "      <td>2016-05-09 00:00:00+00:00</td>\n",
       "      <td>38</td>\n",
       "      <td>RESISTÊNCIA</td>\n",
       "      <td>0</td>\n",
       "      <td>0</td>\n",
       "      <td>0</td>\n",
       "      <td>0</td>\n",
       "      <td>1</td>\n",
       "      <td>0</td>\n",
       "      <td>True</td>\n",
       "      <td>-2</td>\n",
       "    </tr>\n",
       "    <tr>\n",
       "      <th>...</th>\n",
       "      <td>...</td>\n",
       "      <td>...</td>\n",
       "      <td>...</td>\n",
       "      <td>...</td>\n",
       "      <td>...</td>\n",
       "      <td>...</td>\n",
       "      <td>...</td>\n",
       "      <td>...</td>\n",
       "      <td>...</td>\n",
       "      <td>...</td>\n",
       "      <td>...</td>\n",
       "      <td>...</td>\n",
       "      <td>...</td>\n",
       "      <td>...</td>\n",
       "      <td>...</td>\n",
       "    </tr>\n",
       "    <tr>\n",
       "      <th>102789</th>\n",
       "      <td>3.112342e+13</td>\n",
       "      <td>5134239</td>\n",
       "      <td>0</td>\n",
       "      <td>2015-12-07 10:44:25+00:00</td>\n",
       "      <td>2016-06-03 00:00:00+00:00</td>\n",
       "      <td>60</td>\n",
       "      <td>SÃO CRISTÓVÃO</td>\n",
       "      <td>0</td>\n",
       "      <td>1</td>\n",
       "      <td>1</td>\n",
       "      <td>0</td>\n",
       "      <td>0</td>\n",
       "      <td>1</td>\n",
       "      <td>False</td>\n",
       "      <td>178</td>\n",
       "    </tr>\n",
       "    <tr>\n",
       "      <th>102788</th>\n",
       "      <td>2.547555e+14</td>\n",
       "      <td>5134249</td>\n",
       "      <td>0</td>\n",
       "      <td>2015-12-07 10:45:01+00:00</td>\n",
       "      <td>2016-06-03 00:00:00+00:00</td>\n",
       "      <td>63</td>\n",
       "      <td>SÃO CRISTÓVÃO</td>\n",
       "      <td>0</td>\n",
       "      <td>1</td>\n",
       "      <td>1</td>\n",
       "      <td>0</td>\n",
       "      <td>0</td>\n",
       "      <td>1</td>\n",
       "      <td>False</td>\n",
       "      <td>178</td>\n",
       "    </tr>\n",
       "    <tr>\n",
       "      <th>102786</th>\n",
       "      <td>4.542871e+11</td>\n",
       "      <td>5134227</td>\n",
       "      <td>1</td>\n",
       "      <td>2015-12-07 10:43:34+00:00</td>\n",
       "      <td>2016-06-03 00:00:00+00:00</td>\n",
       "      <td>67</td>\n",
       "      <td>MARUÍPE</td>\n",
       "      <td>0</td>\n",
       "      <td>1</td>\n",
       "      <td>1</td>\n",
       "      <td>0</td>\n",
       "      <td>0</td>\n",
       "      <td>0</td>\n",
       "      <td>False</td>\n",
       "      <td>178</td>\n",
       "    </tr>\n",
       "    <tr>\n",
       "      <th>102792</th>\n",
       "      <td>3.512659e+14</td>\n",
       "      <td>5134233</td>\n",
       "      <td>1</td>\n",
       "      <td>2015-12-07 10:44:07+00:00</td>\n",
       "      <td>2016-06-03 00:00:00+00:00</td>\n",
       "      <td>73</td>\n",
       "      <td>MARUÍPE</td>\n",
       "      <td>0</td>\n",
       "      <td>1</td>\n",
       "      <td>1</td>\n",
       "      <td>0</td>\n",
       "      <td>1</td>\n",
       "      <td>0</td>\n",
       "      <td>True</td>\n",
       "      <td>178</td>\n",
       "    </tr>\n",
       "    <tr>\n",
       "      <th>102795</th>\n",
       "      <td>1.216587e+12</td>\n",
       "      <td>5134197</td>\n",
       "      <td>0</td>\n",
       "      <td>2015-12-07 10:40:59+00:00</td>\n",
       "      <td>2016-06-03 00:00:00+00:00</td>\n",
       "      <td>27</td>\n",
       "      <td>SÃO CRISTÓVÃO</td>\n",
       "      <td>1</td>\n",
       "      <td>0</td>\n",
       "      <td>0</td>\n",
       "      <td>0</td>\n",
       "      <td>0</td>\n",
       "      <td>1</td>\n",
       "      <td>True</td>\n",
       "      <td>178</td>\n",
       "    </tr>\n",
       "  </tbody>\n",
       "</table>\n",
       "<p>110526 rows × 15 columns</p>\n",
       "</div>"
      ],
      "text/plain": [
       "           PatientId  AppointmentID  Gender              ScheduledDay  \\\n",
       "71533   9.982316e+14        5686628       0 2016-05-11 13:49:20+00:00   \n",
       "72362   3.787482e+12        5655637       1 2016-05-04 06:50:57+00:00   \n",
       "64175   2.425226e+13        5664962       0 2016-05-05 13:43:58+00:00   \n",
       "55226   7.896294e+12        5715660       0 2016-05-18 14:50:41+00:00   \n",
       "27033   7.839273e+12        5679978       1 2016-05-10 10:51:53+00:00   \n",
       "...              ...            ...     ...                       ...   \n",
       "102789  3.112342e+13        5134239       0 2015-12-07 10:44:25+00:00   \n",
       "102788  2.547555e+14        5134249       0 2015-12-07 10:45:01+00:00   \n",
       "102786  4.542871e+11        5134227       1 2015-12-07 10:43:34+00:00   \n",
       "102792  3.512659e+14        5134233       1 2015-12-07 10:44:07+00:00   \n",
       "102795  1.216587e+12        5134197       0 2015-12-07 10:40:59+00:00   \n",
       "\n",
       "                  AppointmentDay  Age  Neighbourhood  Scholarship  \\\n",
       "71533  2016-05-05 00:00:00+00:00   81  SANTO ANTÔNIO            0   \n",
       "72362  2016-05-03 00:00:00+00:00    7     TABUAZEIRO            0   \n",
       "64175  2016-05-04 00:00:00+00:00   22     CONSOLAÇÃO            0   \n",
       "55226  2016-05-17 00:00:00+00:00   19  SANTO ANTÔNIO            0   \n",
       "27033  2016-05-09 00:00:00+00:00   38    RESISTÊNCIA            0   \n",
       "...                          ...  ...            ...          ...   \n",
       "102789 2016-06-03 00:00:00+00:00   60  SÃO CRISTÓVÃO            0   \n",
       "102788 2016-06-03 00:00:00+00:00   63  SÃO CRISTÓVÃO            0   \n",
       "102786 2016-06-03 00:00:00+00:00   67        MARUÍPE            0   \n",
       "102792 2016-06-03 00:00:00+00:00   73        MARUÍPE            0   \n",
       "102795 2016-06-03 00:00:00+00:00   27  SÃO CRISTÓVÃO            1   \n",
       "\n",
       "        Hipertension  Diabetes  Alcoholism  Handcap  SMS_received  No-show  \\\n",
       "71533              0         0           0        0             0     True   \n",
       "72362              0         0           0        0             0     True   \n",
       "64175              0         0           0        0             0     True   \n",
       "55226              0         0           0        1             0     True   \n",
       "27033              0         0           0        1             0     True   \n",
       "...              ...       ...         ...      ...           ...      ...   \n",
       "102789             1         1           0        0             1    False   \n",
       "102788             1         1           0        0             1    False   \n",
       "102786             1         1           0        0             0    False   \n",
       "102792             1         1           0        1             0     True   \n",
       "102795             0         0           0        0             1     True   \n",
       "\n",
       "        days  \n",
       "71533     -7  \n",
       "72362     -2  \n",
       "64175     -2  \n",
       "55226     -2  \n",
       "27033     -2  \n",
       "...      ...  \n",
       "102789   178  \n",
       "102788   178  \n",
       "102786   178  \n",
       "102792   178  \n",
       "102795   178  \n",
       "\n",
       "[110526 rows x 15 columns]"
      ]
     },
     "execution_count": 138,
     "metadata": {},
     "output_type": "execute_result"
    }
   ],
   "source": [
    "df[\"days\"]=(df[\"AppointmentDay\"]-df[\"ScheduledDay\"]).dt.days\n",
    "df.sort_values(by=['days'])\n"
   ]
  },
  {
   "cell_type": "code",
   "execution_count": null,
   "metadata": {},
   "outputs": [],
   "source": []
  },
  {
   "cell_type": "markdown",
   "metadata": {},
   "source": [
    "#### \"days\" kolonunda negatif olan değerlerin Aynı gün randevu alınmış gibi varsayıyorum"
   ]
  },
  {
   "cell_type": "code",
   "execution_count": 139,
   "metadata": {},
   "outputs": [],
   "source": [
    "negativedays=df[\"days\"]\n"
   ]
  },
  {
   "cell_type": "code",
   "execution_count": 140,
   "metadata": {},
   "outputs": [],
   "source": [
    "negativedays[negativedays<0]=0\n",
    "df[\"days\"]=negativedays"
   ]
  },
  {
   "cell_type": "code",
   "execution_count": 141,
   "metadata": {},
   "outputs": [
    {
     "data": {
      "text/html": [
       "<div>\n",
       "<style scoped>\n",
       "    .dataframe tbody tr th:only-of-type {\n",
       "        vertical-align: middle;\n",
       "    }\n",
       "\n",
       "    .dataframe tbody tr th {\n",
       "        vertical-align: top;\n",
       "    }\n",
       "\n",
       "    .dataframe thead th {\n",
       "        text-align: right;\n",
       "    }\n",
       "</style>\n",
       "<table border=\"1\" class=\"dataframe\">\n",
       "  <thead>\n",
       "    <tr style=\"text-align: right;\">\n",
       "      <th></th>\n",
       "      <th>PatientId</th>\n",
       "      <th>AppointmentID</th>\n",
       "      <th>Gender</th>\n",
       "      <th>ScheduledDay</th>\n",
       "      <th>AppointmentDay</th>\n",
       "      <th>Age</th>\n",
       "      <th>Neighbourhood</th>\n",
       "      <th>Scholarship</th>\n",
       "      <th>Hipertension</th>\n",
       "      <th>Diabetes</th>\n",
       "      <th>Alcoholism</th>\n",
       "      <th>Handcap</th>\n",
       "      <th>SMS_received</th>\n",
       "      <th>No-show</th>\n",
       "      <th>days</th>\n",
       "    </tr>\n",
       "  </thead>\n",
       "  <tbody>\n",
       "    <tr>\n",
       "      <th>0</th>\n",
       "      <td>2.987250e+13</td>\n",
       "      <td>5642903</td>\n",
       "      <td>0</td>\n",
       "      <td>2016-04-29 18:38:08+00:00</td>\n",
       "      <td>2016-04-29 00:00:00+00:00</td>\n",
       "      <td>62</td>\n",
       "      <td>JARDIM DA PENHA</td>\n",
       "      <td>0</td>\n",
       "      <td>1</td>\n",
       "      <td>0</td>\n",
       "      <td>0</td>\n",
       "      <td>0</td>\n",
       "      <td>0</td>\n",
       "      <td>False</td>\n",
       "      <td>0</td>\n",
       "    </tr>\n",
       "    <tr>\n",
       "      <th>59680</th>\n",
       "      <td>4.857719e+13</td>\n",
       "      <td>5708254</td>\n",
       "      <td>0</td>\n",
       "      <td>2016-05-17 10:53:42+00:00</td>\n",
       "      <td>2016-05-17 00:00:00+00:00</td>\n",
       "      <td>72</td>\n",
       "      <td>SANTA LUÍZA</td>\n",
       "      <td>0</td>\n",
       "      <td>0</td>\n",
       "      <td>0</td>\n",
       "      <td>0</td>\n",
       "      <td>0</td>\n",
       "      <td>0</td>\n",
       "      <td>False</td>\n",
       "      <td>0</td>\n",
       "    </tr>\n",
       "    <tr>\n",
       "      <th>59681</th>\n",
       "      <td>8.943385e+14</td>\n",
       "      <td>5707946</td>\n",
       "      <td>1</td>\n",
       "      <td>2016-05-17 10:22:48+00:00</td>\n",
       "      <td>2016-05-17 00:00:00+00:00</td>\n",
       "      <td>23</td>\n",
       "      <td>PRAIA DO CANTO</td>\n",
       "      <td>0</td>\n",
       "      <td>0</td>\n",
       "      <td>0</td>\n",
       "      <td>0</td>\n",
       "      <td>0</td>\n",
       "      <td>0</td>\n",
       "      <td>False</td>\n",
       "      <td>0</td>\n",
       "    </tr>\n",
       "    <tr>\n",
       "      <th>59682</th>\n",
       "      <td>5.224722e+13</td>\n",
       "      <td>5708178</td>\n",
       "      <td>0</td>\n",
       "      <td>2016-05-17 10:43:06+00:00</td>\n",
       "      <td>2016-05-17 00:00:00+00:00</td>\n",
       "      <td>27</td>\n",
       "      <td>PRAIA DO CANTO</td>\n",
       "      <td>0</td>\n",
       "      <td>0</td>\n",
       "      <td>0</td>\n",
       "      <td>0</td>\n",
       "      <td>0</td>\n",
       "      <td>0</td>\n",
       "      <td>False</td>\n",
       "      <td>0</td>\n",
       "    </tr>\n",
       "    <tr>\n",
       "      <th>59683</th>\n",
       "      <td>8.985873e+13</td>\n",
       "      <td>5708169</td>\n",
       "      <td>1</td>\n",
       "      <td>2016-05-17 10:42:19+00:00</td>\n",
       "      <td>2016-05-17 00:00:00+00:00</td>\n",
       "      <td>0</td>\n",
       "      <td>BARRO VERMELHO</td>\n",
       "      <td>0</td>\n",
       "      <td>0</td>\n",
       "      <td>0</td>\n",
       "      <td>0</td>\n",
       "      <td>0</td>\n",
       "      <td>0</td>\n",
       "      <td>False</td>\n",
       "      <td>0</td>\n",
       "    </tr>\n",
       "    <tr>\n",
       "      <th>...</th>\n",
       "      <td>...</td>\n",
       "      <td>...</td>\n",
       "      <td>...</td>\n",
       "      <td>...</td>\n",
       "      <td>...</td>\n",
       "      <td>...</td>\n",
       "      <td>...</td>\n",
       "      <td>...</td>\n",
       "      <td>...</td>\n",
       "      <td>...</td>\n",
       "      <td>...</td>\n",
       "      <td>...</td>\n",
       "      <td>...</td>\n",
       "      <td>...</td>\n",
       "      <td>...</td>\n",
       "    </tr>\n",
       "    <tr>\n",
       "      <th>102790</th>\n",
       "      <td>9.965348e+14</td>\n",
       "      <td>5134243</td>\n",
       "      <td>1</td>\n",
       "      <td>2015-12-07 10:44:40+00:00</td>\n",
       "      <td>2016-06-03 00:00:00+00:00</td>\n",
       "      <td>73</td>\n",
       "      <td>MARUÍPE</td>\n",
       "      <td>0</td>\n",
       "      <td>1</td>\n",
       "      <td>1</td>\n",
       "      <td>0</td>\n",
       "      <td>0</td>\n",
       "      <td>0</td>\n",
       "      <td>False</td>\n",
       "      <td>178</td>\n",
       "    </tr>\n",
       "    <tr>\n",
       "      <th>102789</th>\n",
       "      <td>3.112342e+13</td>\n",
       "      <td>5134239</td>\n",
       "      <td>0</td>\n",
       "      <td>2015-12-07 10:44:25+00:00</td>\n",
       "      <td>2016-06-03 00:00:00+00:00</td>\n",
       "      <td>60</td>\n",
       "      <td>SÃO CRISTÓVÃO</td>\n",
       "      <td>0</td>\n",
       "      <td>1</td>\n",
       "      <td>1</td>\n",
       "      <td>0</td>\n",
       "      <td>0</td>\n",
       "      <td>1</td>\n",
       "      <td>False</td>\n",
       "      <td>178</td>\n",
       "    </tr>\n",
       "    <tr>\n",
       "      <th>102788</th>\n",
       "      <td>2.547555e+14</td>\n",
       "      <td>5134249</td>\n",
       "      <td>0</td>\n",
       "      <td>2015-12-07 10:45:01+00:00</td>\n",
       "      <td>2016-06-03 00:00:00+00:00</td>\n",
       "      <td>63</td>\n",
       "      <td>SÃO CRISTÓVÃO</td>\n",
       "      <td>0</td>\n",
       "      <td>1</td>\n",
       "      <td>1</td>\n",
       "      <td>0</td>\n",
       "      <td>0</td>\n",
       "      <td>1</td>\n",
       "      <td>False</td>\n",
       "      <td>178</td>\n",
       "    </tr>\n",
       "    <tr>\n",
       "      <th>102786</th>\n",
       "      <td>4.542871e+11</td>\n",
       "      <td>5134227</td>\n",
       "      <td>1</td>\n",
       "      <td>2015-12-07 10:43:34+00:00</td>\n",
       "      <td>2016-06-03 00:00:00+00:00</td>\n",
       "      <td>67</td>\n",
       "      <td>MARUÍPE</td>\n",
       "      <td>0</td>\n",
       "      <td>1</td>\n",
       "      <td>1</td>\n",
       "      <td>0</td>\n",
       "      <td>0</td>\n",
       "      <td>0</td>\n",
       "      <td>False</td>\n",
       "      <td>178</td>\n",
       "    </tr>\n",
       "    <tr>\n",
       "      <th>102796</th>\n",
       "      <td>9.582232e+12</td>\n",
       "      <td>5134223</td>\n",
       "      <td>0</td>\n",
       "      <td>2015-12-07 10:43:01+00:00</td>\n",
       "      <td>2016-06-03 00:00:00+00:00</td>\n",
       "      <td>80</td>\n",
       "      <td>SÃO CRISTÓVÃO</td>\n",
       "      <td>0</td>\n",
       "      <td>1</td>\n",
       "      <td>1</td>\n",
       "      <td>0</td>\n",
       "      <td>0</td>\n",
       "      <td>1</td>\n",
       "      <td>False</td>\n",
       "      <td>178</td>\n",
       "    </tr>\n",
       "  </tbody>\n",
       "</table>\n",
       "<p>110526 rows × 15 columns</p>\n",
       "</div>"
      ],
      "text/plain": [
       "           PatientId  AppointmentID  Gender              ScheduledDay  \\\n",
       "0       2.987250e+13        5642903       0 2016-04-29 18:38:08+00:00   \n",
       "59680   4.857719e+13        5708254       0 2016-05-17 10:53:42+00:00   \n",
       "59681   8.943385e+14        5707946       1 2016-05-17 10:22:48+00:00   \n",
       "59682   5.224722e+13        5708178       0 2016-05-17 10:43:06+00:00   \n",
       "59683   8.985873e+13        5708169       1 2016-05-17 10:42:19+00:00   \n",
       "...              ...            ...     ...                       ...   \n",
       "102790  9.965348e+14        5134243       1 2015-12-07 10:44:40+00:00   \n",
       "102789  3.112342e+13        5134239       0 2015-12-07 10:44:25+00:00   \n",
       "102788  2.547555e+14        5134249       0 2015-12-07 10:45:01+00:00   \n",
       "102786  4.542871e+11        5134227       1 2015-12-07 10:43:34+00:00   \n",
       "102796  9.582232e+12        5134223       0 2015-12-07 10:43:01+00:00   \n",
       "\n",
       "                  AppointmentDay  Age    Neighbourhood  Scholarship  \\\n",
       "0      2016-04-29 00:00:00+00:00   62  JARDIM DA PENHA            0   \n",
       "59680  2016-05-17 00:00:00+00:00   72      SANTA LUÍZA            0   \n",
       "59681  2016-05-17 00:00:00+00:00   23   PRAIA DO CANTO            0   \n",
       "59682  2016-05-17 00:00:00+00:00   27   PRAIA DO CANTO            0   \n",
       "59683  2016-05-17 00:00:00+00:00    0   BARRO VERMELHO            0   \n",
       "...                          ...  ...              ...          ...   \n",
       "102790 2016-06-03 00:00:00+00:00   73          MARUÍPE            0   \n",
       "102789 2016-06-03 00:00:00+00:00   60    SÃO CRISTÓVÃO            0   \n",
       "102788 2016-06-03 00:00:00+00:00   63    SÃO CRISTÓVÃO            0   \n",
       "102786 2016-06-03 00:00:00+00:00   67          MARUÍPE            0   \n",
       "102796 2016-06-03 00:00:00+00:00   80    SÃO CRISTÓVÃO            0   \n",
       "\n",
       "        Hipertension  Diabetes  Alcoholism  Handcap  SMS_received  No-show  \\\n",
       "0                  1         0           0        0             0    False   \n",
       "59680              0         0           0        0             0    False   \n",
       "59681              0         0           0        0             0    False   \n",
       "59682              0         0           0        0             0    False   \n",
       "59683              0         0           0        0             0    False   \n",
       "...              ...       ...         ...      ...           ...      ...   \n",
       "102790             1         1           0        0             0    False   \n",
       "102789             1         1           0        0             1    False   \n",
       "102788             1         1           0        0             1    False   \n",
       "102786             1         1           0        0             0    False   \n",
       "102796             1         1           0        0             1    False   \n",
       "\n",
       "        days  \n",
       "0          0  \n",
       "59680      0  \n",
       "59681      0  \n",
       "59682      0  \n",
       "59683      0  \n",
       "...      ...  \n",
       "102790   178  \n",
       "102789   178  \n",
       "102788   178  \n",
       "102786   178  \n",
       "102796   178  \n",
       "\n",
       "[110526 rows x 15 columns]"
      ]
     },
     "execution_count": 141,
     "metadata": {},
     "output_type": "execute_result"
    }
   ],
   "source": [
    "df.sort_values(by=['days'])"
   ]
  },
  {
   "cell_type": "markdown",
   "metadata": {},
   "source": [
    "#### 11-Gün farkına göre randevuya katılım oranları "
   ]
  },
  {
   "cell_type": "code",
   "execution_count": 142,
   "metadata": {},
   "outputs": [],
   "source": [
    "noshowy=df[df['No-show']==True][\"days\"]\n",
    "\n",
    "noshown=df[df['No-show']==False][\"days\"]"
   ]
  },
  {
   "cell_type": "code",
   "execution_count": 143,
   "metadata": {},
   "outputs": [
    {
     "data": {
      "image/png": "[encoded data removed]",
      "text/plain": [
       "<Figure size 1440x864 with 1 Axes>"
      ]
     },
     "metadata": {},
     "output_type": "display_data"
    }
   ],
   "source": [
    "sns.set()\n",
    "plt.figure(figsize=(20, 12))\n",
    "\n",
    "plt.subplot(1,1,1)\n",
    "plt.bar(noshown.value_counts().index,noshown.value_counts(), color = \"GREEN\",label = 'No-show:NO')\n",
    "plt.xticks(rotation = 90, fontsize = 9)\n",
    "plt.xlabel('AppointmentDay-ScheduleDay | No-show:NO ',fontdict = axis_style)\n",
    "\n",
    "plt.subplot(1,1,1)\n",
    "plt.bar(noshowy.value_counts().index,noshowy.value_counts(), color = \"RED\",label = 'No-show:YES')\n",
    "plt.xticks(rotation = 90, fontsize = 9)\n",
    "plt.xlabel('AppointmentDay-ScheduleDay | No-shows ',fontdict = axis_style)\n",
    "plt.ylim(0,7000)\n",
    "plt.legend()\n",
    "\n",
    "\n",
    "\n",
    "plt.show() #s smote"
   ]
  },
  {
   "cell_type": "markdown",
   "metadata": {},
   "source": [
    "> Aynı gün alınan randevulara katılım oranının daha yüksek olduğunu görüyoruz."
   ]
  },
  {
   "cell_type": "code",
   "execution_count": 144,
   "metadata": {},
   "outputs": [
    {
     "data": {
      "application/vnd.plotly.v1+json": {
       "config": {
        "plotlyServerURL": "https://plot.ly"
       },
       "data": [
        {
         "alignmentgroup": "True",
         "hovertemplate": "How many days ago=%{x}<br>rate of not attending to appointment=%{y}<extra></extra>",
         "legendgroup": "",
         "marker": {
          "color": "#636efa"
         },
         "name": "",
         "offsetgroup": "",
         "orientation": "v",
         "showlegend": false,
         "textposition": "auto",
         "type": "bar",
         "x": [
          0,
          1,
          2,
          3,
          4,
          5,
          6,
          7,
          8,
          9,
          10,
          11,
          12,
          13,
          14,
          15,
          16,
          17,
          18,
          19,
          20,
          21,
          22,
          23,
          24,
          25,
          26,
          27,
          28,
          29,
          30,
          31,
          32,
          33,
          34,
          35,
          36,
          37,
          38,
          39,
          40,
          41,
          42,
          43,
          44,
          45,
          46,
          47,
          48,
          49,
          50,
          51,
          52,
          53,
          54,
          55,
          56,
          57,
          58,
          59,
          60,
          61,
          62,
          63,
          64,
          65,
          66,
          67,
          68,
          69,
          70,
          71,
          72,
          73,
          74,
          75,
          76,
          77,
          78,
          79,
          80,
          81,
          82,
          83,
          84,
          85,
          86,
          87,
          88,
          89,
          90,
          91,
          92,
          93,
          94,
          95,
          96,
          97,
          100,
          101,
          102,
          103,
          104,
          106,
          107,
          108,
          109,
          110,
          111,
          114,
          116,
          118,
          121,
          122,
          124,
          125,
          126,
          131,
          132,
          138,
          141,
          145,
          150,
          154,
          161,
          168,
          175,
          178
         ],
         "xaxis": "x",
         "y": [
          93.35312928277753,
          76.17843866171003,
          76.47058823529412,
          76.72967863894141,
          73.39029600244126,
          75.20435967302453,
          73.31838565022422,
          71.26929674099486,
          72.58566978193146,
          68.36808051761322,
          68.38905775075987,
          68.3408071748879,
          68.13317479191439,
          68.65774116031582,
          66.60013306719893,
          69.50477845351868,
          68.38301716350497,
          69.44172380019589,
          65.22988505747126,
          65.62763268744735,
          69.10263299301451,
          65.55839727195226,
          66.42335766423358,
          62.21864951768489,
          59.811616954474104,
          64.0218878248974,
          68.41066140177689,
          70.5158264947245,
          67.30945821854912,
          73.4375,
          67.26190476190477,
          64.84641638225256,
          66.56626506024097,
          66.58415841584159,
          62.72066458982347,
          68.96551724137932,
          64.04833836858006,
          65.82914572864321,
          67.64705882352942,
          59.4488188976378,
          64.61988304093568,
          63.06954436450839,
          70.07874015748031,
          70.06369426751591,
          63.503649635036496,
          63.63636363636363,
          69.72477064220183,
          70.94017094017094,
          65.27777777777779,
          73.07692307692307,
          63.73626373626373,
          74.44444444444444,
          65.625,
          63.013698630136986,
          55.04587155963303,
          74.8768472906404,
          62.244897959183675,
          67.27272727272727,
          63.33333333333333,
          57.534246575342465,
          77.03703703703704,
          79.27461139896373,
          73.5,
          62.66666666666667,
          70.10309278350515,
          70.37037037037037,
          69.84126984126983,
          67.14285714285714,
          67.61904761904762,
          68.75,
          78,
          69.81132075471697,
          64.86486486486487,
          66.66666666666666,
          69.44444444444444,
          69.23076923076923,
          66.0377358490566,
          60.60606060606061,
          60.86956521739131,
          55.55555555555556,
          60,
          null,
          87.5,
          77.77777777777779,
          78.37837837837837,
          83.33333333333334,
          68.75,
          68.75,
          58.82352941176471,
          75.86206896551724,
          78.57142857142857,
          null,
          null,
          null,
          80,
          75,
          null,
          80,
          null,
          75,
          40,
          25,
          null,
          null,
          null,
          null,
          50,
          80,
          null,
          null,
          null,
          null,
          null,
          null,
          null,
          null,
          null,
          null,
          63.63636363636363,
          null,
          62.5,
          null,
          null,
          40,
          81.81818181818183,
          87.5,
          62.5,
          80
         ],
         "yaxis": "y"
        }
       ],
       "layout": {
        "barmode": "relative",
        "legend": {
         "tracegroupgap": 0
        },
        "template": {
         "data": {
          "bar": [
           {
            "error_x": {
             "color": "#2a3f5f"
            },
            "error_y": {
             "color": "#2a3f5f"
            },
            "marker": {
             "line": {
              "color": "#E5ECF6",
              "width": 0.5
             }
            },
            "type": "bar"
           }
          ],
          "barpolar": [
           {
            "marker": {
             "line": {
              "color": "#E5ECF6",
              "width": 0.5
             }
            },
            "type": "barpolar"
           }
          ],
          "carpet": [
           {
            "aaxis": {
             "endlinecolor": "#2a3f5f",
             "gridcolor": "white",
             "linecolor": "white",
             "minorgridcolor": "white",
             "startlinecolor": "#2a3f5f"
            },
            "baxis": {
             "endlinecolor": "#2a3f5f",
             "gridcolor": "white",
             "linecolor": "white",
             "minorgridcolor": "white",
             "startlinecolor": "#2a3f5f"
            },
            "type": "carpet"
           }
          ],
          "choropleth": [
           {
            "colorbar": {
             "outlinewidth": 0,
             "ticks": ""
            },
            "type": "choropleth"
           }
          ],
          "contour": [
           {
            "colorbar": {
             "outlinewidth": 0,
             "ticks": ""
            },
            "colorscale": [
             [
              0,
              "#0d0887"
             ],
             [
              0.1111111111111111,
              "#46039f"
             ],
             [
              0.2222222222222222,
              "#7201a8"
             ],
             [
              0.3333333333333333,
              "#9c179e"
             ],
             [
              0.4444444444444444,
              "#bd3786"
             ],
             [
              0.5555555555555556,
              "#d8576b"
             ],
             [
              0.6666666666666666,
              "#ed7953"
             ],
             [
              0.7777777777777778,
              "#fb9f3a"
             ],
             [
              0.8888888888888888,
              "#fdca26"
             ],
             [
              1,
              "#f0f921"
             ]
            ],
            "type": "contour"
           }
          ],
          "contourcarpet": [
           {
            "colorbar": {
             "outlinewidth": 0,
             "ticks": ""
            },
            "type": "contourcarpet"
           }
          ],
          "heatmap": [
           {
            "colorbar": {
             "outlinewidth": 0,
             "ticks": ""
            },
            "colorscale": [
             [
              0,
              "#0d0887"
             ],
             [
              0.1111111111111111,
              "#46039f"
             ],
             [
              0.2222222222222222,
              "#7201a8"
             ],
             [
              0.3333333333333333,
              "#9c179e"
             ],
             [
              0.4444444444444444,
              "#bd3786"
             ],
             [
              0.5555555555555556,
              "#d8576b"
             ],
             [
              0.6666666666666666,
              "#ed7953"
             ],
             [
              0.7777777777777778,
              "#fb9f3a"
             ],
             [
              0.8888888888888888,
              "#fdca26"
             ],
             [
              1,
              "#f0f921"
             ]
            ],
            "type": "heatmap"
           }
          ],
          "heatmapgl": [
           {
            "colorbar": {
             "outlinewidth": 0,
             "ticks": ""
            },
            "colorscale": [
             [
              0,
              "#0d0887"
             ],
             [
              0.1111111111111111,
              "#46039f"
             ],
             [
              0.2222222222222222,
              "#7201a8"
             ],
             [
              0.3333333333333333,
              "#9c179e"
             ],
             [
              0.4444444444444444,
              "#bd3786"
             ],
             [
              0.5555555555555556,
              "#d8576b"
             ],
             [
              0.6666666666666666,
              "#ed7953"
             ],
             [
              0.7777777777777778,
              "#fb9f3a"
             ],
             [
              0.8888888888888888,
              "#fdca26"
             ],
             [
              1,
              "#f0f921"
             ]
            ],
            "type": "heatmapgl"
           }
          ],
          "histogram": [
           {
            "marker": {
             "colorbar": {
              "outlinewidth": 0,
              "ticks": ""
             }
            },
            "type": "histogram"
           }
          ],
          "histogram2d": [
           {
            "colorbar": {
             "outlinewidth": 0,
             "ticks": ""
            },
            "colorscale": [
             [
              0,
              "#0d0887"
             ],
             [
              0.1111111111111111,
              "#46039f"
             ],
             [
              0.2222222222222222,
              "#7201a8"
             ],
             [
              0.3333333333333333,
              "#9c179e"
             ],
             [
              0.4444444444444444,
              "#bd3786"
             ],
             [
              0.5555555555555556,
              "#d8576b"
             ],
             [
              0.6666666666666666,
              "#ed7953"
             ],
             [
              0.7777777777777778,
              "#fb9f3a"
             ],
             [
              0.8888888888888888,
              "#fdca26"
             ],
             [
              1,
              "#f0f921"
             ]
            ],
            "type": "histogram2d"
           }
          ],
          "histogram2dcontour": [
           {
            "colorbar": {
             "outlinewidth": 0,
             "ticks": ""
            },
            "colorscale": [
             [
              0,
              "#0d0887"
             ],
             [
              0.1111111111111111,
              "#46039f"
             ],
             [
              0.2222222222222222,
              "#7201a8"
             ],
             [
              0.3333333333333333,
              "#9c179e"
             ],
             [
              0.4444444444444444,
              "#bd3786"
             ],
             [
              0.5555555555555556,
              "#d8576b"
             ],
             [
              0.6666666666666666,
              "#ed7953"
             ],
             [
              0.7777777777777778,
              "#fb9f3a"
             ],
             [
              0.8888888888888888,
              "#fdca26"
             ],
             [
              1,
              "#f0f921"
             ]
            ],
            "type": "histogram2dcontour"
           }
          ],
          "mesh3d": [
           {
            "colorbar": {
             "outlinewidth": 0,
             "ticks": ""
            },
            "type": "mesh3d"
           }
          ],
          "parcoords": [
           {
            "line": {
             "colorbar": {
              "outlinewidth": 0,
              "ticks": ""
             }
            },
            "type": "parcoords"
           }
          ],
          "pie": [
           {
            "automargin": true,
            "type": "pie"
           }
          ],
          "scatter": [
           {
            "marker": {
             "colorbar": {
              "outlinewidth": 0,
              "ticks": ""
             }
            },
            "type": "scatter"
           }
          ],
          "scatter3d": [
           {
            "line": {
             "colorbar": {
              "outlinewidth": 0,
              "ticks": ""
             }
            },
            "marker": {
             "colorbar": {
              "outlinewidth": 0,
              "ticks": ""
             }
            },
            "type": "scatter3d"
           }
          ],
          "scattercarpet": [
           {
            "marker": {
             "colorbar": {
              "outlinewidth": 0,
              "ticks": ""
             }
            },
            "type": "scattercarpet"
           }
          ],
          "scattergeo": [
           {
            "marker": {
             "colorbar": {
              "outlinewidth": 0,
              "ticks": ""
             }
            },
            "type": "scattergeo"
           }
          ],
          "scattergl": [
           {
            "marker": {
             "colorbar": {
              "outlinewidth": 0,
              "ticks": ""
             }
            },
            "type": "scattergl"
           }
          ],
          "scattermapbox": [
           {
            "marker": {
             "colorbar": {
              "outlinewidth": 0,
              "ticks": ""
             }
            },
            "type": "scattermapbox"
           }
          ],
          "scatterpolar": [
           {
            "marker": {
             "colorbar": {
              "outlinewidth": 0,
              "ticks": ""
             }
            },
            "type": "scatterpolar"
           }
          ],
          "scatterpolargl": [
           {
            "marker": {
             "colorbar": {
              "outlinewidth": 0,
              "ticks": ""
             }
            },
            "type": "scatterpolargl"
           }
          ],
          "scatterternary": [
           {
            "marker": {
             "colorbar": {
              "outlinewidth": 0,
              "ticks": ""
             }
            },
            "type": "scatterternary"
           }
          ],
          "surface": [
           {
            "colorbar": {
             "outlinewidth": 0,
             "ticks": ""
            },
            "colorscale": [
             [
              0,
              "#0d0887"
             ],
             [
              0.1111111111111111,
              "#46039f"
             ],
             [
              0.2222222222222222,
              "#7201a8"
             ],
             [
              0.3333333333333333,
              "#9c179e"
             ],
             [
              0.4444444444444444,
              "#bd3786"
             ],
             [
              0.5555555555555556,
              "#d8576b"
             ],
             [
              0.6666666666666666,
              "#ed7953"
             ],
             [
              0.7777777777777778,
              "#fb9f3a"
             ],
             [
              0.8888888888888888,
              "#fdca26"
             ],
             [
              1,
              "#f0f921"
             ]
            ],
            "type": "surface"
           }
          ],
          "table": [
           {
            "cells": {
             "fill": {
              "color": "#EBF0F8"
             },
             "line": {
              "color": "white"
             }
            },
            "header": {
             "fill": {
              "color": "#C8D4E3"
             },
             "line": {
              "color": "white"
             }
            },
            "type": "table"
           }
          ]
         },
         "layout": {
          "annotationdefaults": {
           "arrowcolor": "#2a3f5f",
           "arrowhead": 0,
           "arrowwidth": 1
          },
          "coloraxis": {
           "colorbar": {
            "outlinewidth": 0,
            "ticks": ""
           }
          },
          "colorscale": {
           "diverging": [
            [
             0,
             "#8e0152"
            ],
            [
             0.1,
             "#c51b7d"
            ],
            [
             0.2,
             "#de77ae"
            ],
            [
             0.3,
             "#f1b6da"
            ],
            [
             0.4,
             "#fde0ef"
            ],
            [
             0.5,
             "#f7f7f7"
            ],
            [
             0.6,
             "#e6f5d0"
            ],
            [
             0.7,
             "#b8e186"
            ],
            [
             0.8,
             "#7fbc41"
            ],
            [
             0.9,
             "#4d9221"
            ],
            [
             1,
             "#276419"
            ]
           ],
           "sequential": [
            [
             0,
             "#0d0887"
            ],
            [
             0.1111111111111111,
             "#46039f"
            ],
            [
             0.2222222222222222,
             "#7201a8"
            ],
            [
             0.3333333333333333,
             "#9c179e"
            ],
            [
             0.4444444444444444,
             "#bd3786"
            ],
            [
             0.5555555555555556,
             "#d8576b"
            ],
            [
             0.6666666666666666,
             "#ed7953"
            ],
            [
             0.7777777777777778,
             "#fb9f3a"
            ],
            [
             0.8888888888888888,
             "#fdca26"
            ],
            [
             1,
             "#f0f921"
            ]
           ],
           "sequentialminus": [
            [
             0,
             "#0d0887"
            ],
            [
             0.1111111111111111,
             "#46039f"
            ],
            [
             0.2222222222222222,
             "#7201a8"
            ],
            [
             0.3333333333333333,
             "#9c179e"
            ],
            [
             0.4444444444444444,
             "#bd3786"
            ],
            [
             0.5555555555555556,
             "#d8576b"
            ],
            [
             0.6666666666666666,
             "#ed7953"
            ],
            [
             0.7777777777777778,
             "#fb9f3a"
            ],
            [
             0.8888888888888888,
             "#fdca26"
            ],
            [
             1,
             "#f0f921"
            ]
           ]
          },
          "colorway": [
           "#636efa",
           "#EF553B",
           "#00cc96",
           "#ab63fa",
           "#FFA15A",
           "#19d3f3",
           "#FF6692",
           "#B6E880",
           "#FF97FF",
           "#FECB52"
          ],
          "font": {
           "color": "#2a3f5f"
          },
          "geo": {
           "bgcolor": "white",
           "lakecolor": "white",
           "landcolor": "#E5ECF6",
           "showlakes": true,
           "showland": true,
           "subunitcolor": "white"
          },
          "hoverlabel": {
           "align": "left"
          },
          "hovermode": "closest",
          "mapbox": {
           "style": "light"
          },
          "paper_bgcolor": "white",
          "plot_bgcolor": "#E5ECF6",
          "polar": {
           "angularaxis": {
            "gridcolor": "white",
            "linecolor": "white",
            "ticks": ""
           },
           "bgcolor": "#E5ECF6",
           "radialaxis": {
            "gridcolor": "white",
            "linecolor": "white",
            "ticks": ""
           }
          },
          "scene": {
           "xaxis": {
            "backgroundcolor": "#E5ECF6",
            "gridcolor": "white",
            "gridwidth": 2,
            "linecolor": "white",
            "showbackground": true,
            "ticks": "",
            "zerolinecolor": "white"
           },
           "yaxis": {
            "backgroundcolor": "#E5ECF6",
            "gridcolor": "white",
            "gridwidth": 2,
            "linecolor": "white",
            "showbackground": true,
            "ticks": "",
            "zerolinecolor": "white"
           },
           "zaxis": {
            "backgroundcolor": "#E5ECF6",
            "gridcolor": "white",
            "gridwidth": 2,
            "linecolor": "white",
            "showbackground": true,
            "ticks": "",
            "zerolinecolor": "white"
           }
          },
          "shapedefaults": {
           "line": {
            "color": "#2a3f5f"
           }
          },
          "ternary": {
           "aaxis": {
            "gridcolor": "white",
            "linecolor": "white",
            "ticks": ""
           },
           "baxis": {
            "gridcolor": "white",
            "linecolor": "white",
            "ticks": ""
           },
           "bgcolor": "#E5ECF6",
           "caxis": {
            "gridcolor": "white",
            "linecolor": "white",
            "ticks": ""
           }
          },
          "title": {
           "x": 0.05
          },
          "xaxis": {
           "automargin": true,
           "gridcolor": "white",
           "linecolor": "white",
           "ticks": "",
           "title": {
            "standoff": 15
           },
           "zerolinecolor": "white",
           "zerolinewidth": 2
          },
          "yaxis": {
           "automargin": true,
           "gridcolor": "white",
           "linecolor": "white",
           "ticks": "",
           "title": {
            "standoff": 15
           },
           "zerolinecolor": "white",
           "zerolinewidth": 2
          }
         }
        },
        "title": {
         "text": "Percentage of customers not attending the daily appointment"
        },
        "xaxis": {
         "anchor": "y",
         "domain": [
          0,
          1
         ],
         "title": {
          "text": "How many days ago"
         }
        },
        "yaxis": {
         "anchor": "x",
         "domain": [
          0,
          1
         ],
         "title": {
          "text": "rate of not attending to appointment"
         }
        }
       }
      },
      "text/html": [
       "<div>\n",
       "        \n",
       "        \n",
       "            <div id=\"6f88fab2-5830-4181-857d-7049d4434f0b\" class=\"plotly-graph-div\" style=\"height:525px; width:100%;\"></div>\n",
       "            <script type=\"text/javascript\">\n",
       "                require([\"plotly\"], function(Plotly) {\n",
       "                    window.PLOTLYENV=window.PLOTLYENV || {};\n",
       "                    \n",
       "                if (document.getElementById(\"6f88fab2-5830-4181-857d-7049d4434f0b\")) {\n",
       "                    Plotly.newPlot(\n",
       "                        '6f88fab2-5830-4181-857d-7049d4434f0b',\n",
       "                        [{\"alignmentgroup\": \"True\", \"hovertemplate\": \"How many days ago=%{x}<br>rate of not attending to appointment=%{y}<extra></extra>\", \"legendgroup\": \"\", \"marker\": {\"color\": \"#636efa\"}, \"name\": \"\", \"offsetgroup\": \"\", \"orientation\": \"v\", \"showlegend\": false, \"textposition\": \"auto\", \"type\": \"bar\", \"x\": [0, 1, 2, 3, 4, 5, 6, 7, 8, 9, 10, 11, 12, 13, 14, 15, 16, 17, 18, 19, 20, 21, 22, 23, 24, 25, 26, 27, 28, 29, 30, 31, 32, 33, 34, 35, 36, 37, 38, 39, 40, 41, 42, 43, 44, 45, 46, 47, 48, 49, 50, 51, 52, 53, 54, 55, 56, 57, 58, 59, 60, 61, 62, 63, 64, 65, 66, 67, 68, 69, 70, 71, 72, 73, 74, 75, 76, 77, 78, 79, 80, 81, 82, 83, 84, 85, 86, 87, 88, 89, 90, 91, 92, 93, 94, 95, 96, 97, 100, 101, 102, 103, 104, 106, 107, 108, 109, 110, 111, 114, 116, 118, 121, 122, 124, 125, 126, 131, 132, 138, 141, 145, 150, 154, 161, 168, 175, 178], \"xaxis\": \"x\", \"y\": [93.35312928277753, 76.17843866171003, 76.47058823529412, 76.72967863894141, 73.39029600244126, 75.20435967302453, 73.31838565022422, 71.26929674099486, 72.58566978193146, 68.36808051761322, 68.38905775075987, 68.3408071748879, 68.13317479191439, 68.65774116031582, 66.60013306719893, 69.50477845351868, 68.38301716350497, 69.44172380019589, 65.22988505747126, 65.62763268744735, 69.10263299301451, 65.55839727195226, 66.42335766423358, 62.21864951768489, 59.811616954474104, 64.0218878248974, 68.41066140177689, 70.5158264947245, 67.30945821854912, 73.4375, 67.26190476190477, 64.84641638225256, 66.56626506024097, 66.58415841584159, 62.72066458982347, 68.96551724137932, 64.04833836858006, 65.82914572864321, 67.64705882352942, 59.4488188976378, 64.61988304093568, 63.06954436450839, 70.07874015748031, 70.06369426751591, 63.503649635036496, 63.63636363636363, 69.72477064220183, 70.94017094017094, 65.27777777777779, 73.07692307692307, 63.73626373626373, 74.44444444444444, 65.625, 63.013698630136986, 55.04587155963303, 74.8768472906404, 62.244897959183675, 67.27272727272727, 63.33333333333333, 57.534246575342465, 77.03703703703704, 79.27461139896373, 73.5, 62.66666666666667, 70.10309278350515, 70.37037037037037, 69.84126984126983, 67.14285714285714, 67.61904761904762, 68.75, 78.0, 69.81132075471697, 64.86486486486487, 66.66666666666666, 69.44444444444444, 69.23076923076923, 66.0377358490566, 60.60606060606061, 60.86956521739131, 55.55555555555556, 60.0, null, 87.5, 77.77777777777779, 78.37837837837837, 83.33333333333334, 68.75, 68.75, 58.82352941176471, 75.86206896551724, 78.57142857142857, null, null, null, 80.0, 75.0, null, 80.0, null, 75.0, 40.0, 25.0, null, null, null, null, 50.0, 80.0, null, null, null, null, null, null, null, null, null, null, 63.63636363636363, null, 62.5, null, null, 40.0, 81.81818181818183, 87.5, 62.5, 80.0], \"yaxis\": \"y\"}],\n",
       "                        {\"barmode\": \"relative\", \"legend\": {\"tracegroupgap\": 0}, \"template\": {\"data\": {\"bar\": [{\"error_x\": {\"color\": \"#2a3f5f\"}, \"error_y\": {\"color\": \"#2a3f5f\"}, \"marker\": {\"line\": {\"color\": \"#E5ECF6\", \"width\": 0.5}}, \"type\": \"bar\"}], \"barpolar\": [{\"marker\": {\"line\": {\"color\": \"#E5ECF6\", \"width\": 0.5}}, \"type\": \"barpolar\"}], \"carpet\": [{\"aaxis\": {\"endlinecolor\": \"#2a3f5f\", \"gridcolor\": \"white\", \"linecolor\": \"white\", \"minorgridcolor\": \"white\", \"startlinecolor\": \"#2a3f5f\"}, \"baxis\": {\"endlinecolor\": \"#2a3f5f\", \"gridcolor\": \"white\", \"linecolor\": \"white\", \"minorgridcolor\": \"white\", \"startlinecolor\": \"#2a3f5f\"}, \"type\": \"carpet\"}], \"choropleth\": [{\"colorbar\": {\"outlinewidth\": 0, \"ticks\": \"\"}, \"type\": \"choropleth\"}], \"contour\": [{\"colorbar\": {\"outlinewidth\": 0, \"ticks\": \"\"}, \"colorscale\": [[0.0, \"#0d0887\"], [0.1111111111111111, \"#46039f\"], [0.2222222222222222, \"#7201a8\"], [0.3333333333333333, \"#9c179e\"], [0.4444444444444444, \"#bd3786\"], [0.5555555555555556, \"#d8576b\"], [0.6666666666666666, \"#ed7953\"], [0.7777777777777778, \"#fb9f3a\"], [0.8888888888888888, \"#fdca26\"], [1.0, \"#f0f921\"]], \"type\": \"contour\"}], \"contourcarpet\": [{\"colorbar\": {\"outlinewidth\": 0, \"ticks\": \"\"}, \"type\": \"contourcarpet\"}], \"heatmap\": [{\"colorbar\": {\"outlinewidth\": 0, \"ticks\": \"\"}, \"colorscale\": [[0.0, \"#0d0887\"], [0.1111111111111111, \"#46039f\"], [0.2222222222222222, \"#7201a8\"], [0.3333333333333333, \"#9c179e\"], [0.4444444444444444, \"#bd3786\"], [0.5555555555555556, \"#d8576b\"], [0.6666666666666666, \"#ed7953\"], [0.7777777777777778, \"#fb9f3a\"], [0.8888888888888888, \"#fdca26\"], [1.0, \"#f0f921\"]], \"type\": \"heatmap\"}], \"heatmapgl\": [{\"colorbar\": {\"outlinewidth\": 0, \"ticks\": \"\"}, \"colorscale\": [[0.0, \"#0d0887\"], [0.1111111111111111, \"#46039f\"], [0.2222222222222222, \"#7201a8\"], [0.3333333333333333, \"#9c179e\"], [0.4444444444444444, \"#bd3786\"], [0.5555555555555556, \"#d8576b\"], [0.6666666666666666, \"#ed7953\"], [0.7777777777777778, \"#fb9f3a\"], [0.8888888888888888, \"#fdca26\"], [1.0, \"#f0f921\"]], \"type\": \"heatmapgl\"}], \"histogram\": [{\"marker\": {\"colorbar\": {\"outlinewidth\": 0, \"ticks\": \"\"}}, \"type\": \"histogram\"}], \"histogram2d\": [{\"colorbar\": {\"outlinewidth\": 0, \"ticks\": \"\"}, \"colorscale\": [[0.0, \"#0d0887\"], [0.1111111111111111, \"#46039f\"], [0.2222222222222222, \"#7201a8\"], [0.3333333333333333, \"#9c179e\"], [0.4444444444444444, \"#bd3786\"], [0.5555555555555556, \"#d8576b\"], [0.6666666666666666, \"#ed7953\"], [0.7777777777777778, \"#fb9f3a\"], [0.8888888888888888, \"#fdca26\"], [1.0, \"#f0f921\"]], \"type\": \"histogram2d\"}], \"histogram2dcontour\": [{\"colorbar\": {\"outlinewidth\": 0, \"ticks\": \"\"}, \"colorscale\": [[0.0, \"#0d0887\"], [0.1111111111111111, \"#46039f\"], [0.2222222222222222, \"#7201a8\"], [0.3333333333333333, \"#9c179e\"], [0.4444444444444444, \"#bd3786\"], [0.5555555555555556, \"#d8576b\"], [0.6666666666666666, \"#ed7953\"], [0.7777777777777778, \"#fb9f3a\"], [0.8888888888888888, \"#fdca26\"], [1.0, \"#f0f921\"]], \"type\": \"histogram2dcontour\"}], \"mesh3d\": [{\"colorbar\": {\"outlinewidth\": 0, \"ticks\": \"\"}, \"type\": \"mesh3d\"}], \"parcoords\": [{\"line\": {\"colorbar\": {\"outlinewidth\": 0, \"ticks\": \"\"}}, \"type\": \"parcoords\"}], \"pie\": [{\"automargin\": true, \"type\": \"pie\"}], \"scatter\": [{\"marker\": {\"colorbar\": {\"outlinewidth\": 0, \"ticks\": \"\"}}, \"type\": \"scatter\"}], \"scatter3d\": [{\"line\": {\"colorbar\": {\"outlinewidth\": 0, \"ticks\": \"\"}}, \"marker\": {\"colorbar\": {\"outlinewidth\": 0, \"ticks\": \"\"}}, \"type\": \"scatter3d\"}], \"scattercarpet\": [{\"marker\": {\"colorbar\": {\"outlinewidth\": 0, \"ticks\": \"\"}}, \"type\": \"scattercarpet\"}], \"scattergeo\": [{\"marker\": {\"colorbar\": {\"outlinewidth\": 0, \"ticks\": \"\"}}, \"type\": \"scattergeo\"}], \"scattergl\": [{\"marker\": {\"colorbar\": {\"outlinewidth\": 0, \"ticks\": \"\"}}, \"type\": \"scattergl\"}], \"scattermapbox\": [{\"marker\": {\"colorbar\": {\"outlinewidth\": 0, \"ticks\": \"\"}}, \"type\": \"scattermapbox\"}], \"scatterpolar\": [{\"marker\": {\"colorbar\": {\"outlinewidth\": 0, \"ticks\": \"\"}}, \"type\": \"scatterpolar\"}], \"scatterpolargl\": [{\"marker\": {\"colorbar\": {\"outlinewidth\": 0, \"ticks\": \"\"}}, \"type\": \"scatterpolargl\"}], \"scatterternary\": [{\"marker\": {\"colorbar\": {\"outlinewidth\": 0, \"ticks\": \"\"}}, \"type\": \"scatterternary\"}], \"surface\": [{\"colorbar\": {\"outlinewidth\": 0, \"ticks\": \"\"}, \"colorscale\": [[0.0, \"#0d0887\"], [0.1111111111111111, \"#46039f\"], [0.2222222222222222, \"#7201a8\"], [0.3333333333333333, \"#9c179e\"], [0.4444444444444444, \"#bd3786\"], [0.5555555555555556, \"#d8576b\"], [0.6666666666666666, \"#ed7953\"], [0.7777777777777778, \"#fb9f3a\"], [0.8888888888888888, \"#fdca26\"], [1.0, \"#f0f921\"]], \"type\": \"surface\"}], \"table\": [{\"cells\": {\"fill\": {\"color\": \"#EBF0F8\"}, \"line\": {\"color\": \"white\"}}, \"header\": {\"fill\": {\"color\": \"#C8D4E3\"}, \"line\": {\"color\": \"white\"}}, \"type\": \"table\"}]}, \"layout\": {\"annotationdefaults\": {\"arrowcolor\": \"#2a3f5f\", \"arrowhead\": 0, \"arrowwidth\": 1}, \"coloraxis\": {\"colorbar\": {\"outlinewidth\": 0, \"ticks\": \"\"}}, \"colorscale\": {\"diverging\": [[0, \"#8e0152\"], [0.1, \"#c51b7d\"], [0.2, \"#de77ae\"], [0.3, \"#f1b6da\"], [0.4, \"#fde0ef\"], [0.5, \"#f7f7f7\"], [0.6, \"#e6f5d0\"], [0.7, \"#b8e186\"], [0.8, \"#7fbc41\"], [0.9, \"#4d9221\"], [1, \"#276419\"]], \"sequential\": [[0.0, \"#0d0887\"], [0.1111111111111111, \"#46039f\"], [0.2222222222222222, \"#7201a8\"], [0.3333333333333333, \"#9c179e\"], [0.4444444444444444, \"#bd3786\"], [0.5555555555555556, \"#d8576b\"], [0.6666666666666666, \"#ed7953\"], [0.7777777777777778, \"#fb9f3a\"], [0.8888888888888888, \"#fdca26\"], [1.0, \"#f0f921\"]], \"sequentialminus\": [[0.0, \"#0d0887\"], [0.1111111111111111, \"#46039f\"], [0.2222222222222222, \"#7201a8\"], [0.3333333333333333, \"#9c179e\"], [0.4444444444444444, \"#bd3786\"], [0.5555555555555556, \"#d8576b\"], [0.6666666666666666, \"#ed7953\"], [0.7777777777777778, \"#fb9f3a\"], [0.8888888888888888, \"#fdca26\"], [1.0, \"#f0f921\"]]}, \"colorway\": [\"#636efa\", \"#EF553B\", \"#00cc96\", \"#ab63fa\", \"#FFA15A\", \"#19d3f3\", \"#FF6692\", \"#B6E880\", \"#FF97FF\", \"#FECB52\"], \"font\": {\"color\": \"#2a3f5f\"}, \"geo\": {\"bgcolor\": \"white\", \"lakecolor\": \"white\", \"landcolor\": \"#E5ECF6\", \"showlakes\": true, \"showland\": true, \"subunitcolor\": \"white\"}, \"hoverlabel\": {\"align\": \"left\"}, \"hovermode\": \"closest\", \"mapbox\": {\"style\": \"light\"}, \"paper_bgcolor\": \"white\", \"plot_bgcolor\": \"#E5ECF6\", \"polar\": {\"angularaxis\": {\"gridcolor\": \"white\", \"linecolor\": \"white\", \"ticks\": \"\"}, \"bgcolor\": \"#E5ECF6\", \"radialaxis\": {\"gridcolor\": \"white\", \"linecolor\": \"white\", \"ticks\": \"\"}}, \"scene\": {\"xaxis\": {\"backgroundcolor\": \"#E5ECF6\", \"gridcolor\": \"white\", \"gridwidth\": 2, \"linecolor\": \"white\", \"showbackground\": true, \"ticks\": \"\", \"zerolinecolor\": \"white\"}, \"yaxis\": {\"backgroundcolor\": \"#E5ECF6\", \"gridcolor\": \"white\", \"gridwidth\": 2, \"linecolor\": \"white\", \"showbackground\": true, \"ticks\": \"\", \"zerolinecolor\": \"white\"}, \"zaxis\": {\"backgroundcolor\": \"#E5ECF6\", \"gridcolor\": \"white\", \"gridwidth\": 2, \"linecolor\": \"white\", \"showbackground\": true, \"ticks\": \"\", \"zerolinecolor\": \"white\"}}, \"shapedefaults\": {\"line\": {\"color\": \"#2a3f5f\"}}, \"ternary\": {\"aaxis\": {\"gridcolor\": \"white\", \"linecolor\": \"white\", \"ticks\": \"\"}, \"baxis\": {\"gridcolor\": \"white\", \"linecolor\": \"white\", \"ticks\": \"\"}, \"bgcolor\": \"#E5ECF6\", \"caxis\": {\"gridcolor\": \"white\", \"linecolor\": \"white\", \"ticks\": \"\"}}, \"title\": {\"x\": 0.05}, \"xaxis\": {\"automargin\": true, \"gridcolor\": \"white\", \"linecolor\": \"white\", \"ticks\": \"\", \"title\": {\"standoff\": 15}, \"zerolinecolor\": \"white\", \"zerolinewidth\": 2}, \"yaxis\": {\"automargin\": true, \"gridcolor\": \"white\", \"linecolor\": \"white\", \"ticks\": \"\", \"title\": {\"standoff\": 15}, \"zerolinecolor\": \"white\", \"zerolinewidth\": 2}}}, \"title\": {\"text\": \"Percentage of customers not attending the daily appointment\"}, \"xaxis\": {\"anchor\": \"y\", \"domain\": [0.0, 1.0], \"title\": {\"text\": \"How many days ago\"}}, \"yaxis\": {\"anchor\": \"x\", \"domain\": [0.0, 1.0], \"title\": {\"text\": \"rate of not attending to appointment\"}}},\n",
       "                        {\"responsive\": true}\n",
       "                    ).then(function(){\n",
       "                            \n",
       "var gd = document.getElementById('6f88fab2-5830-4181-857d-7049d4434f0b');\n",
       "var x = new MutationObserver(function (mutations, observer) {{\n",
       "        var display = window.getComputedStyle(gd).display;\n",
       "        if (!display || display === 'none') {{\n",
       "            console.log([gd, 'removed!']);\n",
       "            Plotly.purge(gd);\n",
       "            observer.disconnect();\n",
       "        }}\n",
       "}});\n",
       "\n",
       "// Listen for the removal of the full notebook cells\n",
       "var notebookContainer = gd.closest('#notebook-container');\n",
       "if (notebookContainer) {{\n",
       "    x.observe(notebookContainer, {childList: true});\n",
       "}}\n",
       "\n",
       "// Listen for the clearing of the current output cell\n",
       "var outputEl = gd.closest('.output');\n",
       "if (outputEl) {{\n",
       "    x.observe(outputEl, {childList: true});\n",
       "}}\n",
       "\n",
       "                        })\n",
       "                };\n",
       "                });\n",
       "            </script>\n",
       "        </div>"
      ]
     },
     "metadata": {},
     "output_type": "display_data"
    },
    {
     "data": {
      "text/plain": [
       "<Figure size 1440x1440 with 0 Axes>"
      ]
     },
     "metadata": {},
     "output_type": "display_data"
    }
   ],
   "source": [
    "plt.figure(figsize=(20, 20))\n",
    "dayrate=noshown.value_counts()/(noshown.value_counts()+noshowy.value_counts())*100\n",
    "import plotly.express as px\n",
    "\n",
    "fig = px.bar(data_frame=dayrate, \n",
    "             x=dayrate.index, \n",
    "             y=dayrate.values,title=\"Percentage of customers not attending the daily appointment\",\n",
    "                 labels={\"index\": \"How many days ago\",  \n",
    "                         \"y\": \"rate of not attending to appointment\"})\n",
    "\n",
    "fig.show()\n",
    "\n"
   ]
  },
  {
   "cell_type": "code",
   "execution_count": 145,
   "metadata": {},
   "outputs": [],
   "source": [
    "def daycategories(day):\n",
    "    if day==0: return \"high\"\n",
    "    elif day<10: return \"middle\"\n",
    "    elif day<24: return \"low\"\n",
    "    else: return \"uncertain\""
   ]
  },
  {
   "cell_type": "markdown",
   "metadata": {},
   "source": []
  },
  {
   "cell_type": "code",
   "execution_count": 146,
   "metadata": {},
   "outputs": [
    {
     "data": {
      "text/plain": [
       "0              high\n",
       "1              high\n",
       "2              high\n",
       "3              high\n",
       "4              high\n",
       "            ...    \n",
       "110522    uncertain\n",
       "110523    uncertain\n",
       "110524    uncertain\n",
       "110525    uncertain\n",
       "110526    uncertain\n",
       "Name: days, Length: 110526, dtype: object"
      ]
     },
     "execution_count": 146,
     "metadata": {},
     "output_type": "execute_result"
    }
   ],
   "source": [
    "df.days.apply(daycategories)"
   ]
  },
  {
   "cell_type": "code",
   "execution_count": 147,
   "metadata": {},
   "outputs": [],
   "source": [
    "##df2=df.drop_duplicates(subset=[\"PatientId\",\"AppointmentDay\"], keep='first', inplace=False, ignore_index=False)"
   ]
  },
  {
   "cell_type": "code",
   "execution_count": 148,
   "metadata": {},
   "outputs": [
    {
     "name": "stdout",
     "output_type": "stream",
     "text": [
      "<class 'pandas.core.frame.DataFrame'>\n",
      "Int64Index: 110526 entries, 0 to 110526\n",
      "Data columns (total 15 columns):\n",
      " #   Column          Non-Null Count   Dtype              \n",
      "---  ------          --------------   -----              \n",
      " 0   PatientId       110526 non-null  float64            \n",
      " 1   AppointmentID   110526 non-null  int64              \n",
      " 2   Gender          110526 non-null  int64              \n",
      " 3   ScheduledDay    110526 non-null  datetime64[ns, UTC]\n",
      " 4   AppointmentDay  110526 non-null  datetime64[ns, UTC]\n",
      " 5   Age             110526 non-null  int64              \n",
      " 6   Neighbourhood   110526 non-null  object             \n",
      " 7   Scholarship     110526 non-null  int64              \n",
      " 8   Hipertension    110526 non-null  int64              \n",
      " 9   Diabetes        110526 non-null  int64              \n",
      " 10  Alcoholism      110526 non-null  int64              \n",
      " 11  Handcap         110526 non-null  int64              \n",
      " 12  SMS_received    110526 non-null  int64              \n",
      " 13  No-show         110526 non-null  bool               \n",
      " 14  days            110526 non-null  int64              \n",
      "dtypes: bool(1), datetime64[ns, UTC](2), float64(1), int64(10), object(1)\n",
      "memory usage: 17.8+ MB\n"
     ]
    }
   ],
   "source": [
    "df.info()"
   ]
  },
  {
   "cell_type": "markdown",
   "metadata": {},
   "source": [
    "#### 12-Aynı tarihte birden fazla randevusu olanların oranı"
   ]
  },
  {
   "cell_type": "code",
   "execution_count": 149,
   "metadata": {},
   "outputs": [],
   "source": [
    "patientdf=df.groupby([\"PatientId\",\"AppointmentDay\"]).AppointmentID.count().reset_index()\n"
   ]
  },
  {
   "cell_type": "code",
   "execution_count": 150,
   "metadata": {},
   "outputs": [],
   "source": [
    "#patientdf=df.groupby([\"PatientId\",\"AppointmentDay\"])[\"AppointmentDay\"].count().reset_index()\n",
    "#patientdf2=patientdf[patientdf>1]\n",
    "\n",
    "merge=pd.merge(df, patientdf, left_on= ['PatientId','AppointmentDay'], right_on= ['PatientId','AppointmentDay'],how=\"inner\")"
   ]
  },
  {
   "cell_type": "code",
   "execution_count": 151,
   "metadata": {},
   "outputs": [
    {
     "data": {
      "text/html": [
       "<div>\n",
       "<style scoped>\n",
       "    .dataframe tbody tr th:only-of-type {\n",
       "        vertical-align: middle;\n",
       "    }\n",
       "\n",
       "    .dataframe tbody tr th {\n",
       "        vertical-align: top;\n",
       "    }\n",
       "\n",
       "    .dataframe thead th {\n",
       "        text-align: right;\n",
       "    }\n",
       "</style>\n",
       "<table border=\"1\" class=\"dataframe\">\n",
       "  <thead>\n",
       "    <tr style=\"text-align: right;\">\n",
       "      <th></th>\n",
       "      <th>PatientId</th>\n",
       "      <th>AppointmentID_x</th>\n",
       "      <th>Gender</th>\n",
       "      <th>ScheduledDay</th>\n",
       "      <th>AppointmentDay</th>\n",
       "      <th>Age</th>\n",
       "      <th>Neighbourhood</th>\n",
       "      <th>Scholarship</th>\n",
       "      <th>Hipertension</th>\n",
       "      <th>Diabetes</th>\n",
       "      <th>Alcoholism</th>\n",
       "      <th>Handcap</th>\n",
       "      <th>SMS_received</th>\n",
       "      <th>No-show</th>\n",
       "      <th>days</th>\n",
       "      <th>AppointmentID_y</th>\n",
       "    </tr>\n",
       "  </thead>\n",
       "  <tbody>\n",
       "    <tr>\n",
       "      <th>0</th>\n",
       "      <td>2.987250e+13</td>\n",
       "      <td>5642903</td>\n",
       "      <td>0</td>\n",
       "      <td>2016-04-29 18:38:08+00:00</td>\n",
       "      <td>2016-04-29 00:00:00+00:00</td>\n",
       "      <td>62</td>\n",
       "      <td>JARDIM DA PENHA</td>\n",
       "      <td>0</td>\n",
       "      <td>1</td>\n",
       "      <td>0</td>\n",
       "      <td>0</td>\n",
       "      <td>0</td>\n",
       "      <td>0</td>\n",
       "      <td>False</td>\n",
       "      <td>0</td>\n",
       "      <td>2</td>\n",
       "    </tr>\n",
       "    <tr>\n",
       "      <th>1</th>\n",
       "      <td>2.987250e+13</td>\n",
       "      <td>5639907</td>\n",
       "      <td>0</td>\n",
       "      <td>2016-04-29 09:47:47+00:00</td>\n",
       "      <td>2016-04-29 00:00:00+00:00</td>\n",
       "      <td>62</td>\n",
       "      <td>JARDIM DA PENHA</td>\n",
       "      <td>0</td>\n",
       "      <td>1</td>\n",
       "      <td>0</td>\n",
       "      <td>0</td>\n",
       "      <td>0</td>\n",
       "      <td>0</td>\n",
       "      <td>False</td>\n",
       "      <td>0</td>\n",
       "      <td>2</td>\n",
       "    </tr>\n",
       "    <tr>\n",
       "      <th>2</th>\n",
       "      <td>5.589978e+14</td>\n",
       "      <td>5642503</td>\n",
       "      <td>1</td>\n",
       "      <td>2016-04-29 16:08:27+00:00</td>\n",
       "      <td>2016-04-29 00:00:00+00:00</td>\n",
       "      <td>56</td>\n",
       "      <td>JARDIM DA PENHA</td>\n",
       "      <td>0</td>\n",
       "      <td>0</td>\n",
       "      <td>0</td>\n",
       "      <td>0</td>\n",
       "      <td>0</td>\n",
       "      <td>0</td>\n",
       "      <td>False</td>\n",
       "      <td>0</td>\n",
       "      <td>2</td>\n",
       "    </tr>\n",
       "    <tr>\n",
       "      <th>3</th>\n",
       "      <td>5.589978e+14</td>\n",
       "      <td>5642211</td>\n",
       "      <td>1</td>\n",
       "      <td>2016-04-29 15:20:47+00:00</td>\n",
       "      <td>2016-04-29 00:00:00+00:00</td>\n",
       "      <td>56</td>\n",
       "      <td>JARDIM DA PENHA</td>\n",
       "      <td>0</td>\n",
       "      <td>0</td>\n",
       "      <td>0</td>\n",
       "      <td>0</td>\n",
       "      <td>0</td>\n",
       "      <td>0</td>\n",
       "      <td>False</td>\n",
       "      <td>0</td>\n",
       "      <td>2</td>\n",
       "    </tr>\n",
       "    <tr>\n",
       "      <th>4</th>\n",
       "      <td>4.262962e+12</td>\n",
       "      <td>5642549</td>\n",
       "      <td>0</td>\n",
       "      <td>2016-04-29 16:19:04+00:00</td>\n",
       "      <td>2016-04-29 00:00:00+00:00</td>\n",
       "      <td>62</td>\n",
       "      <td>MATA DA PRAIA</td>\n",
       "      <td>0</td>\n",
       "      <td>0</td>\n",
       "      <td>0</td>\n",
       "      <td>0</td>\n",
       "      <td>0</td>\n",
       "      <td>0</td>\n",
       "      <td>False</td>\n",
       "      <td>0</td>\n",
       "      <td>2</td>\n",
       "    </tr>\n",
       "    <tr>\n",
       "      <th>...</th>\n",
       "      <td>...</td>\n",
       "      <td>...</td>\n",
       "      <td>...</td>\n",
       "      <td>...</td>\n",
       "      <td>...</td>\n",
       "      <td>...</td>\n",
       "      <td>...</td>\n",
       "      <td>...</td>\n",
       "      <td>...</td>\n",
       "      <td>...</td>\n",
       "      <td>...</td>\n",
       "      <td>...</td>\n",
       "      <td>...</td>\n",
       "      <td>...</td>\n",
       "      <td>...</td>\n",
       "      <td>...</td>\n",
       "    </tr>\n",
       "    <tr>\n",
       "      <th>110521</th>\n",
       "      <td>2.572134e+12</td>\n",
       "      <td>5651768</td>\n",
       "      <td>0</td>\n",
       "      <td>2016-05-03 09:15:35+00:00</td>\n",
       "      <td>2016-06-07 00:00:00+00:00</td>\n",
       "      <td>56</td>\n",
       "      <td>MARIA ORTIZ</td>\n",
       "      <td>0</td>\n",
       "      <td>0</td>\n",
       "      <td>0</td>\n",
       "      <td>0</td>\n",
       "      <td>0</td>\n",
       "      <td>1</td>\n",
       "      <td>False</td>\n",
       "      <td>34</td>\n",
       "      <td>1</td>\n",
       "    </tr>\n",
       "    <tr>\n",
       "      <th>110522</th>\n",
       "      <td>3.596266e+12</td>\n",
       "      <td>5650093</td>\n",
       "      <td>0</td>\n",
       "      <td>2016-05-03 07:27:33+00:00</td>\n",
       "      <td>2016-06-07 00:00:00+00:00</td>\n",
       "      <td>51</td>\n",
       "      <td>MARIA ORTIZ</td>\n",
       "      <td>0</td>\n",
       "      <td>0</td>\n",
       "      <td>0</td>\n",
       "      <td>0</td>\n",
       "      <td>0</td>\n",
       "      <td>1</td>\n",
       "      <td>False</td>\n",
       "      <td>34</td>\n",
       "      <td>1</td>\n",
       "    </tr>\n",
       "    <tr>\n",
       "      <th>110523</th>\n",
       "      <td>1.557663e+13</td>\n",
       "      <td>5630692</td>\n",
       "      <td>0</td>\n",
       "      <td>2016-04-27 16:03:52+00:00</td>\n",
       "      <td>2016-06-07 00:00:00+00:00</td>\n",
       "      <td>21</td>\n",
       "      <td>MARIA ORTIZ</td>\n",
       "      <td>0</td>\n",
       "      <td>0</td>\n",
       "      <td>0</td>\n",
       "      <td>0</td>\n",
       "      <td>0</td>\n",
       "      <td>1</td>\n",
       "      <td>False</td>\n",
       "      <td>40</td>\n",
       "      <td>1</td>\n",
       "    </tr>\n",
       "    <tr>\n",
       "      <th>110524</th>\n",
       "      <td>9.213493e+13</td>\n",
       "      <td>5630323</td>\n",
       "      <td>0</td>\n",
       "      <td>2016-04-27 15:09:23+00:00</td>\n",
       "      <td>2016-06-07 00:00:00+00:00</td>\n",
       "      <td>38</td>\n",
       "      <td>MARIA ORTIZ</td>\n",
       "      <td>0</td>\n",
       "      <td>0</td>\n",
       "      <td>0</td>\n",
       "      <td>0</td>\n",
       "      <td>0</td>\n",
       "      <td>1</td>\n",
       "      <td>False</td>\n",
       "      <td>40</td>\n",
       "      <td>1</td>\n",
       "    </tr>\n",
       "    <tr>\n",
       "      <th>110525</th>\n",
       "      <td>3.775115e+14</td>\n",
       "      <td>5629448</td>\n",
       "      <td>0</td>\n",
       "      <td>2016-04-27 13:30:56+00:00</td>\n",
       "      <td>2016-06-07 00:00:00+00:00</td>\n",
       "      <td>54</td>\n",
       "      <td>MARIA ORTIZ</td>\n",
       "      <td>0</td>\n",
       "      <td>0</td>\n",
       "      <td>0</td>\n",
       "      <td>0</td>\n",
       "      <td>0</td>\n",
       "      <td>1</td>\n",
       "      <td>False</td>\n",
       "      <td>40</td>\n",
       "      <td>1</td>\n",
       "    </tr>\n",
       "  </tbody>\n",
       "</table>\n",
       "<p>110526 rows × 16 columns</p>\n",
       "</div>"
      ],
      "text/plain": [
       "           PatientId  AppointmentID_x  Gender              ScheduledDay  \\\n",
       "0       2.987250e+13          5642903       0 2016-04-29 18:38:08+00:00   \n",
       "1       2.987250e+13          5639907       0 2016-04-29 09:47:47+00:00   \n",
       "2       5.589978e+14          5642503       1 2016-04-29 16:08:27+00:00   \n",
       "3       5.589978e+14          5642211       1 2016-04-29 15:20:47+00:00   \n",
       "4       4.262962e+12          5642549       0 2016-04-29 16:19:04+00:00   \n",
       "...              ...              ...     ...                       ...   \n",
       "110521  2.572134e+12          5651768       0 2016-05-03 09:15:35+00:00   \n",
       "110522  3.596266e+12          5650093       0 2016-05-03 07:27:33+00:00   \n",
       "110523  1.557663e+13          5630692       0 2016-04-27 16:03:52+00:00   \n",
       "110524  9.213493e+13          5630323       0 2016-04-27 15:09:23+00:00   \n",
       "110525  3.775115e+14          5629448       0 2016-04-27 13:30:56+00:00   \n",
       "\n",
       "                  AppointmentDay  Age    Neighbourhood  Scholarship  \\\n",
       "0      2016-04-29 00:00:00+00:00   62  JARDIM DA PENHA            0   \n",
       "1      2016-04-29 00:00:00+00:00   62  JARDIM DA PENHA            0   \n",
       "2      2016-04-29 00:00:00+00:00   56  JARDIM DA PENHA            0   \n",
       "3      2016-04-29 00:00:00+00:00   56  JARDIM DA PENHA            0   \n",
       "4      2016-04-29 00:00:00+00:00   62    MATA DA PRAIA            0   \n",
       "...                          ...  ...              ...          ...   \n",
       "110521 2016-06-07 00:00:00+00:00   56      MARIA ORTIZ            0   \n",
       "110522 2016-06-07 00:00:00+00:00   51      MARIA ORTIZ            0   \n",
       "110523 2016-06-07 00:00:00+00:00   21      MARIA ORTIZ            0   \n",
       "110524 2016-06-07 00:00:00+00:00   38      MARIA ORTIZ            0   \n",
       "110525 2016-06-07 00:00:00+00:00   54      MARIA ORTIZ            0   \n",
       "\n",
       "        Hipertension  Diabetes  Alcoholism  Handcap  SMS_received  No-show  \\\n",
       "0                  1         0           0        0             0    False   \n",
       "1                  1         0           0        0             0    False   \n",
       "2                  0         0           0        0             0    False   \n",
       "3                  0         0           0        0             0    False   \n",
       "4                  0         0           0        0             0    False   \n",
       "...              ...       ...         ...      ...           ...      ...   \n",
       "110521             0         0           0        0             1    False   \n",
       "110522             0         0           0        0             1    False   \n",
       "110523             0         0           0        0             1    False   \n",
       "110524             0         0           0        0             1    False   \n",
       "110525             0         0           0        0             1    False   \n",
       "\n",
       "        days  AppointmentID_y  \n",
       "0          0                2  \n",
       "1          0                2  \n",
       "2          0                2  \n",
       "3          0                2  \n",
       "4          0                2  \n",
       "...      ...              ...  \n",
       "110521    34                1  \n",
       "110522    34                1  \n",
       "110523    40                1  \n",
       "110524    40                1  \n",
       "110525    40                1  \n",
       "\n",
       "[110526 rows x 16 columns]"
      ]
     },
     "execution_count": 151,
     "metadata": {},
     "output_type": "execute_result"
    }
   ],
   "source": [
    "merge ##aynı gün kaç randevu aldı"
   ]
  },
  {
   "cell_type": "code",
   "execution_count": 152,
   "metadata": {},
   "outputs": [
    {
     "data": {
      "text/html": [
       "<div>\n",
       "<style scoped>\n",
       "    .dataframe tbody tr th:only-of-type {\n",
       "        vertical-align: middle;\n",
       "    }\n",
       "\n",
       "    .dataframe tbody tr th {\n",
       "        vertical-align: top;\n",
       "    }\n",
       "\n",
       "    .dataframe thead th {\n",
       "        text-align: right;\n",
       "    }\n",
       "</style>\n",
       "<table border=\"1\" class=\"dataframe\">\n",
       "  <thead>\n",
       "    <tr style=\"text-align: right;\">\n",
       "      <th></th>\n",
       "      <th>PatientId</th>\n",
       "      <th>AppointmentDay</th>\n",
       "      <th>AppointmentID</th>\n",
       "    </tr>\n",
       "  </thead>\n",
       "  <tbody>\n",
       "    <tr>\n",
       "      <th>31</th>\n",
       "      <td>1.781682e+08</td>\n",
       "      <td>2016-05-02 00:00:00+00:00</td>\n",
       "      <td>2</td>\n",
       "    </tr>\n",
       "    <tr>\n",
       "      <th>49</th>\n",
       "      <td>2.699191e+08</td>\n",
       "      <td>2016-05-20 00:00:00+00:00</td>\n",
       "      <td>2</td>\n",
       "    </tr>\n",
       "    <tr>\n",
       "      <th>79</th>\n",
       "      <td>5.225847e+08</td>\n",
       "      <td>2016-05-16 00:00:00+00:00</td>\n",
       "      <td>2</td>\n",
       "    </tr>\n",
       "    <tr>\n",
       "      <th>84</th>\n",
       "      <td>5.551995e+08</td>\n",
       "      <td>2016-05-30 00:00:00+00:00</td>\n",
       "      <td>2</td>\n",
       "    </tr>\n",
       "    <tr>\n",
       "      <th>108</th>\n",
       "      <td>7.241189e+08</td>\n",
       "      <td>2016-05-10 00:00:00+00:00</td>\n",
       "      <td>4</td>\n",
       "    </tr>\n",
       "    <tr>\n",
       "      <th>...</th>\n",
       "      <td>...</td>\n",
       "      <td>...</td>\n",
       "      <td>...</td>\n",
       "    </tr>\n",
       "    <tr>\n",
       "      <th>101763</th>\n",
       "      <td>9.988821e+14</td>\n",
       "      <td>2016-05-03 00:00:00+00:00</td>\n",
       "      <td>2</td>\n",
       "    </tr>\n",
       "    <tr>\n",
       "      <th>101771</th>\n",
       "      <td>9.992778e+14</td>\n",
       "      <td>2016-05-05 00:00:00+00:00</td>\n",
       "      <td>2</td>\n",
       "    </tr>\n",
       "    <tr>\n",
       "      <th>101775</th>\n",
       "      <td>9.993364e+14</td>\n",
       "      <td>2016-05-05 00:00:00+00:00</td>\n",
       "      <td>2</td>\n",
       "    </tr>\n",
       "    <tr>\n",
       "      <th>101784</th>\n",
       "      <td>9.996275e+14</td>\n",
       "      <td>2016-05-16 00:00:00+00:00</td>\n",
       "      <td>2</td>\n",
       "    </tr>\n",
       "    <tr>\n",
       "      <th>101800</th>\n",
       "      <td>9.999320e+14</td>\n",
       "      <td>2016-05-17 00:00:00+00:00</td>\n",
       "      <td>2</td>\n",
       "    </tr>\n",
       "  </tbody>\n",
       "</table>\n",
       "<p>7481 rows × 3 columns</p>\n",
       "</div>"
      ],
      "text/plain": [
       "           PatientId            AppointmentDay  AppointmentID\n",
       "31      1.781682e+08 2016-05-02 00:00:00+00:00              2\n",
       "49      2.699191e+08 2016-05-20 00:00:00+00:00              2\n",
       "79      5.225847e+08 2016-05-16 00:00:00+00:00              2\n",
       "84      5.551995e+08 2016-05-30 00:00:00+00:00              2\n",
       "108     7.241189e+08 2016-05-10 00:00:00+00:00              4\n",
       "...              ...                       ...            ...\n",
       "101763  9.988821e+14 2016-05-03 00:00:00+00:00              2\n",
       "101771  9.992778e+14 2016-05-05 00:00:00+00:00              2\n",
       "101775  9.993364e+14 2016-05-05 00:00:00+00:00              2\n",
       "101784  9.996275e+14 2016-05-16 00:00:00+00:00              2\n",
       "101800  9.999320e+14 2016-05-17 00:00:00+00:00              2\n",
       "\n",
       "[7481 rows x 3 columns]"
      ]
     },
     "execution_count": 152,
     "metadata": {},
     "output_type": "execute_result"
    }
   ],
   "source": [
    "patientdf[patientdf[\"AppointmentID\"]>1]"
   ]
  },
  {
   "cell_type": "code",
   "execution_count": 153,
   "metadata": {},
   "outputs": [],
   "source": [
    "merge2=merge.drop_duplicates(subset=[\"PatientId\",\"AppointmentDay\"], keep='first', inplace=False, ignore_index=False)"
   ]
  },
  {
   "cell_type": "code",
   "execution_count": 154,
   "metadata": {},
   "outputs": [],
   "source": [
    "merge2=merge2.rename(columns={\"AppointmentID_y\": \"DailyAppointment\"})\n",
    "#merge2[\"DailyAppointmentRate\"]=(merge2[\"AppointmentDay\"]-df[\"ScheduledDay\"]).dt.days"
   ]
  },
  {
   "cell_type": "code",
   "execution_count": 155,
   "metadata": {},
   "outputs": [
    {
     "data": {
      "text/html": [
       "<div>\n",
       "<style scoped>\n",
       "    .dataframe tbody tr th:only-of-type {\n",
       "        vertical-align: middle;\n",
       "    }\n",
       "\n",
       "    .dataframe tbody tr th {\n",
       "        vertical-align: top;\n",
       "    }\n",
       "\n",
       "    .dataframe thead th {\n",
       "        text-align: right;\n",
       "    }\n",
       "</style>\n",
       "<table border=\"1\" class=\"dataframe\">\n",
       "  <thead>\n",
       "    <tr style=\"text-align: right;\">\n",
       "      <th></th>\n",
       "      <th>DailyAppointment</th>\n",
       "      <th>No-show</th>\n",
       "      <th>AppointmentID_x</th>\n",
       "    </tr>\n",
       "  </thead>\n",
       "  <tbody>\n",
       "    <tr>\n",
       "      <th>0</th>\n",
       "      <td>1</td>\n",
       "      <td>False</td>\n",
       "      <td>75580</td>\n",
       "    </tr>\n",
       "    <tr>\n",
       "      <th>1</th>\n",
       "      <td>1</td>\n",
       "      <td>True</td>\n",
       "      <td>18746</td>\n",
       "    </tr>\n",
       "    <tr>\n",
       "      <th>2</th>\n",
       "      <td>2</td>\n",
       "      <td>False</td>\n",
       "      <td>5038</td>\n",
       "    </tr>\n",
       "    <tr>\n",
       "      <th>3</th>\n",
       "      <td>2</td>\n",
       "      <td>True</td>\n",
       "      <td>1494</td>\n",
       "    </tr>\n",
       "    <tr>\n",
       "      <th>4</th>\n",
       "      <td>3</td>\n",
       "      <td>False</td>\n",
       "      <td>590</td>\n",
       "    </tr>\n",
       "    <tr>\n",
       "      <th>5</th>\n",
       "      <td>3</td>\n",
       "      <td>True</td>\n",
       "      <td>149</td>\n",
       "    </tr>\n",
       "    <tr>\n",
       "      <th>6</th>\n",
       "      <td>4</td>\n",
       "      <td>False</td>\n",
       "      <td>131</td>\n",
       "    </tr>\n",
       "    <tr>\n",
       "      <th>7</th>\n",
       "      <td>4</td>\n",
       "      <td>True</td>\n",
       "      <td>26</td>\n",
       "    </tr>\n",
       "    <tr>\n",
       "      <th>8</th>\n",
       "      <td>5</td>\n",
       "      <td>False</td>\n",
       "      <td>27</td>\n",
       "    </tr>\n",
       "    <tr>\n",
       "      <th>9</th>\n",
       "      <td>5</td>\n",
       "      <td>True</td>\n",
       "      <td>6</td>\n",
       "    </tr>\n",
       "    <tr>\n",
       "      <th>10</th>\n",
       "      <td>6</td>\n",
       "      <td>False</td>\n",
       "      <td>15</td>\n",
       "    </tr>\n",
       "    <tr>\n",
       "      <th>11</th>\n",
       "      <td>6</td>\n",
       "      <td>True</td>\n",
       "      <td>3</td>\n",
       "    </tr>\n",
       "    <tr>\n",
       "      <th>12</th>\n",
       "      <td>8</td>\n",
       "      <td>False</td>\n",
       "      <td>1</td>\n",
       "    </tr>\n",
       "    <tr>\n",
       "      <th>13</th>\n",
       "      <td>10</td>\n",
       "      <td>False</td>\n",
       "      <td>1</td>\n",
       "    </tr>\n",
       "  </tbody>\n",
       "</table>\n",
       "</div>"
      ],
      "text/plain": [
       "    DailyAppointment  No-show  AppointmentID_x\n",
       "0                  1    False            75580\n",
       "1                  1     True            18746\n",
       "2                  2    False             5038\n",
       "3                  2     True             1494\n",
       "4                  3    False              590\n",
       "5                  3     True              149\n",
       "6                  4    False              131\n",
       "7                  4     True               26\n",
       "8                  5    False               27\n",
       "9                  5     True                6\n",
       "10                 6    False               15\n",
       "11                 6     True                3\n",
       "12                 8    False                1\n",
       "13                10    False                1"
      ]
     },
     "execution_count": 155,
     "metadata": {},
     "output_type": "execute_result"
    }
   ],
   "source": [
    "merge2.groupby([\"DailyAppointment\",\"No-show\"]).AppointmentID_x.count().reset_index()\n"
   ]
  },
  {
   "cell_type": "code",
   "execution_count": 156,
   "metadata": {},
   "outputs": [
    {
     "data": {
      "image/png": "[encoded data removed]",
      "text/plain": [
       "<Figure size 1080x720 with 1 Axes>"
      ]
     },
     "metadata": {},
     "output_type": "display_data"
    }
   ],
   "source": [
    "plt.figure(figsize=(15, 10))\n",
    "ax = sns.countplot(x=\"DailyAppointment\", hue=\"No-show\", data=merge2)\n",
    "plt.show()"
   ]
  },
  {
   "cell_type": "code",
   "execution_count": 157,
   "metadata": {},
   "outputs": [],
   "source": [
    "noshowyes=merge2[merge2['No-show']==True][\"DailyAppointment\"]\n",
    "noshowno=merge2[merge2['No-show']==False][\"DailyAppointment\"]"
   ]
  },
  {
   "cell_type": "markdown",
   "metadata": {},
   "source": [
    "#### Aynı güne birden fazla randevu alanların katılım oranı"
   ]
  },
  {
   "cell_type": "code",
   "execution_count": 158,
   "metadata": {},
   "outputs": [
    {
     "data": {
      "application/vnd.plotly.v1+json": {
       "config": {
        "plotlyServerURL": "https://plot.ly"
       },
       "data": [
        {
         "alignmentgroup": "True",
         "hovertemplate": "How many appointments were made on the same date?=%{x}<br>Rate of not attending to appointment=%{y}<extra></extra>",
         "legendgroup": "",
         "marker": {
          "color": "#636efa"
         },
         "name": "",
         "offsetgroup": "",
         "orientation": "v",
         "showlegend": false,
         "textposition": "auto",
         "type": "bar",
         "x": [
          1,
          2,
          3,
          4,
          5,
          6,
          8,
          10
         ],
         "xaxis": "x",
         "y": [
          19.873629752136207,
          22.872014696876914,
          20.16238159675237,
          16.560509554140125,
          18.181818181818183,
          16.666666666666664,
          null,
          null
         ],
         "yaxis": "y"
        }
       ],
       "layout": {
        "barmode": "relative",
        "legend": {
         "tracegroupgap": 0
        },
        "template": {
         "data": {
          "bar": [
           {
            "error_x": {
             "color": "#2a3f5f"
            },
            "error_y": {
             "color": "#2a3f5f"
            },
            "marker": {
             "line": {
              "color": "#E5ECF6",
              "width": 0.5
             }
            },
            "type": "bar"
           }
          ],
          "barpolar": [
           {
            "marker": {
             "line": {
              "color": "#E5ECF6",
              "width": 0.5
             }
            },
            "type": "barpolar"
           }
          ],
          "carpet": [
           {
            "aaxis": {
             "endlinecolor": "#2a3f5f",
             "gridcolor": "white",
             "linecolor": "white",
             "minorgridcolor": "white",
             "startlinecolor": "#2a3f5f"
            },
            "baxis": {
             "endlinecolor": "#2a3f5f",
             "gridcolor": "white",
             "linecolor": "white",
             "minorgridcolor": "white",
             "startlinecolor": "#2a3f5f"
            },
            "type": "carpet"
           }
          ],
          "choropleth": [
           {
            "colorbar": {
             "outlinewidth": 0,
             "ticks": ""
            },
            "type": "choropleth"
           }
          ],
          "contour": [
           {
            "colorbar": {
             "outlinewidth": 0,
             "ticks": ""
            },
            "colorscale": [
             [
              0,
              "#0d0887"
             ],
             [
              0.1111111111111111,
              "#46039f"
             ],
             [
              0.2222222222222222,
              "#7201a8"
             ],
             [
              0.3333333333333333,
              "#9c179e"
             ],
             [
              0.4444444444444444,
              "#bd3786"
             ],
             [
              0.5555555555555556,
              "#d8576b"
             ],
             [
              0.6666666666666666,
              "#ed7953"
             ],
             [
              0.7777777777777778,
              "#fb9f3a"
             ],
             [
              0.8888888888888888,
              "#fdca26"
             ],
             [
              1,
              "#f0f921"
             ]
            ],
            "type": "contour"
           }
          ],
          "contourcarpet": [
           {
            "colorbar": {
             "outlinewidth": 0,
             "ticks": ""
            },
            "type": "contourcarpet"
           }
          ],
          "heatmap": [
           {
            "colorbar": {
             "outlinewidth": 0,
             "ticks": ""
            },
            "colorscale": [
             [
              0,
              "#0d0887"
             ],
             [
              0.1111111111111111,
              "#46039f"
             ],
             [
              0.2222222222222222,
              "#7201a8"
             ],
             [
              0.3333333333333333,
              "#9c179e"
             ],
             [
              0.4444444444444444,
              "#bd3786"
             ],
             [
              0.5555555555555556,
              "#d8576b"
             ],
             [
              0.6666666666666666,
              "#ed7953"
             ],
             [
              0.7777777777777778,
              "#fb9f3a"
             ],
             [
              0.8888888888888888,
              "#fdca26"
             ],
             [
              1,
              "#f0f921"
             ]
            ],
            "type": "heatmap"
           }
          ],
          "heatmapgl": [
           {
            "colorbar": {
             "outlinewidth": 0,
             "ticks": ""
            },
            "colorscale": [
             [
              0,
              "#0d0887"
             ],
             [
              0.1111111111111111,
              "#46039f"
             ],
             [
              0.2222222222222222,
              "#7201a8"
             ],
             [
              0.3333333333333333,
              "#9c179e"
             ],
             [
              0.4444444444444444,
              "#bd3786"
             ],
             [
              0.5555555555555556,
              "#d8576b"
             ],
             [
              0.6666666666666666,
              "#ed7953"
             ],
             [
              0.7777777777777778,
              "#fb9f3a"
             ],
             [
              0.8888888888888888,
              "#fdca26"
             ],
             [
              1,
              "#f0f921"
             ]
            ],
            "type": "heatmapgl"
           }
          ],
          "histogram": [
           {
            "marker": {
             "colorbar": {
              "outlinewidth": 0,
              "ticks": ""
             }
            },
            "type": "histogram"
           }
          ],
          "histogram2d": [
           {
            "colorbar": {
             "outlinewidth": 0,
             "ticks": ""
            },
            "colorscale": [
             [
              0,
              "#0d0887"
             ],
             [
              0.1111111111111111,
              "#46039f"
             ],
             [
              0.2222222222222222,
              "#7201a8"
             ],
             [
              0.3333333333333333,
              "#9c179e"
             ],
             [
              0.4444444444444444,
              "#bd3786"
             ],
             [
              0.5555555555555556,
              "#d8576b"
             ],
             [
              0.6666666666666666,
              "#ed7953"
             ],
             [
              0.7777777777777778,
              "#fb9f3a"
             ],
             [
              0.8888888888888888,
              "#fdca26"
             ],
             [
              1,
              "#f0f921"
             ]
            ],
            "type": "histogram2d"
           }
          ],
          "histogram2dcontour": [
           {
            "colorbar": {
             "outlinewidth": 0,
             "ticks": ""
            },
            "colorscale": [
             [
              0,
              "#0d0887"
             ],
             [
              0.1111111111111111,
              "#46039f"
             ],
             [
              0.2222222222222222,
              "#7201a8"
             ],
             [
              0.3333333333333333,
              "#9c179e"
             ],
             [
              0.4444444444444444,
              "#bd3786"
             ],
             [
              0.5555555555555556,
              "#d8576b"
             ],
             [
              0.6666666666666666,
              "#ed7953"
             ],
             [
              0.7777777777777778,
              "#fb9f3a"
             ],
             [
              0.8888888888888888,
              "#fdca26"
             ],
             [
              1,
              "#f0f921"
             ]
            ],
            "type": "histogram2dcontour"
           }
          ],
          "mesh3d": [
           {
            "colorbar": {
             "outlinewidth": 0,
             "ticks": ""
            },
            "type": "mesh3d"
           }
          ],
          "parcoords": [
           {
            "line": {
             "colorbar": {
              "outlinewidth": 0,
              "ticks": ""
             }
            },
            "type": "parcoords"
           }
          ],
          "pie": [
           {
            "automargin": true,
            "type": "pie"
           }
          ],
          "scatter": [
           {
            "marker": {
             "colorbar": {
              "outlinewidth": 0,
              "ticks": ""
             }
            },
            "type": "scatter"
           }
          ],
          "scatter3d": [
           {
            "line": {
             "colorbar": {
              "outlinewidth": 0,
              "ticks": ""
             }
            },
            "marker": {
             "colorbar": {
              "outlinewidth": 0,
              "ticks": ""
             }
            },
            "type": "scatter3d"
           }
          ],
          "scattercarpet": [
           {
            "marker": {
             "colorbar": {
              "outlinewidth": 0,
              "ticks": ""
             }
            },
            "type": "scattercarpet"
           }
          ],
          "scattergeo": [
           {
            "marker": {
             "colorbar": {
              "outlinewidth": 0,
              "ticks": ""
             }
            },
            "type": "scattergeo"
           }
          ],
          "scattergl": [
           {
            "marker": {
             "colorbar": {
              "outlinewidth": 0,
              "ticks": ""
             }
            },
            "type": "scattergl"
           }
          ],
          "scattermapbox": [
           {
            "marker": {
             "colorbar": {
              "outlinewidth": 0,
              "ticks": ""
             }
            },
            "type": "scattermapbox"
           }
          ],
          "scatterpolar": [
           {
            "marker": {
             "colorbar": {
              "outlinewidth": 0,
              "ticks": ""
             }
            },
            "type": "scatterpolar"
           }
          ],
          "scatterpolargl": [
           {
            "marker": {
             "colorbar": {
              "outlinewidth": 0,
              "ticks": ""
             }
            },
            "type": "scatterpolargl"
           }
          ],
          "scatterternary": [
           {
            "marker": {
             "colorbar": {
              "outlinewidth": 0,
              "ticks": ""
             }
            },
            "type": "scatterternary"
           }
          ],
          "surface": [
           {
            "colorbar": {
             "outlinewidth": 0,
             "ticks": ""
            },
            "colorscale": [
             [
              0,
              "#0d0887"
             ],
             [
              0.1111111111111111,
              "#46039f"
             ],
             [
              0.2222222222222222,
              "#7201a8"
             ],
             [
              0.3333333333333333,
              "#9c179e"
             ],
             [
              0.4444444444444444,
              "#bd3786"
             ],
             [
              0.5555555555555556,
              "#d8576b"
             ],
             [
              0.6666666666666666,
              "#ed7953"
             ],
             [
              0.7777777777777778,
              "#fb9f3a"
             ],
             [
              0.8888888888888888,
              "#fdca26"
             ],
             [
              1,
              "#f0f921"
             ]
            ],
            "type": "surface"
           }
          ],
          "table": [
           {
            "cells": {
             "fill": {
              "color": "#EBF0F8"
             },
             "line": {
              "color": "white"
             }
            },
            "header": {
             "fill": {
              "color": "#C8D4E3"
             },
             "line": {
              "color": "white"
             }
            },
            "type": "table"
           }
          ]
         },
         "layout": {
          "annotationdefaults": {
           "arrowcolor": "#2a3f5f",
           "arrowhead": 0,
           "arrowwidth": 1
          },
          "coloraxis": {
           "colorbar": {
            "outlinewidth": 0,
            "ticks": ""
           }
          },
          "colorscale": {
           "diverging": [
            [
             0,
             "#8e0152"
            ],
            [
             0.1,
             "#c51b7d"
            ],
            [
             0.2,
             "#de77ae"
            ],
            [
             0.3,
             "#f1b6da"
            ],
            [
             0.4,
             "#fde0ef"
            ],
            [
             0.5,
             "#f7f7f7"
            ],
            [
             0.6,
             "#e6f5d0"
            ],
            [
             0.7,
             "#b8e186"
            ],
            [
             0.8,
             "#7fbc41"
            ],
            [
             0.9,
             "#4d9221"
            ],
            [
             1,
             "#276419"
            ]
           ],
           "sequential": [
            [
             0,
             "#0d0887"
            ],
            [
             0.1111111111111111,
             "#46039f"
            ],
            [
             0.2222222222222222,
             "#7201a8"
            ],
            [
             0.3333333333333333,
             "#9c179e"
            ],
            [
             0.4444444444444444,
             "#bd3786"
            ],
            [
             0.5555555555555556,
             "#d8576b"
            ],
            [
             0.6666666666666666,
             "#ed7953"
            ],
            [
             0.7777777777777778,
             "#fb9f3a"
            ],
            [
             0.8888888888888888,
             "#fdca26"
            ],
            [
             1,
             "#f0f921"
            ]
           ],
           "sequentialminus": [
            [
             0,
             "#0d0887"
            ],
            [
             0.1111111111111111,
             "#46039f"
            ],
            [
             0.2222222222222222,
             "#7201a8"
            ],
            [
             0.3333333333333333,
             "#9c179e"
            ],
            [
             0.4444444444444444,
             "#bd3786"
            ],
            [
             0.5555555555555556,
             "#d8576b"
            ],
            [
             0.6666666666666666,
             "#ed7953"
            ],
            [
             0.7777777777777778,
             "#fb9f3a"
            ],
            [
             0.8888888888888888,
             "#fdca26"
            ],
            [
             1,
             "#f0f921"
            ]
           ]
          },
          "colorway": [
           "#636efa",
           "#EF553B",
           "#00cc96",
           "#ab63fa",
           "#FFA15A",
           "#19d3f3",
           "#FF6692",
           "#B6E880",
           "#FF97FF",
           "#FECB52"
          ],
          "font": {
           "color": "#2a3f5f"
          },
          "geo": {
           "bgcolor": "white",
           "lakecolor": "white",
           "landcolor": "#E5ECF6",
           "showlakes": true,
           "showland": true,
           "subunitcolor": "white"
          },
          "hoverlabel": {
           "align": "left"
          },
          "hovermode": "closest",
          "mapbox": {
           "style": "light"
          },
          "paper_bgcolor": "white",
          "plot_bgcolor": "#E5ECF6",
          "polar": {
           "angularaxis": {
            "gridcolor": "white",
            "linecolor": "white",
            "ticks": ""
           },
           "bgcolor": "#E5ECF6",
           "radialaxis": {
            "gridcolor": "white",
            "linecolor": "white",
            "ticks": ""
           }
          },
          "scene": {
           "xaxis": {
            "backgroundcolor": "#E5ECF6",
            "gridcolor": "white",
            "gridwidth": 2,
            "linecolor": "white",
            "showbackground": true,
            "ticks": "",
            "zerolinecolor": "white"
           },
           "yaxis": {
            "backgroundcolor": "#E5ECF6",
            "gridcolor": "white",
            "gridwidth": 2,
            "linecolor": "white",
            "showbackground": true,
            "ticks": "",
            "zerolinecolor": "white"
           },
           "zaxis": {
            "backgroundcolor": "#E5ECF6",
            "gridcolor": "white",
            "gridwidth": 2,
            "linecolor": "white",
            "showbackground": true,
            "ticks": "",
            "zerolinecolor": "white"
           }
          },
          "shapedefaults": {
           "line": {
            "color": "#2a3f5f"
           }
          },
          "ternary": {
           "aaxis": {
            "gridcolor": "white",
            "linecolor": "white",
            "ticks": ""
           },
           "baxis": {
            "gridcolor": "white",
            "linecolor": "white",
            "ticks": ""
           },
           "bgcolor": "#E5ECF6",
           "caxis": {
            "gridcolor": "white",
            "linecolor": "white",
            "ticks": ""
           }
          },
          "title": {
           "x": 0.05
          },
          "xaxis": {
           "automargin": true,
           "gridcolor": "white",
           "linecolor": "white",
           "ticks": "",
           "title": {
            "standoff": 15
           },
           "zerolinecolor": "white",
           "zerolinewidth": 2
          },
          "yaxis": {
           "automargin": true,
           "gridcolor": "white",
           "linecolor": "white",
           "ticks": "",
           "title": {
            "standoff": 15
           },
           "zerolinecolor": "white",
           "zerolinewidth": 2
          }
         }
        },
        "title": {
         "text": "The non-participation rate of customers who made an appointment on the same date"
        },
        "xaxis": {
         "anchor": "y",
         "domain": [
          0,
          1
         ],
         "title": {
          "text": "How many appointments were made on the same date?"
         }
        },
        "yaxis": {
         "anchor": "x",
         "domain": [
          0,
          1
         ],
         "title": {
          "text": "Rate of not attending to appointment"
         }
        }
       }
      },
      "text/html": [
       "<div>\n",
       "        \n",
       "        \n",
       "            <div id=\"eb6f7cc9-2a35-4b90-b197-1f249178a7ce\" class=\"plotly-graph-div\" style=\"height:525px; width:100%;\"></div>\n",
       "            <script type=\"text/javascript\">\n",
       "                require([\"plotly\"], function(Plotly) {\n",
       "                    window.PLOTLYENV=window.PLOTLYENV || {};\n",
       "                    \n",
       "                if (document.getElementById(\"eb6f7cc9-2a35-4b90-b197-1f249178a7ce\")) {\n",
       "                    Plotly.newPlot(\n",
       "                        'eb6f7cc9-2a35-4b90-b197-1f249178a7ce',\n",
       "                        [{\"alignmentgroup\": \"True\", \"hovertemplate\": \"How many appointments were made on the same date?=%{x}<br>Rate of not attending to appointment=%{y}<extra></extra>\", \"legendgroup\": \"\", \"marker\": {\"color\": \"#636efa\"}, \"name\": \"\", \"offsetgroup\": \"\", \"orientation\": \"v\", \"showlegend\": false, \"textposition\": \"auto\", \"type\": \"bar\", \"x\": [1, 2, 3, 4, 5, 6, 8, 10], \"xaxis\": \"x\", \"y\": [19.873629752136207, 22.872014696876914, 20.16238159675237, 16.560509554140125, 18.181818181818183, 16.666666666666664, null, null], \"yaxis\": \"y\"}],\n",
       "                        {\"barmode\": \"relative\", \"legend\": {\"tracegroupgap\": 0}, \"template\": {\"data\": {\"bar\": [{\"error_x\": {\"color\": \"#2a3f5f\"}, \"error_y\": {\"color\": \"#2a3f5f\"}, \"marker\": {\"line\": {\"color\": \"#E5ECF6\", \"width\": 0.5}}, \"type\": \"bar\"}], \"barpolar\": [{\"marker\": {\"line\": {\"color\": \"#E5ECF6\", \"width\": 0.5}}, \"type\": \"barpolar\"}], \"carpet\": [{\"aaxis\": {\"endlinecolor\": \"#2a3f5f\", \"gridcolor\": \"white\", \"linecolor\": \"white\", \"minorgridcolor\": \"white\", \"startlinecolor\": \"#2a3f5f\"}, \"baxis\": {\"endlinecolor\": \"#2a3f5f\", \"gridcolor\": \"white\", \"linecolor\": \"white\", \"minorgridcolor\": \"white\", \"startlinecolor\": \"#2a3f5f\"}, \"type\": \"carpet\"}], \"choropleth\": [{\"colorbar\": {\"outlinewidth\": 0, \"ticks\": \"\"}, \"type\": \"choropleth\"}], \"contour\": [{\"colorbar\": {\"outlinewidth\": 0, \"ticks\": \"\"}, \"colorscale\": [[0.0, \"#0d0887\"], [0.1111111111111111, \"#46039f\"], [0.2222222222222222, \"#7201a8\"], [0.3333333333333333, \"#9c179e\"], [0.4444444444444444, \"#bd3786\"], [0.5555555555555556, \"#d8576b\"], [0.6666666666666666, \"#ed7953\"], [0.7777777777777778, \"#fb9f3a\"], [0.8888888888888888, \"#fdca26\"], [1.0, \"#f0f921\"]], \"type\": \"contour\"}], \"contourcarpet\": [{\"colorbar\": {\"outlinewidth\": 0, \"ticks\": \"\"}, \"type\": \"contourcarpet\"}], \"heatmap\": [{\"colorbar\": {\"outlinewidth\": 0, \"ticks\": \"\"}, \"colorscale\": [[0.0, \"#0d0887\"], [0.1111111111111111, \"#46039f\"], [0.2222222222222222, \"#7201a8\"], [0.3333333333333333, \"#9c179e\"], [0.4444444444444444, \"#bd3786\"], [0.5555555555555556, \"#d8576b\"], [0.6666666666666666, \"#ed7953\"], [0.7777777777777778, \"#fb9f3a\"], [0.8888888888888888, \"#fdca26\"], [1.0, \"#f0f921\"]], \"type\": \"heatmap\"}], \"heatmapgl\": [{\"colorbar\": {\"outlinewidth\": 0, \"ticks\": \"\"}, \"colorscale\": [[0.0, \"#0d0887\"], [0.1111111111111111, \"#46039f\"], [0.2222222222222222, \"#7201a8\"], [0.3333333333333333, \"#9c179e\"], [0.4444444444444444, \"#bd3786\"], [0.5555555555555556, \"#d8576b\"], [0.6666666666666666, \"#ed7953\"], [0.7777777777777778, \"#fb9f3a\"], [0.8888888888888888, \"#fdca26\"], [1.0, \"#f0f921\"]], \"type\": \"heatmapgl\"}], \"histogram\": [{\"marker\": {\"colorbar\": {\"outlinewidth\": 0, \"ticks\": \"\"}}, \"type\": \"histogram\"}], \"histogram2d\": [{\"colorbar\": {\"outlinewidth\": 0, \"ticks\": \"\"}, \"colorscale\": [[0.0, \"#0d0887\"], [0.1111111111111111, \"#46039f\"], [0.2222222222222222, \"#7201a8\"], [0.3333333333333333, \"#9c179e\"], [0.4444444444444444, \"#bd3786\"], [0.5555555555555556, \"#d8576b\"], [0.6666666666666666, \"#ed7953\"], [0.7777777777777778, \"#fb9f3a\"], [0.8888888888888888, \"#fdca26\"], [1.0, \"#f0f921\"]], \"type\": \"histogram2d\"}], \"histogram2dcontour\": [{\"colorbar\": {\"outlinewidth\": 0, \"ticks\": \"\"}, \"colorscale\": [[0.0, \"#0d0887\"], [0.1111111111111111, \"#46039f\"], [0.2222222222222222, \"#7201a8\"], [0.3333333333333333, \"#9c179e\"], [0.4444444444444444, \"#bd3786\"], [0.5555555555555556, \"#d8576b\"], [0.6666666666666666, \"#ed7953\"], [0.7777777777777778, \"#fb9f3a\"], [0.8888888888888888, \"#fdca26\"], [1.0, \"#f0f921\"]], \"type\": \"histogram2dcontour\"}], \"mesh3d\": [{\"colorbar\": {\"outlinewidth\": 0, \"ticks\": \"\"}, \"type\": \"mesh3d\"}], \"parcoords\": [{\"line\": {\"colorbar\": {\"outlinewidth\": 0, \"ticks\": \"\"}}, \"type\": \"parcoords\"}], \"pie\": [{\"automargin\": true, \"type\": \"pie\"}], \"scatter\": [{\"marker\": {\"colorbar\": {\"outlinewidth\": 0, \"ticks\": \"\"}}, \"type\": \"scatter\"}], \"scatter3d\": [{\"line\": {\"colorbar\": {\"outlinewidth\": 0, \"ticks\": \"\"}}, \"marker\": {\"colorbar\": {\"outlinewidth\": 0, \"ticks\": \"\"}}, \"type\": \"scatter3d\"}], \"scattercarpet\": [{\"marker\": {\"colorbar\": {\"outlinewidth\": 0, \"ticks\": \"\"}}, \"type\": \"scattercarpet\"}], \"scattergeo\": [{\"marker\": {\"colorbar\": {\"outlinewidth\": 0, \"ticks\": \"\"}}, \"type\": \"scattergeo\"}], \"scattergl\": [{\"marker\": {\"colorbar\": {\"outlinewidth\": 0, \"ticks\": \"\"}}, \"type\": \"scattergl\"}], \"scattermapbox\": [{\"marker\": {\"colorbar\": {\"outlinewidth\": 0, \"ticks\": \"\"}}, \"type\": \"scattermapbox\"}], \"scatterpolar\": [{\"marker\": {\"colorbar\": {\"outlinewidth\": 0, \"ticks\": \"\"}}, \"type\": \"scatterpolar\"}], \"scatterpolargl\": [{\"marker\": {\"colorbar\": {\"outlinewidth\": 0, \"ticks\": \"\"}}, \"type\": \"scatterpolargl\"}], \"scatterternary\": [{\"marker\": {\"colorbar\": {\"outlinewidth\": 0, \"ticks\": \"\"}}, \"type\": \"scatterternary\"}], \"surface\": [{\"colorbar\": {\"outlinewidth\": 0, \"ticks\": \"\"}, \"colorscale\": [[0.0, \"#0d0887\"], [0.1111111111111111, \"#46039f\"], [0.2222222222222222, \"#7201a8\"], [0.3333333333333333, \"#9c179e\"], [0.4444444444444444, \"#bd3786\"], [0.5555555555555556, \"#d8576b\"], [0.6666666666666666, \"#ed7953\"], [0.7777777777777778, \"#fb9f3a\"], [0.8888888888888888, \"#fdca26\"], [1.0, \"#f0f921\"]], \"type\": \"surface\"}], \"table\": [{\"cells\": {\"fill\": {\"color\": \"#EBF0F8\"}, \"line\": {\"color\": \"white\"}}, \"header\": {\"fill\": {\"color\": \"#C8D4E3\"}, \"line\": {\"color\": \"white\"}}, \"type\": \"table\"}]}, \"layout\": {\"annotationdefaults\": {\"arrowcolor\": \"#2a3f5f\", \"arrowhead\": 0, \"arrowwidth\": 1}, \"coloraxis\": {\"colorbar\": {\"outlinewidth\": 0, \"ticks\": \"\"}}, \"colorscale\": {\"diverging\": [[0, \"#8e0152\"], [0.1, \"#c51b7d\"], [0.2, \"#de77ae\"], [0.3, \"#f1b6da\"], [0.4, \"#fde0ef\"], [0.5, \"#f7f7f7\"], [0.6, \"#e6f5d0\"], [0.7, \"#b8e186\"], [0.8, \"#7fbc41\"], [0.9, \"#4d9221\"], [1, \"#276419\"]], \"sequential\": [[0.0, \"#0d0887\"], [0.1111111111111111, \"#46039f\"], [0.2222222222222222, \"#7201a8\"], [0.3333333333333333, \"#9c179e\"], [0.4444444444444444, \"#bd3786\"], [0.5555555555555556, \"#d8576b\"], [0.6666666666666666, \"#ed7953\"], [0.7777777777777778, \"#fb9f3a\"], [0.8888888888888888, \"#fdca26\"], [1.0, \"#f0f921\"]], \"sequentialminus\": [[0.0, \"#0d0887\"], [0.1111111111111111, \"#46039f\"], [0.2222222222222222, \"#7201a8\"], [0.3333333333333333, \"#9c179e\"], [0.4444444444444444, \"#bd3786\"], [0.5555555555555556, \"#d8576b\"], [0.6666666666666666, \"#ed7953\"], [0.7777777777777778, \"#fb9f3a\"], [0.8888888888888888, \"#fdca26\"], [1.0, \"#f0f921\"]]}, \"colorway\": [\"#636efa\", \"#EF553B\", \"#00cc96\", \"#ab63fa\", \"#FFA15A\", \"#19d3f3\", \"#FF6692\", \"#B6E880\", \"#FF97FF\", \"#FECB52\"], \"font\": {\"color\": \"#2a3f5f\"}, \"geo\": {\"bgcolor\": \"white\", \"lakecolor\": \"white\", \"landcolor\": \"#E5ECF6\", \"showlakes\": true, \"showland\": true, \"subunitcolor\": \"white\"}, \"hoverlabel\": {\"align\": \"left\"}, \"hovermode\": \"closest\", \"mapbox\": {\"style\": \"light\"}, \"paper_bgcolor\": \"white\", \"plot_bgcolor\": \"#E5ECF6\", \"polar\": {\"angularaxis\": {\"gridcolor\": \"white\", \"linecolor\": \"white\", \"ticks\": \"\"}, \"bgcolor\": \"#E5ECF6\", \"radialaxis\": {\"gridcolor\": \"white\", \"linecolor\": \"white\", \"ticks\": \"\"}}, \"scene\": {\"xaxis\": {\"backgroundcolor\": \"#E5ECF6\", \"gridcolor\": \"white\", \"gridwidth\": 2, \"linecolor\": \"white\", \"showbackground\": true, \"ticks\": \"\", \"zerolinecolor\": \"white\"}, \"yaxis\": {\"backgroundcolor\": \"#E5ECF6\", \"gridcolor\": \"white\", \"gridwidth\": 2, \"linecolor\": \"white\", \"showbackground\": true, \"ticks\": \"\", \"zerolinecolor\": \"white\"}, \"zaxis\": {\"backgroundcolor\": \"#E5ECF6\", \"gridcolor\": \"white\", \"gridwidth\": 2, \"linecolor\": \"white\", \"showbackground\": true, \"ticks\": \"\", \"zerolinecolor\": \"white\"}}, \"shapedefaults\": {\"line\": {\"color\": \"#2a3f5f\"}}, \"ternary\": {\"aaxis\": {\"gridcolor\": \"white\", \"linecolor\": \"white\", \"ticks\": \"\"}, \"baxis\": {\"gridcolor\": \"white\", \"linecolor\": \"white\", \"ticks\": \"\"}, \"bgcolor\": \"#E5ECF6\", \"caxis\": {\"gridcolor\": \"white\", \"linecolor\": \"white\", \"ticks\": \"\"}}, \"title\": {\"x\": 0.05}, \"xaxis\": {\"automargin\": true, \"gridcolor\": \"white\", \"linecolor\": \"white\", \"ticks\": \"\", \"title\": {\"standoff\": 15}, \"zerolinecolor\": \"white\", \"zerolinewidth\": 2}, \"yaxis\": {\"automargin\": true, \"gridcolor\": \"white\", \"linecolor\": \"white\", \"ticks\": \"\", \"title\": {\"standoff\": 15}, \"zerolinecolor\": \"white\", \"zerolinewidth\": 2}}}, \"title\": {\"text\": \"The non-participation rate of customers who made an appointment on the same date\"}, \"xaxis\": {\"anchor\": \"y\", \"domain\": [0.0, 1.0], \"title\": {\"text\": \"How many appointments were made on the same date?\"}}, \"yaxis\": {\"anchor\": \"x\", \"domain\": [0.0, 1.0], \"title\": {\"text\": \"Rate of not attending to appointment\"}}},\n",
       "                        {\"responsive\": true}\n",
       "                    ).then(function(){\n",
       "                            \n",
       "var gd = document.getElementById('eb6f7cc9-2a35-4b90-b197-1f249178a7ce');\n",
       "var x = new MutationObserver(function (mutations, observer) {{\n",
       "        var display = window.getComputedStyle(gd).display;\n",
       "        if (!display || display === 'none') {{\n",
       "            console.log([gd, 'removed!']);\n",
       "            Plotly.purge(gd);\n",
       "            observer.disconnect();\n",
       "        }}\n",
       "}});\n",
       "\n",
       "// Listen for the removal of the full notebook cells\n",
       "var notebookContainer = gd.closest('#notebook-container');\n",
       "if (notebookContainer) {{\n",
       "    x.observe(notebookContainer, {childList: true});\n",
       "}}\n",
       "\n",
       "// Listen for the clearing of the current output cell\n",
       "var outputEl = gd.closest('.output');\n",
       "if (outputEl) {{\n",
       "    x.observe(outputEl, {childList: true});\n",
       "}}\n",
       "\n",
       "                        })\n",
       "                };\n",
       "                });\n",
       "            </script>\n",
       "        </div>"
      ]
     },
     "metadata": {},
     "output_type": "display_data"
    },
    {
     "data": {
      "text/plain": [
       "<Figure size 1440x1080 with 0 Axes>"
      ]
     },
     "metadata": {},
     "output_type": "display_data"
    }
   ],
   "source": [
    "\n",
    "\n",
    "plt.figure(figsize=(20, 15))\n",
    "dayapprate=noshowyes.value_counts()/(noshowno.value_counts()+noshowyes.value_counts())*100\n",
    "import plotly.express as px\n",
    "\n",
    "fig = px.bar(data_frame=dayapprate, \n",
    "             x=dayapprate.index, \n",
    "             y=dayapprate.values,title=\"The non-participation rate of customers who made an appointment on the same date\",\n",
    "                 labels={\"index\": \"How many appointments were made on the same date?\",  \n",
    "                         \"y\": \"Rate of not attending to appointment\"})\n",
    "\n",
    "fig.show()\n"
   ]
  },
  {
   "cell_type": "markdown",
   "metadata": {},
   "source": [
    "#### 13-Burs alanların randevuya katılma oranları (0=Burssuz 1=Burslu)"
   ]
  },
  {
   "cell_type": "code",
   "execution_count": 159,
   "metadata": {},
   "outputs": [
    {
     "data": {
      "image/png": "[encoded data removed]",
      "text/plain": [
       "<Figure size 1080x720 with 1 Axes>"
      ]
     },
     "metadata": {},
     "output_type": "display_data"
    }
   ],
   "source": [
    "plt.figure(figsize=(15, 10))\n",
    "ax = sns.countplot(x=\"Scholarship\", hue=\"No-show\", data=df)\n",
    "plt.xlabel('Scholarship recipients rate of attending the appointment',fontdict = axis_style)\n",
    "\n",
    "plt.show()"
   ]
  },
  {
   "cell_type": "markdown",
   "metadata": {},
   "source": [
    "Scholarship=0 rate"
   ]
  },
  {
   "cell_type": "code",
   "execution_count": 160,
   "metadata": {},
   "outputs": [],
   "source": [
    "yscolarshipn=df[(df[\"Scholarship\"]==1) & (df[\"No-show\"]==False)]['No-show'].count()\n",
    "yscolarshipy=df[(df[\"Scholarship\"]==1) & (df[\"No-show\"]==True)]['No-show'].count()\n",
    "\n",
    "nscolarshipn=df[(df[\"Scholarship\"]==0) & (df[\"No-show\"]==False)]['No-show'].count()\n",
    "nscolarshipy=df[(df[\"Scholarship\"]==0) & (df[\"No-show\"]==True)]['No-show'].count()\n"
   ]
  },
  {
   "cell_type": "markdown",
   "metadata": {},
   "source": [
    "#### Burs alanların randevuya katılma oranları (True=Burslu, False=Burssuz )"
   ]
  },
  {
   "cell_type": "code",
   "execution_count": 161,
   "metadata": {},
   "outputs": [
    {
     "data": {
      "image/png": "[encoded data removed]",
      "text/plain": [
       "<Figure size 432x288 with 1 Axes>"
      ]
     },
     "metadata": {},
     "output_type": "display_data"
    }
   ],
   "source": [
    "yscolar=yscolarshipn/(yscolarshipn+yscolarshipy)*100\n",
    "nscolar=nscolarshipn/(nscolarshipn+nscolarshipy)*100\n",
    "\n",
    "labels = 'True', 'False'\n",
    "sizes = [yscolar, nscolar]\n",
    "explode = (0.1, 0)  \n",
    "\n",
    "\n",
    "fig1, ax1 = plt.subplots()\n",
    "ax1.pie(sizes, explode=explode, labels=labels,colors=colors, autopct='%1.1f%%',\n",
    "        shadow=True, startangle=90)\n",
    "ax1.axis('equal') \n",
    "plt.xlabel('Scholarship recipients rate of attending the appointment',fontdict = axis_style)\n",
    "\n",
    "plt.show()"
   ]
  },
  {
   "cell_type": "markdown",
   "metadata": {},
   "source": [
    ">The rate of those who do not receive a scholarship to attend the appointment"
   ]
  },
  {
   "cell_type": "markdown",
   "metadata": {},
   "source": [
    "#### 14-Randevu günlerine göre katılım grafiği"
   ]
  },
  {
   "cell_type": "code",
   "execution_count": 162,
   "metadata": {},
   "outputs": [],
   "source": [
    "df[\"Day-name\"]=df.AppointmentDay.dt.day_name()"
   ]
  },
  {
   "cell_type": "code",
   "execution_count": 163,
   "metadata": {},
   "outputs": [
    {
     "data": {
      "image/png": "[encoded data removed]",
      "text/plain": [
       "<Figure size 1080x720 with 1 Axes>"
      ]
     },
     "metadata": {},
     "output_type": "display_data"
    }
   ],
   "source": [
    "appdaysn=df[df[\"No-show\"]==False][\"Day-name\"].value_counts()\n",
    "appdaysy=df[df[\"No-show\"]==True][\"Day-name\"].value_counts()\n",
    "plt.figure(figsize=(15, 10))\n",
    "plt.subplot(1,1,1)\n",
    "plt.bar(appdaysn.index,appdaysn.values, color = \"yellowgreen\",label = 'participated')\n",
    "plt.bar(appdaysy.index,appdaysy.values, color = \"lightcoral\",label = 'did not participate')\n",
    "plt.xticks(rotation = 90, fontsize = 9)\n",
    "plt.xlabel('Scholarship recipients rate of attending the appointment',fontdict = axis_style)\n",
    "plt.legend()\n",
    "plt.show()"
   ]
  },
  {
   "cell_type": "code",
   "execution_count": 164,
   "metadata": {},
   "outputs": [
    {
     "data": {
      "text/plain": [
       "Wednesday    20774\n",
       "Tuesday      20488\n",
       "Monday       18024\n",
       "Friday       14982\n",
       "Thursday     13909\n",
       "Saturday        30\n",
       "Name: AppointmentDay, dtype: int64"
      ]
     },
     "execution_count": 164,
     "metadata": {},
     "output_type": "execute_result"
    }
   ],
   "source": [
    "df[df[\"No-show\"]==False].AppointmentDay.dt.day_name().value_counts()\n"
   ]
  },
  {
   "cell_type": "code",
   "execution_count": 165,
   "metadata": {},
   "outputs": [
    {
     "data": {
      "application/vnd.plotly.v1+json": {
       "config": {
        "plotlyServerURL": "https://plot.ly"
       },
       "data": [
        {
         "alignmentgroup": "True",
         "hovertemplate": "x=%{x}<br>Rate of not attending to appointment=%{y}<extra></extra>",
         "legendgroup": "",
         "marker": {
          "color": "#636efa"
         },
         "name": "",
         "offsetgroup": "",
         "orientation": "v",
         "showlegend": false,
         "textposition": "auto",
         "type": "bar",
         "x": [
          "Friday",
          "Monday",
          "Saturday",
          "Thursday",
          "Tuesday",
          "Wednesday"
         ],
         "xaxis": "x",
         "y": [
          21.226142278773857,
          20.648058466144228,
          23.076923076923077,
          19.354090566475328,
          20.093603744149764,
          19.689179263153825
         ],
         "yaxis": "y"
        }
       ],
       "layout": {
        "barmode": "relative",
        "legend": {
         "tracegroupgap": 0
        },
        "template": {
         "data": {
          "bar": [
           {
            "error_x": {
             "color": "#2a3f5f"
            },
            "error_y": {
             "color": "#2a3f5f"
            },
            "marker": {
             "line": {
              "color": "#E5ECF6",
              "width": 0.5
             }
            },
            "type": "bar"
           }
          ],
          "barpolar": [
           {
            "marker": {
             "line": {
              "color": "#E5ECF6",
              "width": 0.5
             }
            },
            "type": "barpolar"
           }
          ],
          "carpet": [
           {
            "aaxis": {
             "endlinecolor": "#2a3f5f",
             "gridcolor": "white",
             "linecolor": "white",
             "minorgridcolor": "white",
             "startlinecolor": "#2a3f5f"
            },
            "baxis": {
             "endlinecolor": "#2a3f5f",
             "gridcolor": "white",
             "linecolor": "white",
             "minorgridcolor": "white",
             "startlinecolor": "#2a3f5f"
            },
            "type": "carpet"
           }
          ],
          "choropleth": [
           {
            "colorbar": {
             "outlinewidth": 0,
             "ticks": ""
            },
            "type": "choropleth"
           }
          ],
          "contour": [
           {
            "colorbar": {
             "outlinewidth": 0,
             "ticks": ""
            },
            "colorscale": [
             [
              0,
              "#0d0887"
             ],
             [
              0.1111111111111111,
              "#46039f"
             ],
             [
              0.2222222222222222,
              "#7201a8"
             ],
             [
              0.3333333333333333,
              "#9c179e"
             ],
             [
              0.4444444444444444,
              "#bd3786"
             ],
             [
              0.5555555555555556,
              "#d8576b"
             ],
             [
              0.6666666666666666,
              "#ed7953"
             ],
             [
              0.7777777777777778,
              "#fb9f3a"
             ],
             [
              0.8888888888888888,
              "#fdca26"
             ],
             [
              1,
              "#f0f921"
             ]
            ],
            "type": "contour"
           }
          ],
          "contourcarpet": [
           {
            "colorbar": {
             "outlinewidth": 0,
             "ticks": ""
            },
            "type": "contourcarpet"
           }
          ],
          "heatmap": [
           {
            "colorbar": {
             "outlinewidth": 0,
             "ticks": ""
            },
            "colorscale": [
             [
              0,
              "#0d0887"
             ],
             [
              0.1111111111111111,
              "#46039f"
             ],
             [
              0.2222222222222222,
              "#7201a8"
             ],
             [
              0.3333333333333333,
              "#9c179e"
             ],
             [
              0.4444444444444444,
              "#bd3786"
             ],
             [
              0.5555555555555556,
              "#d8576b"
             ],
             [
              0.6666666666666666,
              "#ed7953"
             ],
             [
              0.7777777777777778,
              "#fb9f3a"
             ],
             [
              0.8888888888888888,
              "#fdca26"
             ],
             [
              1,
              "#f0f921"
             ]
            ],
            "type": "heatmap"
           }
          ],
          "heatmapgl": [
           {
            "colorbar": {
             "outlinewidth": 0,
             "ticks": ""
            },
            "colorscale": [
             [
              0,
              "#0d0887"
             ],
             [
              0.1111111111111111,
              "#46039f"
             ],
             [
              0.2222222222222222,
              "#7201a8"
             ],
             [
              0.3333333333333333,
              "#9c179e"
             ],
             [
              0.4444444444444444,
              "#bd3786"
             ],
             [
              0.5555555555555556,
              "#d8576b"
             ],
             [
              0.6666666666666666,
              "#ed7953"
             ],
             [
              0.7777777777777778,
              "#fb9f3a"
             ],
             [
              0.8888888888888888,
              "#fdca26"
             ],
             [
              1,
              "#f0f921"
             ]
            ],
            "type": "heatmapgl"
           }
          ],
          "histogram": [
           {
            "marker": {
             "colorbar": {
              "outlinewidth": 0,
              "ticks": ""
             }
            },
            "type": "histogram"
           }
          ],
          "histogram2d": [
           {
            "colorbar": {
             "outlinewidth": 0,
             "ticks": ""
            },
            "colorscale": [
             [
              0,
              "#0d0887"
             ],
             [
              0.1111111111111111,
              "#46039f"
             ],
             [
              0.2222222222222222,
              "#7201a8"
             ],
             [
              0.3333333333333333,
              "#9c179e"
             ],
             [
              0.4444444444444444,
              "#bd3786"
             ],
             [
              0.5555555555555556,
              "#d8576b"
             ],
             [
              0.6666666666666666,
              "#ed7953"
             ],
             [
              0.7777777777777778,
              "#fb9f3a"
             ],
             [
              0.8888888888888888,
              "#fdca26"
             ],
             [
              1,
              "#f0f921"
             ]
            ],
            "type": "histogram2d"
           }
          ],
          "histogram2dcontour": [
           {
            "colorbar": {
             "outlinewidth": 0,
             "ticks": ""
            },
            "colorscale": [
             [
              0,
              "#0d0887"
             ],
             [
              0.1111111111111111,
              "#46039f"
             ],
             [
              0.2222222222222222,
              "#7201a8"
             ],
             [
              0.3333333333333333,
              "#9c179e"
             ],
             [
              0.4444444444444444,
              "#bd3786"
             ],
             [
              0.5555555555555556,
              "#d8576b"
             ],
             [
              0.6666666666666666,
              "#ed7953"
             ],
             [
              0.7777777777777778,
              "#fb9f3a"
             ],
             [
              0.8888888888888888,
              "#fdca26"
             ],
             [
              1,
              "#f0f921"
             ]
            ],
            "type": "histogram2dcontour"
           }
          ],
          "mesh3d": [
           {
            "colorbar": {
             "outlinewidth": 0,
             "ticks": ""
            },
            "type": "mesh3d"
           }
          ],
          "parcoords": [
           {
            "line": {
             "colorbar": {
              "outlinewidth": 0,
              "ticks": ""
             }
            },
            "type": "parcoords"
           }
          ],
          "pie": [
           {
            "automargin": true,
            "type": "pie"
           }
          ],
          "scatter": [
           {
            "marker": {
             "colorbar": {
              "outlinewidth": 0,
              "ticks": ""
             }
            },
            "type": "scatter"
           }
          ],
          "scatter3d": [
           {
            "line": {
             "colorbar": {
              "outlinewidth": 0,
              "ticks": ""
             }
            },
            "marker": {
             "colorbar": {
              "outlinewidth": 0,
              "ticks": ""
             }
            },
            "type": "scatter3d"
           }
          ],
          "scattercarpet": [
           {
            "marker": {
             "colorbar": {
              "outlinewidth": 0,
              "ticks": ""
             }
            },
            "type": "scattercarpet"
           }
          ],
          "scattergeo": [
           {
            "marker": {
             "colorbar": {
              "outlinewidth": 0,
              "ticks": ""
             }
            },
            "type": "scattergeo"
           }
          ],
          "scattergl": [
           {
            "marker": {
             "colorbar": {
              "outlinewidth": 0,
              "ticks": ""
             }
            },
            "type": "scattergl"
           }
          ],
          "scattermapbox": [
           {
            "marker": {
             "colorbar": {
              "outlinewidth": 0,
              "ticks": ""
             }
            },
            "type": "scattermapbox"
           }
          ],
          "scatterpolar": [
           {
            "marker": {
             "colorbar": {
              "outlinewidth": 0,
              "ticks": ""
             }
            },
            "type": "scatterpolar"
           }
          ],
          "scatterpolargl": [
           {
            "marker": {
             "colorbar": {
              "outlinewidth": 0,
              "ticks": ""
             }
            },
            "type": "scatterpolargl"
           }
          ],
          "scatterternary": [
           {
            "marker": {
             "colorbar": {
              "outlinewidth": 0,
              "ticks": ""
             }
            },
            "type": "scatterternary"
           }
          ],
          "surface": [
           {
            "colorbar": {
             "outlinewidth": 0,
             "ticks": ""
            },
            "colorscale": [
             [
              0,
              "#0d0887"
             ],
             [
              0.1111111111111111,
              "#46039f"
             ],
             [
              0.2222222222222222,
              "#7201a8"
             ],
             [
              0.3333333333333333,
              "#9c179e"
             ],
             [
              0.4444444444444444,
              "#bd3786"
             ],
             [
              0.5555555555555556,
              "#d8576b"
             ],
             [
              0.6666666666666666,
              "#ed7953"
             ],
             [
              0.7777777777777778,
              "#fb9f3a"
             ],
             [
              0.8888888888888888,
              "#fdca26"
             ],
             [
              1,
              "#f0f921"
             ]
            ],
            "type": "surface"
           }
          ],
          "table": [
           {
            "cells": {
             "fill": {
              "color": "#EBF0F8"
             },
             "line": {
              "color": "white"
             }
            },
            "header": {
             "fill": {
              "color": "#C8D4E3"
             },
             "line": {
              "color": "white"
             }
            },
            "type": "table"
           }
          ]
         },
         "layout": {
          "annotationdefaults": {
           "arrowcolor": "#2a3f5f",
           "arrowhead": 0,
           "arrowwidth": 1
          },
          "coloraxis": {
           "colorbar": {
            "outlinewidth": 0,
            "ticks": ""
           }
          },
          "colorscale": {
           "diverging": [
            [
             0,
             "#8e0152"
            ],
            [
             0.1,
             "#c51b7d"
            ],
            [
             0.2,
             "#de77ae"
            ],
            [
             0.3,
             "#f1b6da"
            ],
            [
             0.4,
             "#fde0ef"
            ],
            [
             0.5,
             "#f7f7f7"
            ],
            [
             0.6,
             "#e6f5d0"
            ],
            [
             0.7,
             "#b8e186"
            ],
            [
             0.8,
             "#7fbc41"
            ],
            [
             0.9,
             "#4d9221"
            ],
            [
             1,
             "#276419"
            ]
           ],
           "sequential": [
            [
             0,
             "#0d0887"
            ],
            [
             0.1111111111111111,
             "#46039f"
            ],
            [
             0.2222222222222222,
             "#7201a8"
            ],
            [
             0.3333333333333333,
             "#9c179e"
            ],
            [
             0.4444444444444444,
             "#bd3786"
            ],
            [
             0.5555555555555556,
             "#d8576b"
            ],
            [
             0.6666666666666666,
             "#ed7953"
            ],
            [
             0.7777777777777778,
             "#fb9f3a"
            ],
            [
             0.8888888888888888,
             "#fdca26"
            ],
            [
             1,
             "#f0f921"
            ]
           ],
           "sequentialminus": [
            [
             0,
             "#0d0887"
            ],
            [
             0.1111111111111111,
             "#46039f"
            ],
            [
             0.2222222222222222,
             "#7201a8"
            ],
            [
             0.3333333333333333,
             "#9c179e"
            ],
            [
             0.4444444444444444,
             "#bd3786"
            ],
            [
             0.5555555555555556,
             "#d8576b"
            ],
            [
             0.6666666666666666,
             "#ed7953"
            ],
            [
             0.7777777777777778,
             "#fb9f3a"
            ],
            [
             0.8888888888888888,
             "#fdca26"
            ],
            [
             1,
             "#f0f921"
            ]
           ]
          },
          "colorway": [
           "#636efa",
           "#EF553B",
           "#00cc96",
           "#ab63fa",
           "#FFA15A",
           "#19d3f3",
           "#FF6692",
           "#B6E880",
           "#FF97FF",
           "#FECB52"
          ],
          "font": {
           "color": "#2a3f5f"
          },
          "geo": {
           "bgcolor": "white",
           "lakecolor": "white",
           "landcolor": "#E5ECF6",
           "showlakes": true,
           "showland": true,
           "subunitcolor": "white"
          },
          "hoverlabel": {
           "align": "left"
          },
          "hovermode": "closest",
          "mapbox": {
           "style": "light"
          },
          "paper_bgcolor": "white",
          "plot_bgcolor": "#E5ECF6",
          "polar": {
           "angularaxis": {
            "gridcolor": "white",
            "linecolor": "white",
            "ticks": ""
           },
           "bgcolor": "#E5ECF6",
           "radialaxis": {
            "gridcolor": "white",
            "linecolor": "white",
            "ticks": ""
           }
          },
          "scene": {
           "xaxis": {
            "backgroundcolor": "#E5ECF6",
            "gridcolor": "white",
            "gridwidth": 2,
            "linecolor": "white",
            "showbackground": true,
            "ticks": "",
            "zerolinecolor": "white"
           },
           "yaxis": {
            "backgroundcolor": "#E5ECF6",
            "gridcolor": "white",
            "gridwidth": 2,
            "linecolor": "white",
            "showbackground": true,
            "ticks": "",
            "zerolinecolor": "white"
           },
           "zaxis": {
            "backgroundcolor": "#E5ECF6",
            "gridcolor": "white",
            "gridwidth": 2,
            "linecolor": "white",
            "showbackground": true,
            "ticks": "",
            "zerolinecolor": "white"
           }
          },
          "shapedefaults": {
           "line": {
            "color": "#2a3f5f"
           }
          },
          "ternary": {
           "aaxis": {
            "gridcolor": "white",
            "linecolor": "white",
            "ticks": ""
           },
           "baxis": {
            "gridcolor": "white",
            "linecolor": "white",
            "ticks": ""
           },
           "bgcolor": "#E5ECF6",
           "caxis": {
            "gridcolor": "white",
            "linecolor": "white",
            "ticks": ""
           }
          },
          "title": {
           "x": 0.05
          },
          "xaxis": {
           "automargin": true,
           "gridcolor": "white",
           "linecolor": "white",
           "ticks": "",
           "title": {
            "standoff": 15
           },
           "zerolinecolor": "white",
           "zerolinewidth": 2
          },
          "yaxis": {
           "automargin": true,
           "gridcolor": "white",
           "linecolor": "white",
           "ticks": "",
           "title": {
            "standoff": 15
           },
           "zerolinecolor": "white",
           "zerolinewidth": 2
          }
         }
        },
        "title": {
         "text": "Daily attendance chart"
        },
        "xaxis": {
         "anchor": "y",
         "domain": [
          0,
          1
         ],
         "title": {
          "text": "x"
         }
        },
        "yaxis": {
         "anchor": "x",
         "domain": [
          0,
          1
         ],
         "title": {
          "text": "Rate of not attending to appointment"
         }
        }
       }
      },
      "text/html": [
       "<div>\n",
       "        \n",
       "        \n",
       "            <div id=\"0c1056d1-ceaf-4277-8521-0b655d0c6340\" class=\"plotly-graph-div\" style=\"height:525px; width:100%;\"></div>\n",
       "            <script type=\"text/javascript\">\n",
       "                require([\"plotly\"], function(Plotly) {\n",
       "                    window.PLOTLYENV=window.PLOTLYENV || {};\n",
       "                    \n",
       "                if (document.getElementById(\"0c1056d1-ceaf-4277-8521-0b655d0c6340\")) {\n",
       "                    Plotly.newPlot(\n",
       "                        '0c1056d1-ceaf-4277-8521-0b655d0c6340',\n",
       "                        [{\"alignmentgroup\": \"True\", \"hovertemplate\": \"x=%{x}<br>Rate of not attending to appointment=%{y}<extra></extra>\", \"legendgroup\": \"\", \"marker\": {\"color\": \"#636efa\"}, \"name\": \"\", \"offsetgroup\": \"\", \"orientation\": \"v\", \"showlegend\": false, \"textposition\": \"auto\", \"type\": \"bar\", \"x\": [\"Friday\", \"Monday\", \"Saturday\", \"Thursday\", \"Tuesday\", \"Wednesday\"], \"xaxis\": \"x\", \"y\": [21.226142278773857, 20.648058466144228, 23.076923076923077, 19.354090566475328, 20.093603744149764, 19.689179263153825], \"yaxis\": \"y\"}],\n",
       "                        {\"barmode\": \"relative\", \"legend\": {\"tracegroupgap\": 0}, \"template\": {\"data\": {\"bar\": [{\"error_x\": {\"color\": \"#2a3f5f\"}, \"error_y\": {\"color\": \"#2a3f5f\"}, \"marker\": {\"line\": {\"color\": \"#E5ECF6\", \"width\": 0.5}}, \"type\": \"bar\"}], \"barpolar\": [{\"marker\": {\"line\": {\"color\": \"#E5ECF6\", \"width\": 0.5}}, \"type\": \"barpolar\"}], \"carpet\": [{\"aaxis\": {\"endlinecolor\": \"#2a3f5f\", \"gridcolor\": \"white\", \"linecolor\": \"white\", \"minorgridcolor\": \"white\", \"startlinecolor\": \"#2a3f5f\"}, \"baxis\": {\"endlinecolor\": \"#2a3f5f\", \"gridcolor\": \"white\", \"linecolor\": \"white\", \"minorgridcolor\": \"white\", \"startlinecolor\": \"#2a3f5f\"}, \"type\": \"carpet\"}], \"choropleth\": [{\"colorbar\": {\"outlinewidth\": 0, \"ticks\": \"\"}, \"type\": \"choropleth\"}], \"contour\": [{\"colorbar\": {\"outlinewidth\": 0, \"ticks\": \"\"}, \"colorscale\": [[0.0, \"#0d0887\"], [0.1111111111111111, \"#46039f\"], [0.2222222222222222, \"#7201a8\"], [0.3333333333333333, \"#9c179e\"], [0.4444444444444444, \"#bd3786\"], [0.5555555555555556, \"#d8576b\"], [0.6666666666666666, \"#ed7953\"], [0.7777777777777778, \"#fb9f3a\"], [0.8888888888888888, \"#fdca26\"], [1.0, \"#f0f921\"]], \"type\": \"contour\"}], \"contourcarpet\": [{\"colorbar\": {\"outlinewidth\": 0, \"ticks\": \"\"}, \"type\": \"contourcarpet\"}], \"heatmap\": [{\"colorbar\": {\"outlinewidth\": 0, \"ticks\": \"\"}, \"colorscale\": [[0.0, \"#0d0887\"], [0.1111111111111111, \"#46039f\"], [0.2222222222222222, \"#7201a8\"], [0.3333333333333333, \"#9c179e\"], [0.4444444444444444, \"#bd3786\"], [0.5555555555555556, \"#d8576b\"], [0.6666666666666666, \"#ed7953\"], [0.7777777777777778, \"#fb9f3a\"], [0.8888888888888888, \"#fdca26\"], [1.0, \"#f0f921\"]], \"type\": \"heatmap\"}], \"heatmapgl\": [{\"colorbar\": {\"outlinewidth\": 0, \"ticks\": \"\"}, \"colorscale\": [[0.0, \"#0d0887\"], [0.1111111111111111, \"#46039f\"], [0.2222222222222222, \"#7201a8\"], [0.3333333333333333, \"#9c179e\"], [0.4444444444444444, \"#bd3786\"], [0.5555555555555556, \"#d8576b\"], [0.6666666666666666, \"#ed7953\"], [0.7777777777777778, \"#fb9f3a\"], [0.8888888888888888, \"#fdca26\"], [1.0, \"#f0f921\"]], \"type\": \"heatmapgl\"}], \"histogram\": [{\"marker\": {\"colorbar\": {\"outlinewidth\": 0, \"ticks\": \"\"}}, \"type\": \"histogram\"}], \"histogram2d\": [{\"colorbar\": {\"outlinewidth\": 0, \"ticks\": \"\"}, \"colorscale\": [[0.0, \"#0d0887\"], [0.1111111111111111, \"#46039f\"], [0.2222222222222222, \"#7201a8\"], [0.3333333333333333, \"#9c179e\"], [0.4444444444444444, \"#bd3786\"], [0.5555555555555556, \"#d8576b\"], [0.6666666666666666, \"#ed7953\"], [0.7777777777777778, \"#fb9f3a\"], [0.8888888888888888, \"#fdca26\"], [1.0, \"#f0f921\"]], \"type\": \"histogram2d\"}], \"histogram2dcontour\": [{\"colorbar\": {\"outlinewidth\": 0, \"ticks\": \"\"}, \"colorscale\": [[0.0, \"#0d0887\"], [0.1111111111111111, \"#46039f\"], [0.2222222222222222, \"#7201a8\"], [0.3333333333333333, \"#9c179e\"], [0.4444444444444444, \"#bd3786\"], [0.5555555555555556, \"#d8576b\"], [0.6666666666666666, \"#ed7953\"], [0.7777777777777778, \"#fb9f3a\"], [0.8888888888888888, \"#fdca26\"], [1.0, \"#f0f921\"]], \"type\": \"histogram2dcontour\"}], \"mesh3d\": [{\"colorbar\": {\"outlinewidth\": 0, \"ticks\": \"\"}, \"type\": \"mesh3d\"}], \"parcoords\": [{\"line\": {\"colorbar\": {\"outlinewidth\": 0, \"ticks\": \"\"}}, \"type\": \"parcoords\"}], \"pie\": [{\"automargin\": true, \"type\": \"pie\"}], \"scatter\": [{\"marker\": {\"colorbar\": {\"outlinewidth\": 0, \"ticks\": \"\"}}, \"type\": \"scatter\"}], \"scatter3d\": [{\"line\": {\"colorbar\": {\"outlinewidth\": 0, \"ticks\": \"\"}}, \"marker\": {\"colorbar\": {\"outlinewidth\": 0, \"ticks\": \"\"}}, \"type\": \"scatter3d\"}], \"scattercarpet\": [{\"marker\": {\"colorbar\": {\"outlinewidth\": 0, \"ticks\": \"\"}}, \"type\": \"scattercarpet\"}], \"scattergeo\": [{\"marker\": {\"colorbar\": {\"outlinewidth\": 0, \"ticks\": \"\"}}, \"type\": \"scattergeo\"}], \"scattergl\": [{\"marker\": {\"colorbar\": {\"outlinewidth\": 0, \"ticks\": \"\"}}, \"type\": \"scattergl\"}], \"scattermapbox\": [{\"marker\": {\"colorbar\": {\"outlinewidth\": 0, \"ticks\": \"\"}}, \"type\": \"scattermapbox\"}], \"scatterpolar\": [{\"marker\": {\"colorbar\": {\"outlinewidth\": 0, \"ticks\": \"\"}}, \"type\": \"scatterpolar\"}], \"scatterpolargl\": [{\"marker\": {\"colorbar\": {\"outlinewidth\": 0, \"ticks\": \"\"}}, \"type\": \"scatterpolargl\"}], \"scatterternary\": [{\"marker\": {\"colorbar\": {\"outlinewidth\": 0, \"ticks\": \"\"}}, \"type\": \"scatterternary\"}], \"surface\": [{\"colorbar\": {\"outlinewidth\": 0, \"ticks\": \"\"}, \"colorscale\": [[0.0, \"#0d0887\"], [0.1111111111111111, \"#46039f\"], [0.2222222222222222, \"#7201a8\"], [0.3333333333333333, \"#9c179e\"], [0.4444444444444444, \"#bd3786\"], [0.5555555555555556, \"#d8576b\"], [0.6666666666666666, \"#ed7953\"], [0.7777777777777778, \"#fb9f3a\"], [0.8888888888888888, \"#fdca26\"], [1.0, \"#f0f921\"]], \"type\": \"surface\"}], \"table\": [{\"cells\": {\"fill\": {\"color\": \"#EBF0F8\"}, \"line\": {\"color\": \"white\"}}, \"header\": {\"fill\": {\"color\": \"#C8D4E3\"}, \"line\": {\"color\": \"white\"}}, \"type\": \"table\"}]}, \"layout\": {\"annotationdefaults\": {\"arrowcolor\": \"#2a3f5f\", \"arrowhead\": 0, \"arrowwidth\": 1}, \"coloraxis\": {\"colorbar\": {\"outlinewidth\": 0, \"ticks\": \"\"}}, \"colorscale\": {\"diverging\": [[0, \"#8e0152\"], [0.1, \"#c51b7d\"], [0.2, \"#de77ae\"], [0.3, \"#f1b6da\"], [0.4, \"#fde0ef\"], [0.5, \"#f7f7f7\"], [0.6, \"#e6f5d0\"], [0.7, \"#b8e186\"], [0.8, \"#7fbc41\"], [0.9, \"#4d9221\"], [1, \"#276419\"]], \"sequential\": [[0.0, \"#0d0887\"], [0.1111111111111111, \"#46039f\"], [0.2222222222222222, \"#7201a8\"], [0.3333333333333333, \"#9c179e\"], [0.4444444444444444, \"#bd3786\"], [0.5555555555555556, \"#d8576b\"], [0.6666666666666666, \"#ed7953\"], [0.7777777777777778, \"#fb9f3a\"], [0.8888888888888888, \"#fdca26\"], [1.0, \"#f0f921\"]], \"sequentialminus\": [[0.0, \"#0d0887\"], [0.1111111111111111, \"#46039f\"], [0.2222222222222222, \"#7201a8\"], [0.3333333333333333, \"#9c179e\"], [0.4444444444444444, \"#bd3786\"], [0.5555555555555556, \"#d8576b\"], [0.6666666666666666, \"#ed7953\"], [0.7777777777777778, \"#fb9f3a\"], [0.8888888888888888, \"#fdca26\"], [1.0, \"#f0f921\"]]}, \"colorway\": [\"#636efa\", \"#EF553B\", \"#00cc96\", \"#ab63fa\", \"#FFA15A\", \"#19d3f3\", \"#FF6692\", \"#B6E880\", \"#FF97FF\", \"#FECB52\"], \"font\": {\"color\": \"#2a3f5f\"}, \"geo\": {\"bgcolor\": \"white\", \"lakecolor\": \"white\", \"landcolor\": \"#E5ECF6\", \"showlakes\": true, \"showland\": true, \"subunitcolor\": \"white\"}, \"hoverlabel\": {\"align\": \"left\"}, \"hovermode\": \"closest\", \"mapbox\": {\"style\": \"light\"}, \"paper_bgcolor\": \"white\", \"plot_bgcolor\": \"#E5ECF6\", \"polar\": {\"angularaxis\": {\"gridcolor\": \"white\", \"linecolor\": \"white\", \"ticks\": \"\"}, \"bgcolor\": \"#E5ECF6\", \"radialaxis\": {\"gridcolor\": \"white\", \"linecolor\": \"white\", \"ticks\": \"\"}}, \"scene\": {\"xaxis\": {\"backgroundcolor\": \"#E5ECF6\", \"gridcolor\": \"white\", \"gridwidth\": 2, \"linecolor\": \"white\", \"showbackground\": true, \"ticks\": \"\", \"zerolinecolor\": \"white\"}, \"yaxis\": {\"backgroundcolor\": \"#E5ECF6\", \"gridcolor\": \"white\", \"gridwidth\": 2, \"linecolor\": \"white\", \"showbackground\": true, \"ticks\": \"\", \"zerolinecolor\": \"white\"}, \"zaxis\": {\"backgroundcolor\": \"#E5ECF6\", \"gridcolor\": \"white\", \"gridwidth\": 2, \"linecolor\": \"white\", \"showbackground\": true, \"ticks\": \"\", \"zerolinecolor\": \"white\"}}, \"shapedefaults\": {\"line\": {\"color\": \"#2a3f5f\"}}, \"ternary\": {\"aaxis\": {\"gridcolor\": \"white\", \"linecolor\": \"white\", \"ticks\": \"\"}, \"baxis\": {\"gridcolor\": \"white\", \"linecolor\": \"white\", \"ticks\": \"\"}, \"bgcolor\": \"#E5ECF6\", \"caxis\": {\"gridcolor\": \"white\", \"linecolor\": \"white\", \"ticks\": \"\"}}, \"title\": {\"x\": 0.05}, \"xaxis\": {\"automargin\": true, \"gridcolor\": \"white\", \"linecolor\": \"white\", \"ticks\": \"\", \"title\": {\"standoff\": 15}, \"zerolinecolor\": \"white\", \"zerolinewidth\": 2}, \"yaxis\": {\"automargin\": true, \"gridcolor\": \"white\", \"linecolor\": \"white\", \"ticks\": \"\", \"title\": {\"standoff\": 15}, \"zerolinecolor\": \"white\", \"zerolinewidth\": 2}}}, \"title\": {\"text\": \"Daily attendance chart\"}, \"xaxis\": {\"anchor\": \"y\", \"domain\": [0.0, 1.0], \"title\": {\"text\": \"x\"}}, \"yaxis\": {\"anchor\": \"x\", \"domain\": [0.0, 1.0], \"title\": {\"text\": \"Rate of not attending to appointment\"}}},\n",
       "                        {\"responsive\": true}\n",
       "                    ).then(function(){\n",
       "                            \n",
       "var gd = document.getElementById('0c1056d1-ceaf-4277-8521-0b655d0c6340');\n",
       "var x = new MutationObserver(function (mutations, observer) {{\n",
       "        var display = window.getComputedStyle(gd).display;\n",
       "        if (!display || display === 'none') {{\n",
       "            console.log([gd, 'removed!']);\n",
       "            Plotly.purge(gd);\n",
       "            observer.disconnect();\n",
       "        }}\n",
       "}});\n",
       "\n",
       "// Listen for the removal of the full notebook cells\n",
       "var notebookContainer = gd.closest('#notebook-container');\n",
       "if (notebookContainer) {{\n",
       "    x.observe(notebookContainer, {childList: true});\n",
       "}}\n",
       "\n",
       "// Listen for the clearing of the current output cell\n",
       "var outputEl = gd.closest('.output');\n",
       "if (outputEl) {{\n",
       "    x.observe(outputEl, {childList: true});\n",
       "}}\n",
       "\n",
       "                        })\n",
       "                };\n",
       "                });\n",
       "            </script>\n",
       "        </div>"
      ]
     },
     "metadata": {},
     "output_type": "display_data"
    },
    {
     "data": {
      "text/plain": [
       "<Figure size 1440x1080 with 0 Axes>"
      ]
     },
     "metadata": {},
     "output_type": "display_data"
    }
   ],
   "source": [
    "\n",
    "plt.figure(figsize=(20, 15))\n",
    "samedayrate=appdaysy/(appdaysn+appdaysy)*100\n",
    "import plotly.express as px\n",
    "\n",
    "fig = px.bar(data_frame=dayrate, \n",
    "             x=samedayrate.index, \n",
    "             y=samedayrate.values,title=\"Daily attendance chart\",\n",
    "                 labels={\"index\": \"What day was an appointment\",  \n",
    "                         \"y\": \"Rate of not attending to appointment\"})\n",
    "\n",
    "fig.show()\n"
   ]
  },
  {
   "cell_type": "markdown",
   "metadata": {},
   "source": [
    "#### 15- Sms Bilgisi (0= Sms Almayanlar 1=Sms Alanlar)"
   ]
  },
  {
   "cell_type": "code",
   "execution_count": 166,
   "metadata": {},
   "outputs": [
    {
     "data": {
      "image/png": "[encoded data removed]",
      "text/plain": [
       "<Figure size 1080x720 with 1 Axes>"
      ]
     },
     "metadata": {},
     "output_type": "display_data"
    }
   ],
   "source": [
    "plt.figure(figsize=(15, 10))\n",
    "ax = sns.countplot(x=\"SMS_received\", hue=\"No-show\", data=df)\n",
    "plt.xlabel('SMS_received',fontdict = axis_style)\n",
    "\n",
    "plt.show()"
   ]
  },
  {
   "cell_type": "markdown",
   "metadata": {},
   "source": [
    "##### Percentage of customers attending an appointment with sms"
   ]
  },
  {
   "cell_type": "code",
   "execution_count": 167,
   "metadata": {},
   "outputs": [],
   "source": [
    "ysmsno=df[(df[\"No-show\"]==False) & (df['SMS_received']>0)][\"No-show\"].count()\n",
    "ysmsyes=df[(df[\"No-show\"]==True) & (df['SMS_received']>0)][\"No-show\"].count()"
   ]
  },
  {
   "cell_type": "code",
   "execution_count": 168,
   "metadata": {},
   "outputs": [],
   "source": [
    "nsmsno=df[(df[\"No-show\"]==False) & (df['SMS_received']==0)][\"No-show\"].count()\n",
    "nsmsyes=df[(df[\"No-show\"]==True) & (df['SMS_received']==0)][\"No-show\"].count()"
   ]
  },
  {
   "cell_type": "code",
   "execution_count": 169,
   "metadata": {},
   "outputs": [
    {
     "data": {
      "image/png": "[encoded data removed]",
      "text/plain": [
       "<Figure size 432x288 with 1 Axes>"
      ]
     },
     "metadata": {},
     "output_type": "display_data"
    }
   ],
   "source": [
    "smsyes=ysmsno/(ysmsno+ysmsyes)*100\n",
    "smsno=nsmsno/(nsmsno+nsmsyes)*100\n",
    "\n",
    "labels = 'received sms', 'non-received sms'\n",
    "sizes = [smsyes, smsno]\n",
    "explode = (0.1, 0)  \n",
    "\n",
    "\n",
    "fig1, ax1 = plt.subplots()\n",
    "ax1.pie(sizes, explode=explode, labels=labels,colors=colors, autopct='%1.1f%%',\n",
    "        shadow=True, startangle=90)\n",
    "ax1.axis('equal') \n",
    "plt.xlabel('SMS_received',fontdict = axis_style)\n",
    "\n",
    "plt.show()"
   ]
  },
  {
   "cell_type": "code",
   "execution_count": 170,
   "metadata": {},
   "outputs": [],
   "source": [
    "dfsms=df[df['SMS_received']>0]"
   ]
  },
  {
   "cell_type": "code",
   "execution_count": 171,
   "metadata": {},
   "outputs": [
    {
     "data": {
      "text/plain": [
       "45522      2 days 08:01:12\n",
       "51902      2 days 08:01:24\n",
       "45508      2 days 08:01:25\n",
       "90157      2 days 08:01:30\n",
       "45493      2 days 08:01:39\n",
       "                ...       \n",
       "102791   178 days 13:16:10\n",
       "102799   178 days 13:16:43\n",
       "102796   178 days 13:16:59\n",
       "102797   178 days 13:17:18\n",
       "102795   178 days 13:19:01\n",
       "Length: 35482, dtype: timedelta64[ns]"
      ]
     },
     "execution_count": 171,
     "metadata": {},
     "output_type": "execute_result"
    }
   ],
   "source": [
    "((dfsms.AppointmentDay)-(dfsms.ScheduledDay)).sort_values()"
   ]
  },
  {
   "cell_type": "code",
   "execution_count": 172,
   "metadata": {},
   "outputs": [],
   "source": [
    "chronicpatientdf=df[(df[\"Hipertension\"]==1) | (df[\"Diabetes\"]==1) | (df[\"Alcoholism\"]==1) | (df[\"Handcap\"]==1)]\n",
    "notchronic=df[(df[\"Hipertension\"]!=1) & (df[\"Diabetes\"]!=1) & (df[\"Alcoholism\"]!=1) & (df[\"Handcap\"]!=1)]"
   ]
  },
  {
   "cell_type": "markdown",
   "metadata": {},
   "source": [
    "##### Kronik Hastalıklar İçin \"Chronic\" isminde Bir Kolon Oluşturuyorum (0=Kronik Hastalığı Yok, 1=Kronik Hasta)"
   ]
  },
  {
   "cell_type": "code",
   "execution_count": 173,
   "metadata": {},
   "outputs": [],
   "source": [
    "chronicpatientdf[\"Chronic\"]=1\n",
    "notchronic[\"Chronic\"]=0\n",
    "df=pd.concat([chronicpatientdf,notchronic],axis=0)"
   ]
  },
  {
   "cell_type": "code",
   "execution_count": 174,
   "metadata": {},
   "outputs": [
    {
     "data": {
      "image/png": "[encoded data removed]",
      "text/plain": [
       "<Figure size 1080x720 with 1 Axes>"
      ]
     },
     "metadata": {},
     "output_type": "display_data"
    }
   ],
   "source": [
    "plt.figure(figsize=(15, 10))\n",
    "ax = sns.countplot(x=\"Chronic\", hue=\"No-show\", data=df)\n",
    "plt.xlabel('Chronic Patient',fontdict = axis_style)\n",
    "\n",
    "plt.show()"
   ]
  },
  {
   "cell_type": "markdown",
   "metadata": {},
   "source": [
    "> Chronic patient participation rate"
   ]
  },
  {
   "cell_type": "markdown",
   "metadata": {},
   "source": [
    "#### 16-Randevuya gelen kronik hastalığı olan ve olmayanların oranı"
   ]
  },
  {
   "cell_type": "code",
   "execution_count": 175,
   "metadata": {},
   "outputs": [],
   "source": [
    "chronicn=chronicpatientdf[chronicpatientdf[\"No-show\"]==False][\"No-show\"].count()\n",
    "chronicy=chronicpatientdf[chronicpatientdf[\"No-show\"]==True][\"No-show\"].count()"
   ]
  },
  {
   "cell_type": "code",
   "execution_count": 176,
   "metadata": {},
   "outputs": [],
   "source": [
    "notchronicn=notchronic[notchronic[\"No-show\"]==False][\"No-show\"].count()\n",
    "notchronicy=notchronic[notchronic[\"No-show\"]==True][\"No-show\"].count()"
   ]
  },
  {
   "cell_type": "code",
   "execution_count": 177,
   "metadata": {},
   "outputs": [
    {
     "data": {
      "image/png": "[encoded data removed]",
      "text/plain": [
       "<Figure size 432x288 with 1 Axes>"
      ]
     },
     "metadata": {},
     "output_type": "display_data"
    }
   ],
   "source": [
    "ychronic=chronicn/(chronicn+chronicy)*100\n",
    "nchronic=notchronicn/(notchronicn+notchronicy)*100\n",
    "\n",
    "\n",
    "labels = 'Chronic Patient', 'Non-Chronic Patient'\n",
    "sizes = [ychronic, nchronic]\n",
    "explode = (0.1, 0)  \n",
    "\n",
    "\n",
    "fig1, ax1 = plt.subplots()\n",
    "ax1.pie(sizes, explode=explode, labels=labels,colors=colors, autopct='%1.1f%%',\n",
    "        shadow=True, startangle=90)\n",
    "ax1.axis('equal') \n",
    "plt.xlabel('Chronic Patient Rate',fontdict = axis_style)\n",
    "\n",
    "plt.show()"
   ]
  },
  {
   "cell_type": "markdown",
   "metadata": {},
   "source": [
    "> Non-chronic patient participation rate"
   ]
  },
  {
   "cell_type": "markdown",
   "metadata": {},
   "source": [
    "#### 17- Yaşlara göre Randevular"
   ]
  },
  {
   "cell_type": "code",
   "execution_count": 178,
   "metadata": {},
   "outputs": [
    {
     "data": {
      "image/png": "[encoded data removed]",
      "text/plain": [
       "<Figure size 1296x720 with 1 Axes>"
      ]
     },
     "metadata": {},
     "output_type": "display_data"
    }
   ],
   "source": [
    "plt.figure(figsize=(18,10))\n",
    "ax = sns.distplot(df[\"Age\"])\n",
    "plt.show()"
   ]
  },
  {
   "cell_type": "code",
   "execution_count": 179,
   "metadata": {},
   "outputs": [],
   "source": [
    "agen=df[df[\"No-show\"]==False].Age\n",
    "agey=df[df[\"No-show\"]==True].Age\n"
   ]
  },
  {
   "cell_type": "code",
   "execution_count": 180,
   "metadata": {},
   "outputs": [
    {
     "data": {
      "application/vnd.plotly.v1+json": {
       "config": {
        "plotlyServerURL": "https://plot.ly"
       },
       "data": [
        {
         "alignmentgroup": "True",
         "hovertemplate": "x=%{x}<br>Rate of not attending to appointment=%{y}<extra></extra>",
         "legendgroup": "",
         "marker": {
          "color": "#636efa"
         },
         "name": "",
         "offsetgroup": "",
         "orientation": "v",
         "showlegend": false,
         "textposition": "auto",
         "type": "bar",
         "x": [
          0,
          1,
          2,
          3,
          4,
          5,
          6,
          7,
          8,
          9,
          10,
          11,
          12,
          13,
          14,
          15,
          16,
          17,
          18,
          19,
          20,
          21,
          22,
          23,
          24,
          25,
          26,
          27,
          28,
          29,
          30,
          31,
          32,
          33,
          34,
          35,
          36,
          37,
          38,
          39,
          40,
          41,
          42,
          43,
          44,
          45,
          46,
          47,
          48,
          49,
          50,
          51,
          52,
          53,
          54,
          55,
          56,
          57,
          58,
          59,
          60,
          61,
          62,
          63,
          64,
          65,
          66,
          67,
          68,
          69,
          70,
          71,
          72,
          73,
          74,
          75,
          76,
          77,
          78,
          79,
          80,
          81,
          82,
          83,
          84,
          85,
          86,
          87,
          88,
          89,
          90,
          91,
          92,
          93,
          94,
          95,
          96,
          97,
          98,
          99,
          100,
          102,
          115
         ],
         "xaxis": "x",
         "y": [
          81.94405199208816,
          81.74219093708754,
          84.42521631644006,
          81.69200264375414,
          78.29099307159353,
          78.50906648757555,
          79.22419460881,
          78.90679747722494,
          77.6685393258427,
          73.46938775510205,
          76.138147566719,
          79.3305439330544,
          75.0915750915751,
          72.52946509519492,
          71.73524150268337,
          73.41040462427746,
          74.82168330955777,
          73.75745526838966,
          76.46267652992603,
          74.49838187702265,
          75.29575504523312,
          75.55096418732782,
          74.49127906976744,
          74.57375833951076,
          74.15458937198068,
          73.57357357357357,
          75.68199532346064,
          76.10748002904866,
          77.07182320441989,
          76.47897362794012,
          75.7396449704142,
          77.76233495482975,
          78.00664451827242,
          77.16535433070865,
          78.89908256880734,
          79.02757619738752,
          78.22784810126582,
          79.32159165035877,
          80.35604665438919,
          77.86458333333334,
          78.53067047075606,
          77.11738484398218,
          79.16666666666666,
          77.00892857142857,
          78.27841291190316,
          82.45010323468685,
          80.6164383561644,
          80.84648493543759,
          80.6290207290922,
          81.96125907990314,
          81.9590824550527,
          81.94001276324187,
          82.9896907216495,
          80.67837674136887,
          82.48366013071895,
          81.96491228070175,
          83.91437308868501,
          82.65751715533375,
          82.77739959155889,
          83.55911330049261,
          83.27427356484762,
          85.10796723752793,
          83.84146341463415,
          86.97234352256187,
          86.32607062359129,
          84.83197093551317,
          84.91996630160067,
          84.78931140801645,
          83.300395256917,
          85.8173076923077,
          87.01657458563537,
          82.58992805755395,
          83.57723577235772,
          86.75862068965517,
          85.21594684385381,
          85.11029411764706,
          84.0630472854641,
          85.00948766603416,
          83.54898336414048,
          84.35897435897436,
          84.14872798434442,
          85.48387096774194,
          83.16326530612244,
          78.21428571428571,
          88.7459807073955,
          82.18181818181817,
          83.84615384615385,
          85.32608695652173,
          90.47619047619048,
          83.23699421965318,
          78.89908256880734,
          80.3030303030303,
          76.74418604651163,
          81.13207547169812,
          81.81818181818183,
          75,
          94.11764705882352,
          81.81818181818183,
          83.33333333333334,
          null,
          null,
          null,
          40
         ],
         "yaxis": "y"
        }
       ],
       "layout": {
        "barmode": "relative",
        "legend": {
         "tracegroupgap": 0
        },
        "template": {
         "data": {
          "bar": [
           {
            "error_x": {
             "color": "#2a3f5f"
            },
            "error_y": {
             "color": "#2a3f5f"
            },
            "marker": {
             "line": {
              "color": "#E5ECF6",
              "width": 0.5
             }
            },
            "type": "bar"
           }
          ],
          "barpolar": [
           {
            "marker": {
             "line": {
              "color": "#E5ECF6",
              "width": 0.5
             }
            },
            "type": "barpolar"
           }
          ],
          "carpet": [
           {
            "aaxis": {
             "endlinecolor": "#2a3f5f",
             "gridcolor": "white",
             "linecolor": "white",
             "minorgridcolor": "white",
             "startlinecolor": "#2a3f5f"
            },
            "baxis": {
             "endlinecolor": "#2a3f5f",
             "gridcolor": "white",
             "linecolor": "white",
             "minorgridcolor": "white",
             "startlinecolor": "#2a3f5f"
            },
            "type": "carpet"
           }
          ],
          "choropleth": [
           {
            "colorbar": {
             "outlinewidth": 0,
             "ticks": ""
            },
            "type": "choropleth"
           }
          ],
          "contour": [
           {
            "colorbar": {
             "outlinewidth": 0,
             "ticks": ""
            },
            "colorscale": [
             [
              0,
              "#0d0887"
             ],
             [
              0.1111111111111111,
              "#46039f"
             ],
             [
              0.2222222222222222,
              "#7201a8"
             ],
             [
              0.3333333333333333,
              "#9c179e"
             ],
             [
              0.4444444444444444,
              "#bd3786"
             ],
             [
              0.5555555555555556,
              "#d8576b"
             ],
             [
              0.6666666666666666,
              "#ed7953"
             ],
             [
              0.7777777777777778,
              "#fb9f3a"
             ],
             [
              0.8888888888888888,
              "#fdca26"
             ],
             [
              1,
              "#f0f921"
             ]
            ],
            "type": "contour"
           }
          ],
          "contourcarpet": [
           {
            "colorbar": {
             "outlinewidth": 0,
             "ticks": ""
            },
            "type": "contourcarpet"
           }
          ],
          "heatmap": [
           {
            "colorbar": {
             "outlinewidth": 0,
             "ticks": ""
            },
            "colorscale": [
             [
              0,
              "#0d0887"
             ],
             [
              0.1111111111111111,
              "#46039f"
             ],
             [
              0.2222222222222222,
              "#7201a8"
             ],
             [
              0.3333333333333333,
              "#9c179e"
             ],
             [
              0.4444444444444444,
              "#bd3786"
             ],
             [
              0.5555555555555556,
              "#d8576b"
             ],
             [
              0.6666666666666666,
              "#ed7953"
             ],
             [
              0.7777777777777778,
              "#fb9f3a"
             ],
             [
              0.8888888888888888,
              "#fdca26"
             ],
             [
              1,
              "#f0f921"
             ]
            ],
            "type": "heatmap"
           }
          ],
          "heatmapgl": [
           {
            "colorbar": {
             "outlinewidth": 0,
             "ticks": ""
            },
            "colorscale": [
             [
              0,
              "#0d0887"
             ],
             [
              0.1111111111111111,
              "#46039f"
             ],
             [
              0.2222222222222222,
              "#7201a8"
             ],
             [
              0.3333333333333333,
              "#9c179e"
             ],
             [
              0.4444444444444444,
              "#bd3786"
             ],
             [
              0.5555555555555556,
              "#d8576b"
             ],
             [
              0.6666666666666666,
              "#ed7953"
             ],
             [
              0.7777777777777778,
              "#fb9f3a"
             ],
             [
              0.8888888888888888,
              "#fdca26"
             ],
             [
              1,
              "#f0f921"
             ]
            ],
            "type": "heatmapgl"
           }
          ],
          "histogram": [
           {
            "marker": {
             "colorbar": {
              "outlinewidth": 0,
              "ticks": ""
             }
            },
            "type": "histogram"
           }
          ],
          "histogram2d": [
           {
            "colorbar": {
             "outlinewidth": 0,
             "ticks": ""
            },
            "colorscale": [
             [
              0,
              "#0d0887"
             ],
             [
              0.1111111111111111,
              "#46039f"
             ],
             [
              0.2222222222222222,
              "#7201a8"
             ],
             [
              0.3333333333333333,
              "#9c179e"
             ],
             [
              0.4444444444444444,
              "#bd3786"
             ],
             [
              0.5555555555555556,
              "#d8576b"
             ],
             [
              0.6666666666666666,
              "#ed7953"
             ],
             [
              0.7777777777777778,
              "#fb9f3a"
             ],
             [
              0.8888888888888888,
              "#fdca26"
             ],
             [
              1,
              "#f0f921"
             ]
            ],
            "type": "histogram2d"
           }
          ],
          "histogram2dcontour": [
           {
            "colorbar": {
             "outlinewidth": 0,
             "ticks": ""
            },
            "colorscale": [
             [
              0,
              "#0d0887"
             ],
             [
              0.1111111111111111,
              "#46039f"
             ],
             [
              0.2222222222222222,
              "#7201a8"
             ],
             [
              0.3333333333333333,
              "#9c179e"
             ],
             [
              0.4444444444444444,
              "#bd3786"
             ],
             [
              0.5555555555555556,
              "#d8576b"
             ],
             [
              0.6666666666666666,
              "#ed7953"
             ],
             [
              0.7777777777777778,
              "#fb9f3a"
             ],
             [
              0.8888888888888888,
              "#fdca26"
             ],
             [
              1,
              "#f0f921"
             ]
            ],
            "type": "histogram2dcontour"
           }
          ],
          "mesh3d": [
           {
            "colorbar": {
             "outlinewidth": 0,
             "ticks": ""
            },
            "type": "mesh3d"
           }
          ],
          "parcoords": [
           {
            "line": {
             "colorbar": {
              "outlinewidth": 0,
              "ticks": ""
             }
            },
            "type": "parcoords"
           }
          ],
          "pie": [
           {
            "automargin": true,
            "type": "pie"
           }
          ],
          "scatter": [
           {
            "marker": {
             "colorbar": {
              "outlinewidth": 0,
              "ticks": ""
             }
            },
            "type": "scatter"
           }
          ],
          "scatter3d": [
           {
            "line": {
             "colorbar": {
              "outlinewidth": 0,
              "ticks": ""
             }
            },
            "marker": {
             "colorbar": {
              "outlinewidth": 0,
              "ticks": ""
             }
            },
            "type": "scatter3d"
           }
          ],
          "scattercarpet": [
           {
            "marker": {
             "colorbar": {
              "outlinewidth": 0,
              "ticks": ""
             }
            },
            "type": "scattercarpet"
           }
          ],
          "scattergeo": [
           {
            "marker": {
             "colorbar": {
              "outlinewidth": 0,
              "ticks": ""
             }
            },
            "type": "scattergeo"
           }
          ],
          "scattergl": [
           {
            "marker": {
             "colorbar": {
              "outlinewidth": 0,
              "ticks": ""
             }
            },
            "type": "scattergl"
           }
          ],
          "scattermapbox": [
           {
            "marker": {
             "colorbar": {
              "outlinewidth": 0,
              "ticks": ""
             }
            },
            "type": "scattermapbox"
           }
          ],
          "scatterpolar": [
           {
            "marker": {
             "colorbar": {
              "outlinewidth": 0,
              "ticks": ""
             }
            },
            "type": "scatterpolar"
           }
          ],
          "scatterpolargl": [
           {
            "marker": {
             "colorbar": {
              "outlinewidth": 0,
              "ticks": ""
             }
            },
            "type": "scatterpolargl"
           }
          ],
          "scatterternary": [
           {
            "marker": {
             "colorbar": {
              "outlinewidth": 0,
              "ticks": ""
             }
            },
            "type": "scatterternary"
           }
          ],
          "surface": [
           {
            "colorbar": {
             "outlinewidth": 0,
             "ticks": ""
            },
            "colorscale": [
             [
              0,
              "#0d0887"
             ],
             [
              0.1111111111111111,
              "#46039f"
             ],
             [
              0.2222222222222222,
              "#7201a8"
             ],
             [
              0.3333333333333333,
              "#9c179e"
             ],
             [
              0.4444444444444444,
              "#bd3786"
             ],
             [
              0.5555555555555556,
              "#d8576b"
             ],
             [
              0.6666666666666666,
              "#ed7953"
             ],
             [
              0.7777777777777778,
              "#fb9f3a"
             ],
             [
              0.8888888888888888,
              "#fdca26"
             ],
             [
              1,
              "#f0f921"
             ]
            ],
            "type": "surface"
           }
          ],
          "table": [
           {
            "cells": {
             "fill": {
              "color": "#EBF0F8"
             },
             "line": {
              "color": "white"
             }
            },
            "header": {
             "fill": {
              "color": "#C8D4E3"
             },
             "line": {
              "color": "white"
             }
            },
            "type": "table"
           }
          ]
         },
         "layout": {
          "annotationdefaults": {
           "arrowcolor": "#2a3f5f",
           "arrowhead": 0,
           "arrowwidth": 1
          },
          "coloraxis": {
           "colorbar": {
            "outlinewidth": 0,
            "ticks": ""
           }
          },
          "colorscale": {
           "diverging": [
            [
             0,
             "#8e0152"
            ],
            [
             0.1,
             "#c51b7d"
            ],
            [
             0.2,
             "#de77ae"
            ],
            [
             0.3,
             "#f1b6da"
            ],
            [
             0.4,
             "#fde0ef"
            ],
            [
             0.5,
             "#f7f7f7"
            ],
            [
             0.6,
             "#e6f5d0"
            ],
            [
             0.7,
             "#b8e186"
            ],
            [
             0.8,
             "#7fbc41"
            ],
            [
             0.9,
             "#4d9221"
            ],
            [
             1,
             "#276419"
            ]
           ],
           "sequential": [
            [
             0,
             "#0d0887"
            ],
            [
             0.1111111111111111,
             "#46039f"
            ],
            [
             0.2222222222222222,
             "#7201a8"
            ],
            [
             0.3333333333333333,
             "#9c179e"
            ],
            [
             0.4444444444444444,
             "#bd3786"
            ],
            [
             0.5555555555555556,
             "#d8576b"
            ],
            [
             0.6666666666666666,
             "#ed7953"
            ],
            [
             0.7777777777777778,
             "#fb9f3a"
            ],
            [
             0.8888888888888888,
             "#fdca26"
            ],
            [
             1,
             "#f0f921"
            ]
           ],
           "sequentialminus": [
            [
             0,
             "#0d0887"
            ],
            [
             0.1111111111111111,
             "#46039f"
            ],
            [
             0.2222222222222222,
             "#7201a8"
            ],
            [
             0.3333333333333333,
             "#9c179e"
            ],
            [
             0.4444444444444444,
             "#bd3786"
            ],
            [
             0.5555555555555556,
             "#d8576b"
            ],
            [
             0.6666666666666666,
             "#ed7953"
            ],
            [
             0.7777777777777778,
             "#fb9f3a"
            ],
            [
             0.8888888888888888,
             "#fdca26"
            ],
            [
             1,
             "#f0f921"
            ]
           ]
          },
          "colorway": [
           "#636efa",
           "#EF553B",
           "#00cc96",
           "#ab63fa",
           "#FFA15A",
           "#19d3f3",
           "#FF6692",
           "#B6E880",
           "#FF97FF",
           "#FECB52"
          ],
          "font": {
           "color": "#2a3f5f"
          },
          "geo": {
           "bgcolor": "white",
           "lakecolor": "white",
           "landcolor": "#E5ECF6",
           "showlakes": true,
           "showland": true,
           "subunitcolor": "white"
          },
          "hoverlabel": {
           "align": "left"
          },
          "hovermode": "closest",
          "mapbox": {
           "style": "light"
          },
          "paper_bgcolor": "white",
          "plot_bgcolor": "#E5ECF6",
          "polar": {
           "angularaxis": {
            "gridcolor": "white",
            "linecolor": "white",
            "ticks": ""
           },
           "bgcolor": "#E5ECF6",
           "radialaxis": {
            "gridcolor": "white",
            "linecolor": "white",
            "ticks": ""
           }
          },
          "scene": {
           "xaxis": {
            "backgroundcolor": "#E5ECF6",
            "gridcolor": "white",
            "gridwidth": 2,
            "linecolor": "white",
            "showbackground": true,
            "ticks": "",
            "zerolinecolor": "white"
           },
           "yaxis": {
            "backgroundcolor": "#E5ECF6",
            "gridcolor": "white",
            "gridwidth": 2,
            "linecolor": "white",
            "showbackground": true,
            "ticks": "",
            "zerolinecolor": "white"
           },
           "zaxis": {
            "backgroundcolor": "#E5ECF6",
            "gridcolor": "white",
            "gridwidth": 2,
            "linecolor": "white",
            "showbackground": true,
            "ticks": "",
            "zerolinecolor": "white"
           }
          },
          "shapedefaults": {
           "line": {
            "color": "#2a3f5f"
           }
          },
          "ternary": {
           "aaxis": {
            "gridcolor": "white",
            "linecolor": "white",
            "ticks": ""
           },
           "baxis": {
            "gridcolor": "white",
            "linecolor": "white",
            "ticks": ""
           },
           "bgcolor": "#E5ECF6",
           "caxis": {
            "gridcolor": "white",
            "linecolor": "white",
            "ticks": ""
           }
          },
          "title": {
           "x": 0.05
          },
          "xaxis": {
           "automargin": true,
           "gridcolor": "white",
           "linecolor": "white",
           "ticks": "",
           "title": {
            "standoff": 15
           },
           "zerolinecolor": "white",
           "zerolinewidth": 2
          },
          "yaxis": {
           "automargin": true,
           "gridcolor": "white",
           "linecolor": "white",
           "ticks": "",
           "title": {
            "standoff": 15
           },
           "zerolinecolor": "white",
           "zerolinewidth": 2
          }
         }
        },
        "title": {
         "text": "-"
        },
        "xaxis": {
         "anchor": "y",
         "domain": [
          0,
          1
         ],
         "title": {
          "text": "x"
         }
        },
        "yaxis": {
         "anchor": "x",
         "domain": [
          0,
          1
         ],
         "title": {
          "text": "Rate of not attending to appointment"
         }
        }
       }
      },
      "text/html": [
       "<div>\n",
       "        \n",
       "        \n",
       "            <div id=\"c8522e30-4836-4e3f-a622-34c12a22b1e8\" class=\"plotly-graph-div\" style=\"height:525px; width:100%;\"></div>\n",
       "            <script type=\"text/javascript\">\n",
       "                require([\"plotly\"], function(Plotly) {\n",
       "                    window.PLOTLYENV=window.PLOTLYENV || {};\n",
       "                    \n",
       "                if (document.getElementById(\"c8522e30-4836-4e3f-a622-34c12a22b1e8\")) {\n",
       "                    Plotly.newPlot(\n",
       "                        'c8522e30-4836-4e3f-a622-34c12a22b1e8',\n",
       "                        [{\"alignmentgroup\": \"True\", \"hovertemplate\": \"x=%{x}<br>Rate of not attending to appointment=%{y}<extra></extra>\", \"legendgroup\": \"\", \"marker\": {\"color\": \"#636efa\"}, \"name\": \"\", \"offsetgroup\": \"\", \"orientation\": \"v\", \"showlegend\": false, \"textposition\": \"auto\", \"type\": \"bar\", \"x\": [0, 1, 2, 3, 4, 5, 6, 7, 8, 9, 10, 11, 12, 13, 14, 15, 16, 17, 18, 19, 20, 21, 22, 23, 24, 25, 26, 27, 28, 29, 30, 31, 32, 33, 34, 35, 36, 37, 38, 39, 40, 41, 42, 43, 44, 45, 46, 47, 48, 49, 50, 51, 52, 53, 54, 55, 56, 57, 58, 59, 60, 61, 62, 63, 64, 65, 66, 67, 68, 69, 70, 71, 72, 73, 74, 75, 76, 77, 78, 79, 80, 81, 82, 83, 84, 85, 86, 87, 88, 89, 90, 91, 92, 93, 94, 95, 96, 97, 98, 99, 100, 102, 115], \"xaxis\": \"x\", \"y\": [81.94405199208816, 81.74219093708754, 84.42521631644006, 81.69200264375414, 78.29099307159353, 78.50906648757555, 79.22419460881, 78.90679747722494, 77.6685393258427, 73.46938775510205, 76.138147566719, 79.3305439330544, 75.0915750915751, 72.52946509519492, 71.73524150268337, 73.41040462427746, 74.82168330955777, 73.75745526838966, 76.46267652992603, 74.49838187702265, 75.29575504523312, 75.55096418732782, 74.49127906976744, 74.57375833951076, 74.15458937198068, 73.57357357357357, 75.68199532346064, 76.10748002904866, 77.07182320441989, 76.47897362794012, 75.7396449704142, 77.76233495482975, 78.00664451827242, 77.16535433070865, 78.89908256880734, 79.02757619738752, 78.22784810126582, 79.32159165035877, 80.35604665438919, 77.86458333333334, 78.53067047075606, 77.11738484398218, 79.16666666666666, 77.00892857142857, 78.27841291190316, 82.45010323468685, 80.6164383561644, 80.84648493543759, 80.6290207290922, 81.96125907990314, 81.9590824550527, 81.94001276324187, 82.9896907216495, 80.67837674136887, 82.48366013071895, 81.96491228070175, 83.91437308868501, 82.65751715533375, 82.77739959155889, 83.55911330049261, 83.27427356484762, 85.10796723752793, 83.84146341463415, 86.97234352256187, 86.32607062359129, 84.83197093551317, 84.91996630160067, 84.78931140801645, 83.300395256917, 85.8173076923077, 87.01657458563537, 82.58992805755395, 83.57723577235772, 86.75862068965517, 85.21594684385381, 85.11029411764706, 84.0630472854641, 85.00948766603416, 83.54898336414048, 84.35897435897436, 84.14872798434442, 85.48387096774194, 83.16326530612244, 78.21428571428571, 88.7459807073955, 82.18181818181817, 83.84615384615385, 85.32608695652173, 90.47619047619048, 83.23699421965318, 78.89908256880734, 80.3030303030303, 76.74418604651163, 81.13207547169812, 81.81818181818183, 75.0, 94.11764705882352, 81.81818181818183, 83.33333333333334, null, null, null, 40.0], \"yaxis\": \"y\"}],\n",
       "                        {\"barmode\": \"relative\", \"legend\": {\"tracegroupgap\": 0}, \"template\": {\"data\": {\"bar\": [{\"error_x\": {\"color\": \"#2a3f5f\"}, \"error_y\": {\"color\": \"#2a3f5f\"}, \"marker\": {\"line\": {\"color\": \"#E5ECF6\", \"width\": 0.5}}, \"type\": \"bar\"}], \"barpolar\": [{\"marker\": {\"line\": {\"color\": \"#E5ECF6\", \"width\": 0.5}}, \"type\": \"barpolar\"}], \"carpet\": [{\"aaxis\": {\"endlinecolor\": \"#2a3f5f\", \"gridcolor\": \"white\", \"linecolor\": \"white\", \"minorgridcolor\": \"white\", \"startlinecolor\": \"#2a3f5f\"}, \"baxis\": {\"endlinecolor\": \"#2a3f5f\", \"gridcolor\": \"white\", \"linecolor\": \"white\", \"minorgridcolor\": \"white\", \"startlinecolor\": \"#2a3f5f\"}, \"type\": \"carpet\"}], \"choropleth\": [{\"colorbar\": {\"outlinewidth\": 0, \"ticks\": \"\"}, \"type\": \"choropleth\"}], \"contour\": [{\"colorbar\": {\"outlinewidth\": 0, \"ticks\": \"\"}, \"colorscale\": [[0.0, \"#0d0887\"], [0.1111111111111111, \"#46039f\"], [0.2222222222222222, \"#7201a8\"], [0.3333333333333333, \"#9c179e\"], [0.4444444444444444, \"#bd3786\"], [0.5555555555555556, \"#d8576b\"], [0.6666666666666666, \"#ed7953\"], [0.7777777777777778, \"#fb9f3a\"], [0.8888888888888888, \"#fdca26\"], [1.0, \"#f0f921\"]], \"type\": \"contour\"}], \"contourcarpet\": [{\"colorbar\": {\"outlinewidth\": 0, \"ticks\": \"\"}, \"type\": \"contourcarpet\"}], \"heatmap\": [{\"colorbar\": {\"outlinewidth\": 0, \"ticks\": \"\"}, \"colorscale\": [[0.0, \"#0d0887\"], [0.1111111111111111, \"#46039f\"], [0.2222222222222222, \"#7201a8\"], [0.3333333333333333, \"#9c179e\"], [0.4444444444444444, \"#bd3786\"], [0.5555555555555556, \"#d8576b\"], [0.6666666666666666, \"#ed7953\"], [0.7777777777777778, \"#fb9f3a\"], [0.8888888888888888, \"#fdca26\"], [1.0, \"#f0f921\"]], \"type\": \"heatmap\"}], \"heatmapgl\": [{\"colorbar\": {\"outlinewidth\": 0, \"ticks\": \"\"}, \"colorscale\": [[0.0, \"#0d0887\"], [0.1111111111111111, \"#46039f\"], [0.2222222222222222, \"#7201a8\"], [0.3333333333333333, \"#9c179e\"], [0.4444444444444444, \"#bd3786\"], [0.5555555555555556, \"#d8576b\"], [0.6666666666666666, \"#ed7953\"], [0.7777777777777778, \"#fb9f3a\"], [0.8888888888888888, \"#fdca26\"], [1.0, \"#f0f921\"]], \"type\": \"heatmapgl\"}], \"histogram\": [{\"marker\": {\"colorbar\": {\"outlinewidth\": 0, \"ticks\": \"\"}}, \"type\": \"histogram\"}], \"histogram2d\": [{\"colorbar\": {\"outlinewidth\": 0, \"ticks\": \"\"}, \"colorscale\": [[0.0, \"#0d0887\"], [0.1111111111111111, \"#46039f\"], [0.2222222222222222, \"#7201a8\"], [0.3333333333333333, \"#9c179e\"], [0.4444444444444444, \"#bd3786\"], [0.5555555555555556, \"#d8576b\"], [0.6666666666666666, \"#ed7953\"], [0.7777777777777778, \"#fb9f3a\"], [0.8888888888888888, \"#fdca26\"], [1.0, \"#f0f921\"]], \"type\": \"histogram2d\"}], \"histogram2dcontour\": [{\"colorbar\": {\"outlinewidth\": 0, \"ticks\": \"\"}, \"colorscale\": [[0.0, \"#0d0887\"], [0.1111111111111111, \"#46039f\"], [0.2222222222222222, \"#7201a8\"], [0.3333333333333333, \"#9c179e\"], [0.4444444444444444, \"#bd3786\"], [0.5555555555555556, \"#d8576b\"], [0.6666666666666666, \"#ed7953\"], [0.7777777777777778, \"#fb9f3a\"], [0.8888888888888888, \"#fdca26\"], [1.0, \"#f0f921\"]], \"type\": \"histogram2dcontour\"}], \"mesh3d\": [{\"colorbar\": {\"outlinewidth\": 0, \"ticks\": \"\"}, \"type\": \"mesh3d\"}], \"parcoords\": [{\"line\": {\"colorbar\": {\"outlinewidth\": 0, \"ticks\": \"\"}}, \"type\": \"parcoords\"}], \"pie\": [{\"automargin\": true, \"type\": \"pie\"}], \"scatter\": [{\"marker\": {\"colorbar\": {\"outlinewidth\": 0, \"ticks\": \"\"}}, \"type\": \"scatter\"}], \"scatter3d\": [{\"line\": {\"colorbar\": {\"outlinewidth\": 0, \"ticks\": \"\"}}, \"marker\": {\"colorbar\": {\"outlinewidth\": 0, \"ticks\": \"\"}}, \"type\": \"scatter3d\"}], \"scattercarpet\": [{\"marker\": {\"colorbar\": {\"outlinewidth\": 0, \"ticks\": \"\"}}, \"type\": \"scattercarpet\"}], \"scattergeo\": [{\"marker\": {\"colorbar\": {\"outlinewidth\": 0, \"ticks\": \"\"}}, \"type\": \"scattergeo\"}], \"scattergl\": [{\"marker\": {\"colorbar\": {\"outlinewidth\": 0, \"ticks\": \"\"}}, \"type\": \"scattergl\"}], \"scattermapbox\": [{\"marker\": {\"colorbar\": {\"outlinewidth\": 0, \"ticks\": \"\"}}, \"type\": \"scattermapbox\"}], \"scatterpolar\": [{\"marker\": {\"colorbar\": {\"outlinewidth\": 0, \"ticks\": \"\"}}, \"type\": \"scatterpolar\"}], \"scatterpolargl\": [{\"marker\": {\"colorbar\": {\"outlinewidth\": 0, \"ticks\": \"\"}}, \"type\": \"scatterpolargl\"}], \"scatterternary\": [{\"marker\": {\"colorbar\": {\"outlinewidth\": 0, \"ticks\": \"\"}}, \"type\": \"scatterternary\"}], \"surface\": [{\"colorbar\": {\"outlinewidth\": 0, \"ticks\": \"\"}, \"colorscale\": [[0.0, \"#0d0887\"], [0.1111111111111111, \"#46039f\"], [0.2222222222222222, \"#7201a8\"], [0.3333333333333333, \"#9c179e\"], [0.4444444444444444, \"#bd3786\"], [0.5555555555555556, \"#d8576b\"], [0.6666666666666666, \"#ed7953\"], [0.7777777777777778, \"#fb9f3a\"], [0.8888888888888888, \"#fdca26\"], [1.0, \"#f0f921\"]], \"type\": \"surface\"}], \"table\": [{\"cells\": {\"fill\": {\"color\": \"#EBF0F8\"}, \"line\": {\"color\": \"white\"}}, \"header\": {\"fill\": {\"color\": \"#C8D4E3\"}, \"line\": {\"color\": \"white\"}}, \"type\": \"table\"}]}, \"layout\": {\"annotationdefaults\": {\"arrowcolor\": \"#2a3f5f\", \"arrowhead\": 0, \"arrowwidth\": 1}, \"coloraxis\": {\"colorbar\": {\"outlinewidth\": 0, \"ticks\": \"\"}}, \"colorscale\": {\"diverging\": [[0, \"#8e0152\"], [0.1, \"#c51b7d\"], [0.2, \"#de77ae\"], [0.3, \"#f1b6da\"], [0.4, \"#fde0ef\"], [0.5, \"#f7f7f7\"], [0.6, \"#e6f5d0\"], [0.7, \"#b8e186\"], [0.8, \"#7fbc41\"], [0.9, \"#4d9221\"], [1, \"#276419\"]], \"sequential\": [[0.0, \"#0d0887\"], [0.1111111111111111, \"#46039f\"], [0.2222222222222222, \"#7201a8\"], [0.3333333333333333, \"#9c179e\"], [0.4444444444444444, \"#bd3786\"], [0.5555555555555556, \"#d8576b\"], [0.6666666666666666, \"#ed7953\"], [0.7777777777777778, \"#fb9f3a\"], [0.8888888888888888, \"#fdca26\"], [1.0, \"#f0f921\"]], \"sequentialminus\": [[0.0, \"#0d0887\"], [0.1111111111111111, \"#46039f\"], [0.2222222222222222, \"#7201a8\"], [0.3333333333333333, \"#9c179e\"], [0.4444444444444444, \"#bd3786\"], [0.5555555555555556, \"#d8576b\"], [0.6666666666666666, \"#ed7953\"], [0.7777777777777778, \"#fb9f3a\"], [0.8888888888888888, \"#fdca26\"], [1.0, \"#f0f921\"]]}, \"colorway\": [\"#636efa\", \"#EF553B\", \"#00cc96\", \"#ab63fa\", \"#FFA15A\", \"#19d3f3\", \"#FF6692\", \"#B6E880\", \"#FF97FF\", \"#FECB52\"], \"font\": {\"color\": \"#2a3f5f\"}, \"geo\": {\"bgcolor\": \"white\", \"lakecolor\": \"white\", \"landcolor\": \"#E5ECF6\", \"showlakes\": true, \"showland\": true, \"subunitcolor\": \"white\"}, \"hoverlabel\": {\"align\": \"left\"}, \"hovermode\": \"closest\", \"mapbox\": {\"style\": \"light\"}, \"paper_bgcolor\": \"white\", \"plot_bgcolor\": \"#E5ECF6\", \"polar\": {\"angularaxis\": {\"gridcolor\": \"white\", \"linecolor\": \"white\", \"ticks\": \"\"}, \"bgcolor\": \"#E5ECF6\", \"radialaxis\": {\"gridcolor\": \"white\", \"linecolor\": \"white\", \"ticks\": \"\"}}, \"scene\": {\"xaxis\": {\"backgroundcolor\": \"#E5ECF6\", \"gridcolor\": \"white\", \"gridwidth\": 2, \"linecolor\": \"white\", \"showbackground\": true, \"ticks\": \"\", \"zerolinecolor\": \"white\"}, \"yaxis\": {\"backgroundcolor\": \"#E5ECF6\", \"gridcolor\": \"white\", \"gridwidth\": 2, \"linecolor\": \"white\", \"showbackground\": true, \"ticks\": \"\", \"zerolinecolor\": \"white\"}, \"zaxis\": {\"backgroundcolor\": \"#E5ECF6\", \"gridcolor\": \"white\", \"gridwidth\": 2, \"linecolor\": \"white\", \"showbackground\": true, \"ticks\": \"\", \"zerolinecolor\": \"white\"}}, \"shapedefaults\": {\"line\": {\"color\": \"#2a3f5f\"}}, \"ternary\": {\"aaxis\": {\"gridcolor\": \"white\", \"linecolor\": \"white\", \"ticks\": \"\"}, \"baxis\": {\"gridcolor\": \"white\", \"linecolor\": \"white\", \"ticks\": \"\"}, \"bgcolor\": \"#E5ECF6\", \"caxis\": {\"gridcolor\": \"white\", \"linecolor\": \"white\", \"ticks\": \"\"}}, \"title\": {\"x\": 0.05}, \"xaxis\": {\"automargin\": true, \"gridcolor\": \"white\", \"linecolor\": \"white\", \"ticks\": \"\", \"title\": {\"standoff\": 15}, \"zerolinecolor\": \"white\", \"zerolinewidth\": 2}, \"yaxis\": {\"automargin\": true, \"gridcolor\": \"white\", \"linecolor\": \"white\", \"ticks\": \"\", \"title\": {\"standoff\": 15}, \"zerolinecolor\": \"white\", \"zerolinewidth\": 2}}}, \"title\": {\"text\": \"-\"}, \"xaxis\": {\"anchor\": \"y\", \"domain\": [0.0, 1.0], \"title\": {\"text\": \"x\"}}, \"yaxis\": {\"anchor\": \"x\", \"domain\": [0.0, 1.0], \"title\": {\"text\": \"Rate of not attending to appointment\"}}},\n",
       "                        {\"responsive\": true}\n",
       "                    ).then(function(){\n",
       "                            \n",
       "var gd = document.getElementById('c8522e30-4836-4e3f-a622-34c12a22b1e8');\n",
       "var x = new MutationObserver(function (mutations, observer) {{\n",
       "        var display = window.getComputedStyle(gd).display;\n",
       "        if (!display || display === 'none') {{\n",
       "            console.log([gd, 'removed!']);\n",
       "            Plotly.purge(gd);\n",
       "            observer.disconnect();\n",
       "        }}\n",
       "}});\n",
       "\n",
       "// Listen for the removal of the full notebook cells\n",
       "var notebookContainer = gd.closest('#notebook-container');\n",
       "if (notebookContainer) {{\n",
       "    x.observe(notebookContainer, {childList: true});\n",
       "}}\n",
       "\n",
       "// Listen for the clearing of the current output cell\n",
       "var outputEl = gd.closest('.output');\n",
       "if (outputEl) {{\n",
       "    x.observe(outputEl, {childList: true});\n",
       "}}\n",
       "\n",
       "                        })\n",
       "                };\n",
       "                });\n",
       "            </script>\n",
       "        </div>"
      ]
     },
     "metadata": {},
     "output_type": "display_data"
    },
    {
     "data": {
      "text/plain": [
       "<Figure size 1440x1080 with 0 Axes>"
      ]
     },
     "metadata": {},
     "output_type": "display_data"
    }
   ],
   "source": [
    "\n",
    "plt.figure(figsize=(20, 15))\n",
    "agerate=agen.value_counts()/(agey.value_counts()+agen.value_counts())*100\n",
    "import plotly.express as px\n",
    "\n",
    "fig = px.bar(data_frame=dayapprate, \n",
    "             x=agerate.index, \n",
    "             y=agerate.values,title=\"-\",\n",
    "                 labels={\"index\": \"How many appointments were made on the same date?\",  \n",
    "                         \"y\": \"Rate of not attending to appointment\"})\n",
    "\n",
    "fig.show()\n"
   ]
  },
  {
   "cell_type": "code",
   "execution_count": 181,
   "metadata": {},
   "outputs": [
    {
     "data": {
      "text/html": [
       "<div>\n",
       "<style scoped>\n",
       "    .dataframe tbody tr th:only-of-type {\n",
       "        vertical-align: middle;\n",
       "    }\n",
       "\n",
       "    .dataframe tbody tr th {\n",
       "        vertical-align: top;\n",
       "    }\n",
       "\n",
       "    .dataframe thead th {\n",
       "        text-align: right;\n",
       "    }\n",
       "</style>\n",
       "<table border=\"1\" class=\"dataframe\">\n",
       "  <thead>\n",
       "    <tr style=\"text-align: right;\">\n",
       "      <th></th>\n",
       "      <th>PatientId</th>\n",
       "      <th>AppointmentID</th>\n",
       "      <th>Gender</th>\n",
       "      <th>Age</th>\n",
       "      <th>Scholarship</th>\n",
       "      <th>Hipertension</th>\n",
       "      <th>Diabetes</th>\n",
       "      <th>Alcoholism</th>\n",
       "      <th>Handcap</th>\n",
       "      <th>SMS_received</th>\n",
       "      <th>No-show</th>\n",
       "      <th>days</th>\n",
       "      <th>Chronic</th>\n",
       "    </tr>\n",
       "  </thead>\n",
       "  <tbody>\n",
       "    <tr>\n",
       "      <th>PatientId</th>\n",
       "      <td>1.000000</td>\n",
       "      <td>0.004023</td>\n",
       "      <td>0.007898</td>\n",
       "      <td>-0.004121</td>\n",
       "      <td>-0.002877</td>\n",
       "      <td>-0.006436</td>\n",
       "      <td>0.001608</td>\n",
       "      <td>0.011014</td>\n",
       "      <td>-0.007915</td>\n",
       "      <td>-0.009742</td>\n",
       "      <td>-0.001456</td>\n",
       "      <td>-0.001093</td>\n",
       "      <td>-0.001070</td>\n",
       "    </tr>\n",
       "    <tr>\n",
       "      <th>AppointmentID</th>\n",
       "      <td>0.004023</td>\n",
       "      <td>1.000000</td>\n",
       "      <td>0.018506</td>\n",
       "      <td>-0.019106</td>\n",
       "      <td>0.022619</td>\n",
       "      <td>0.012759</td>\n",
       "      <td>0.022632</td>\n",
       "      <td>0.032946</td>\n",
       "      <td>0.014107</td>\n",
       "      <td>-0.256613</td>\n",
       "      <td>-0.162597</td>\n",
       "      <td>-0.771189</td>\n",
       "      <td>0.028626</td>\n",
       "    </tr>\n",
       "    <tr>\n",
       "      <th>Gender</th>\n",
       "      <td>0.007898</td>\n",
       "      <td>0.018506</td>\n",
       "      <td>1.000000</td>\n",
       "      <td>-0.106452</td>\n",
       "      <td>-0.114296</td>\n",
       "      <td>-0.055722</td>\n",
       "      <td>-0.032556</td>\n",
       "      <td>0.106166</td>\n",
       "      <td>0.022813</td>\n",
       "      <td>-0.046302</td>\n",
       "      <td>-0.004122</td>\n",
       "      <td>-0.027203</td>\n",
       "      <td>-0.022127</td>\n",
       "    </tr>\n",
       "    <tr>\n",
       "      <th>Age</th>\n",
       "      <td>-0.004121</td>\n",
       "      <td>-0.019106</td>\n",
       "      <td>-0.106452</td>\n",
       "      <td>1.000000</td>\n",
       "      <td>-0.092463</td>\n",
       "      <td>0.504586</td>\n",
       "      <td>0.292391</td>\n",
       "      <td>0.095810</td>\n",
       "      <td>0.078032</td>\n",
       "      <td>0.012633</td>\n",
       "      <td>-0.060327</td>\n",
       "      <td>0.032693</td>\n",
       "      <td>0.509269</td>\n",
       "    </tr>\n",
       "    <tr>\n",
       "      <th>Scholarship</th>\n",
       "      <td>-0.002877</td>\n",
       "      <td>0.022619</td>\n",
       "      <td>-0.114296</td>\n",
       "      <td>-0.092463</td>\n",
       "      <td>1.000000</td>\n",
       "      <td>-0.019730</td>\n",
       "      <td>-0.024894</td>\n",
       "      <td>0.035022</td>\n",
       "      <td>-0.008587</td>\n",
       "      <td>0.001192</td>\n",
       "      <td>0.029134</td>\n",
       "      <td>-0.030075</td>\n",
       "      <td>-0.009971</td>\n",
       "    </tr>\n",
       "    <tr>\n",
       "      <th>Hipertension</th>\n",
       "      <td>-0.006436</td>\n",
       "      <td>0.012759</td>\n",
       "      <td>-0.055722</td>\n",
       "      <td>0.504586</td>\n",
       "      <td>-0.019730</td>\n",
       "      <td>1.000000</td>\n",
       "      <td>0.433085</td>\n",
       "      <td>0.087970</td>\n",
       "      <td>0.080083</td>\n",
       "      <td>-0.006270</td>\n",
       "      <td>-0.035704</td>\n",
       "      <td>-0.018750</td>\n",
       "      <td>0.887009</td>\n",
       "    </tr>\n",
       "    <tr>\n",
       "      <th>Diabetes</th>\n",
       "      <td>0.001608</td>\n",
       "      <td>0.022632</td>\n",
       "      <td>-0.032556</td>\n",
       "      <td>0.292391</td>\n",
       "      <td>-0.024894</td>\n",
       "      <td>0.433085</td>\n",
       "      <td>1.000000</td>\n",
       "      <td>0.018473</td>\n",
       "      <td>0.057530</td>\n",
       "      <td>-0.014552</td>\n",
       "      <td>-0.015181</td>\n",
       "      <td>-0.028082</td>\n",
       "      <td>0.497929</td>\n",
       "    </tr>\n",
       "    <tr>\n",
       "      <th>Alcoholism</th>\n",
       "      <td>0.011014</td>\n",
       "      <td>0.032946</td>\n",
       "      <td>0.106166</td>\n",
       "      <td>0.095810</td>\n",
       "      <td>0.035022</td>\n",
       "      <td>0.087970</td>\n",
       "      <td>0.018473</td>\n",
       "      <td>1.000000</td>\n",
       "      <td>0.004647</td>\n",
       "      <td>-0.026149</td>\n",
       "      <td>-0.000197</td>\n",
       "      <td>-0.037822</td>\n",
       "      <td>0.316850</td>\n",
       "    </tr>\n",
       "    <tr>\n",
       "      <th>Handcap</th>\n",
       "      <td>-0.007915</td>\n",
       "      <td>0.014107</td>\n",
       "      <td>0.022813</td>\n",
       "      <td>0.078032</td>\n",
       "      <td>-0.008587</td>\n",
       "      <td>0.080083</td>\n",
       "      <td>0.057530</td>\n",
       "      <td>0.004647</td>\n",
       "      <td>1.000000</td>\n",
       "      <td>-0.024162</td>\n",
       "      <td>-0.006077</td>\n",
       "      <td>-0.019541</td>\n",
       "      <td>0.215800</td>\n",
       "    </tr>\n",
       "    <tr>\n",
       "      <th>SMS_received</th>\n",
       "      <td>-0.009742</td>\n",
       "      <td>-0.256613</td>\n",
       "      <td>-0.046302</td>\n",
       "      <td>0.012633</td>\n",
       "      <td>0.001192</td>\n",
       "      <td>-0.006270</td>\n",
       "      <td>-0.014552</td>\n",
       "      <td>-0.026149</td>\n",
       "      <td>-0.024162</td>\n",
       "      <td>1.000000</td>\n",
       "      <td>0.126428</td>\n",
       "      <td>0.388194</td>\n",
       "      <td>-0.019705</td>\n",
       "    </tr>\n",
       "    <tr>\n",
       "      <th>No-show</th>\n",
       "      <td>-0.001456</td>\n",
       "      <td>-0.162597</td>\n",
       "      <td>-0.004122</td>\n",
       "      <td>-0.060327</td>\n",
       "      <td>0.029134</td>\n",
       "      <td>-0.035704</td>\n",
       "      <td>-0.015181</td>\n",
       "      <td>-0.000197</td>\n",
       "      <td>-0.006077</td>\n",
       "      <td>0.126428</td>\n",
       "      <td>1.000000</td>\n",
       "      <td>0.180072</td>\n",
       "      <td>-0.032362</td>\n",
       "    </tr>\n",
       "    <tr>\n",
       "      <th>days</th>\n",
       "      <td>-0.001093</td>\n",
       "      <td>-0.771189</td>\n",
       "      <td>-0.027203</td>\n",
       "      <td>0.032693</td>\n",
       "      <td>-0.030075</td>\n",
       "      <td>-0.018750</td>\n",
       "      <td>-0.028082</td>\n",
       "      <td>-0.037822</td>\n",
       "      <td>-0.019541</td>\n",
       "      <td>0.388194</td>\n",
       "      <td>0.180072</td>\n",
       "      <td>1.000000</td>\n",
       "      <td>-0.034878</td>\n",
       "    </tr>\n",
       "    <tr>\n",
       "      <th>Chronic</th>\n",
       "      <td>-0.001070</td>\n",
       "      <td>0.028626</td>\n",
       "      <td>-0.022127</td>\n",
       "      <td>0.509269</td>\n",
       "      <td>-0.009971</td>\n",
       "      <td>0.887009</td>\n",
       "      <td>0.497929</td>\n",
       "      <td>0.316850</td>\n",
       "      <td>0.215800</td>\n",
       "      <td>-0.019705</td>\n",
       "      <td>-0.032362</td>\n",
       "      <td>-0.034878</td>\n",
       "      <td>1.000000</td>\n",
       "    </tr>\n",
       "  </tbody>\n",
       "</table>\n",
       "</div>"
      ],
      "text/plain": [
       "               PatientId  AppointmentID    Gender       Age  Scholarship  \\\n",
       "PatientId       1.000000       0.004023  0.007898 -0.004121    -0.002877   \n",
       "AppointmentID   0.004023       1.000000  0.018506 -0.019106     0.022619   \n",
       "Gender          0.007898       0.018506  1.000000 -0.106452    -0.114296   \n",
       "Age            -0.004121      -0.019106 -0.106452  1.000000    -0.092463   \n",
       "Scholarship    -0.002877       0.022619 -0.114296 -0.092463     1.000000   \n",
       "Hipertension   -0.006436       0.012759 -0.055722  0.504586    -0.019730   \n",
       "Diabetes        0.001608       0.022632 -0.032556  0.292391    -0.024894   \n",
       "Alcoholism      0.011014       0.032946  0.106166  0.095810     0.035022   \n",
       "Handcap        -0.007915       0.014107  0.022813  0.078032    -0.008587   \n",
       "SMS_received   -0.009742      -0.256613 -0.046302  0.012633     0.001192   \n",
       "No-show        -0.001456      -0.162597 -0.004122 -0.060327     0.029134   \n",
       "days           -0.001093      -0.771189 -0.027203  0.032693    -0.030075   \n",
       "Chronic        -0.001070       0.028626 -0.022127  0.509269    -0.009971   \n",
       "\n",
       "               Hipertension  Diabetes  Alcoholism   Handcap  SMS_received  \\\n",
       "PatientId         -0.006436  0.001608    0.011014 -0.007915     -0.009742   \n",
       "AppointmentID      0.012759  0.022632    0.032946  0.014107     -0.256613   \n",
       "Gender            -0.055722 -0.032556    0.106166  0.022813     -0.046302   \n",
       "Age                0.504586  0.292391    0.095810  0.078032      0.012633   \n",
       "Scholarship       -0.019730 -0.024894    0.035022 -0.008587      0.001192   \n",
       "Hipertension       1.000000  0.433085    0.087970  0.080083     -0.006270   \n",
       "Diabetes           0.433085  1.000000    0.018473  0.057530     -0.014552   \n",
       "Alcoholism         0.087970  0.018473    1.000000  0.004647     -0.026149   \n",
       "Handcap            0.080083  0.057530    0.004647  1.000000     -0.024162   \n",
       "SMS_received      -0.006270 -0.014552   -0.026149 -0.024162      1.000000   \n",
       "No-show           -0.035704 -0.015181   -0.000197 -0.006077      0.126428   \n",
       "days              -0.018750 -0.028082   -0.037822 -0.019541      0.388194   \n",
       "Chronic            0.887009  0.497929    0.316850  0.215800     -0.019705   \n",
       "\n",
       "                No-show      days   Chronic  \n",
       "PatientId     -0.001456 -0.001093 -0.001070  \n",
       "AppointmentID -0.162597 -0.771189  0.028626  \n",
       "Gender        -0.004122 -0.027203 -0.022127  \n",
       "Age           -0.060327  0.032693  0.509269  \n",
       "Scholarship    0.029134 -0.030075 -0.009971  \n",
       "Hipertension  -0.035704 -0.018750  0.887009  \n",
       "Diabetes      -0.015181 -0.028082  0.497929  \n",
       "Alcoholism    -0.000197 -0.037822  0.316850  \n",
       "Handcap       -0.006077 -0.019541  0.215800  \n",
       "SMS_received   0.126428  0.388194 -0.019705  \n",
       "No-show        1.000000  0.180072 -0.032362  \n",
       "days           0.180072  1.000000 -0.034878  \n",
       "Chronic       -0.032362 -0.034878  1.000000  "
      ]
     },
     "metadata": {},
     "output_type": "display_data"
    }
   ],
   "source": [
    "noshowcorr = df.corr()\n",
    "display(noshowcorr)"
   ]
  },
  {
   "cell_type": "code",
   "execution_count": 182,
   "metadata": {},
   "outputs": [
    {
     "data": {
      "image/png": "[encoded data removed]",
      "text/plain": [
       "<Figure size 1080x720 with 2 Axes>"
      ]
     },
     "metadata": {},
     "output_type": "display_data"
    }
   ],
   "source": [
    "plt.figure(figsize=(15,10))\n",
    "title_font = {'family': 'arial', 'color': 'darkred','weight': 'bold','size': 15 }\n",
    "axis_font  = {'family': 'arial', 'color': 'darkblue','weight': 'bold','size': 15 }\n",
    "sns.heatmap(noshowcorr, annot=True, fmt='.2f', annot_kws={\"size\": 15}, linewidths=.5, vmin=0, vmax=1, cmap='viridis')\n",
    "plt.title(\"Correlation Matrix (Movie)\", fontdict=title_font)\n",
    "\n",
    "plt.show()"
   ]
  },
  {
   "cell_type": "markdown",
   "metadata": {},
   "source": [
    "#### 18"
   ]
  },
  {
   "cell_type": "code",
   "execution_count": 183,
   "metadata": {},
   "outputs": [
    {
     "data": {
      "text/plain": [
       "Text(0, 0.5, 'Days')"
      ]
     },
     "execution_count": 183,
     "metadata": {},
     "output_type": "execute_result"
    },
    {
     "data": {
      "image/png": "[encoded data removed]",
      "text/plain": [
       "<Figure size 1296x360 with 3 Axes>"
      ]
     },
     "metadata": {},
     "output_type": "display_data"
    }
   ],
   "source": [
    "plt.figure(figsize=(18,5))\n",
    "title_font = {'family': 'arial', 'color': 'darkred','weight': 'bold','size': 13 }\n",
    "axis_font  = {'family': 'arial', 'color': 'darkblue','weight': 'bold','size': 10 }\n",
    "\n",
    "plt.subplot(1,3,1)\n",
    "plt.scatter(df[df[\"No-show\"]==True][\"Age\"], df[df[\"No-show\"]==True][\"days\"],color=\"lightcoral\", s=50, alpha=0.7)\n",
    "plt.title(\"Days & Age\", fontdict=title_font)\n",
    "plt.xlabel('Age', fontdict=axis_font )\n",
    "plt.ylabel('Days', fontdict=axis_font )\n",
    "\n",
    "\n",
    "plt.scatter(df[df[\"No-show\"]==False][\"Age\"], df[df[\"No-show\"]==False][\"days\"],c=\"yellowgreen\", s=50, alpha=0.7)\n",
    "plt.title(\"Days & Age\", fontdict=title_font)\n",
    "plt.xlabel('Age', fontdict=axis_font )\n",
    "plt.ylabel('Days', fontdict=axis_font )\n",
    "\n",
    "plt.subplot(1,3,2)\n",
    "plt.scatter(df[df[\"No-show\"]==True][\"Age\"], df[df[\"No-show\"]==True][\"days\"],color=\"lightcoral\", s=50, alpha=0.5)\n",
    "plt.title(\"Days & Age\", fontdict=title_font)\n",
    "plt.xlabel('Age', fontdict=axis_font )\n",
    "plt.ylabel('Days', fontdict=axis_font )\n",
    "\n",
    "plt.subplot(1,3,3)\n",
    "plt.scatter(df[df[\"No-show\"]==False][\"Age\"], df[df[\"No-show\"]==False][\"days\"],c=\"yellowgreen\", s=50, alpha=0.5)\n",
    "plt.title(\"Days & Age\", fontdict=title_font)\n",
    "plt.xlabel('Age', fontdict=axis_font )\n",
    "plt.ylabel('Days', fontdict=axis_font )"
   ]
  },
  {
   "cell_type": "markdown",
   "metadata": {},
   "source": [
    ">The graph shows the age of the patient and how many days before the hospital made an appointment. Green dots are people attending the appointment. Red dots indicate people who did not attend the appointment. By looking at this graph, we can say that patients over the age of 40 can wait more than 100 days for an appointment."
   ]
  },
  {
   "cell_type": "code",
   "execution_count": 184,
   "metadata": {},
   "outputs": [],
   "source": [
    "from sklearn.model_selection import train_test_split\n",
    "from sklearn.linear_model import LogisticRegression\n",
    "from sklearn.metrics import confusion_matrix\n",
    "from sklearn.metrics import classification_report"
   ]
  },
  {
   "cell_type": "code",
   "execution_count": 185,
   "metadata": {},
   "outputs": [],
   "source": [
    "import copy\n",
    "olddf=copy.deepcopy(df) # orjinal halini olddf içerisinde tutuyorum"
   ]
  },
  {
   "cell_type": "code",
   "execution_count": 186,
   "metadata": {
    "scrolled": true
   },
   "outputs": [],
   "source": [
    "df[\"Day-name\"].replace({\"Monday\": 1, \"Tuesday\": 2,\"Wednesday\": 3,\"Thursday\": 4,\"Friday\":5 ,\"Saturday\": 6},inplace=True)\n",
    "\n",
    "\n"
   ]
  },
  {
   "cell_type": "code",
   "execution_count": 187,
   "metadata": {},
   "outputs": [],
   "source": [
    "def create_model(X, y):\n",
    "    X_train, X_test, y_train, y_test =  train_test_split(X, y, test_size=0.20, random_state=111, stratify = y)\n",
    "    \n",
    "    logreg_model = LogisticRegression(C= 100, penalty= 'l2')\n",
    "    logreg_model.fit(X_train, y_train)\n",
    "\n",
    "    pred_train = logreg_model.predict(X_train)\n",
    "    pred_test = logreg_model.predict(X_test)\n",
    "    \n",
    "    conf_mtx_train = confusion_matrix(y_train, pred_train)\n",
    "    conf_mtx_test = confusion_matrix(y_test, pred_test)\n",
    "    \n",
    "    print(\"Accuracy : {}\\n\".format(logreg_model.score(X_test, y_test)))\n",
    "    \n",
    "    print(\"Train Dataset\")\n",
    "    print(classification_report(y_train, pred_train))\n",
    "    \n",
    "    print(\"Test Dataset\")\n",
    "    print(classification_report(y_test, pred_test))\n",
    "    \n",
    "    return  None"
   ]
  },
  {
   "cell_type": "code",
   "execution_count": 188,
   "metadata": {},
   "outputs": [
    {
     "name": "stdout",
     "output_type": "stream",
     "text": [
      "Accuracy : 0.6116333563059959\n",
      "\n",
      "Train Dataset\n",
      "              precision    recall  f1-score   support\n",
      "\n",
      "       False       0.60      0.59      0.60     70566\n",
      "        True       0.62      0.63      0.63     74534\n",
      "\n",
      "    accuracy                           0.61    145100\n",
      "   macro avg       0.61      0.61      0.61    145100\n",
      "weighted avg       0.61      0.61      0.61    145100\n",
      "\n",
      "Test Dataset\n",
      "              precision    recall  f1-score   support\n",
      "\n",
      "       False       0.60      0.59      0.60     17641\n",
      "        True       0.62      0.63      0.63     18634\n",
      "\n",
      "    accuracy                           0.61     36275\n",
      "   macro avg       0.61      0.61      0.61     36275\n",
      "weighted avg       0.61      0.61      0.61     36275\n",
      "\n"
     ]
    }
   ],
   "source": [
    "from imblearn.over_sampling import ADASYN\n",
    "\n",
    "y = df['No-show']\n",
    "X = df.drop(['No-show','PatientId',\"PatientId\",\"Neighbourhood\",\"AppointmentID\",\"AppointmentDay\",\"ScheduledDay\"],axis=1)\n",
    "X_train, X_test, y_train, y_test =  train_test_split(X, y, test_size=0.20, random_state=111,stratify=y)\n",
    "\n",
    "ad = ADASYN()\n",
    "X_adasyn, y_adasyn = ad.fit_sample(X, y)\n",
    "create_model(X_adasyn, y_adasyn)\n"
   ]
  },
  {
   "cell_type": "code",
   "execution_count": 189,
   "metadata": {},
   "outputs": [
    {
     "name": "stdout",
     "output_type": "stream",
     "text": [
      "Accuracy : 0.6243800130374402\n",
      "\n",
      "Train Dataset\n",
      "              precision    recall  f1-score   support\n",
      "\n",
      "       False       0.62      0.66      0.63     70565\n",
      "        True       0.63      0.59      0.61     70566\n",
      "\n",
      "    accuracy                           0.62    141131\n",
      "   macro avg       0.62      0.62      0.62    141131\n",
      "weighted avg       0.62      0.62      0.62    141131\n",
      "\n",
      "Test Dataset\n",
      "              precision    recall  f1-score   support\n",
      "\n",
      "       False       0.62      0.66      0.64     17642\n",
      "        True       0.63      0.59      0.61     17641\n",
      "\n",
      "    accuracy                           0.62     35283\n",
      "   macro avg       0.62      0.62      0.62     35283\n",
      "weighted avg       0.62      0.62      0.62     35283\n",
      "\n"
     ]
    }
   ],
   "source": [
    "from imblearn.over_sampling import SMOTE\n",
    "y = df['No-show']\n",
    "X = df.drop(['No-show','PatientId',\"PatientId\",\"Neighbourhood\",\"AppointmentID\",\"AppointmentDay\",\"ScheduledDay\"],axis=1)\n",
    "X_train, X_test, y_train, y_test =  train_test_split(X, y, test_size=0.20, random_state=111,stratify=y)\n",
    "\n",
    "sm = SMOTE(random_state=27, sampling_strategy=1.0)\n",
    "X_smote, y_smote = sm.fit_sample(X, y)\n",
    "create_model(X_smote, y_smote)"
   ]
  },
  {
   "cell_type": "markdown",
   "metadata": {},
   "source": [
    "#### Smote analizi ile daha verimli sonuçlara ulaştığımız için bu veri setini kullanacağız"
   ]
  },
  {
   "cell_type": "code",
   "execution_count": 190,
   "metadata": {},
   "outputs": [],
   "source": [
    "df=pd.concat([X_smote, y_smote], axis=1)"
   ]
  },
  {
   "cell_type": "markdown",
   "metadata": {},
   "source": [
    "#### Hyperparameter tuning"
   ]
  },
  {
   "cell_type": "code",
   "execution_count": 191,
   "metadata": {
    "scrolled": true
   },
   "outputs": [
    {
     "name": "stdout",
     "output_type": "stream",
     "text": [
      "{'C': 1.0, 'class_weight': None, 'dual': False, 'fit_intercept': True, 'intercept_scaling': 1, 'l1_ratio': None, 'max_iter': 100, 'multi_class': 'auto', 'n_jobs': None, 'penalty': 'l2', 'random_state': None, 'solver': 'lbfgs', 'tol': 0.0001, 'verbose': 0, 'warm_start': False}\n"
     ]
    }
   ],
   "source": [
    "log_reg = LogisticRegression()\n",
    "\n",
    "print(log_reg.get_params())"
   ]
  },
  {
   "cell_type": "code",
   "execution_count": 192,
   "metadata": {},
   "outputs": [],
   "source": [
    "parameters = {\"C\": [10 ** x for x in range (-5, 5, 1)],\n",
    "              \"penalty\": ['l1', 'l2']\n",
    "             }"
   ]
  },
  {
   "cell_type": "code",
   "execution_count": 193,
   "metadata": {},
   "outputs": [
    {
     "name": "stdout",
     "output_type": "stream",
     "text": [
      "Fitting 5 folds for each of 20 candidates, totalling 100 fits\n"
     ]
    },
    {
     "name": "stderr",
     "output_type": "stream",
     "text": [
      "[Parallel(n_jobs=1)]: Using backend SequentialBackend with 1 concurrent workers.\n",
      "[Parallel(n_jobs=1)]: Done 100 out of 100 | elapsed:   27.2s finished\n"
     ]
    },
    {
     "data": {
      "text/plain": [
       "GridSearchCV(cv=5, estimator=LogisticRegression(),\n",
       "             param_grid={'C': [1e-05, 0.0001, 0.001, 0.01, 0.1, 1, 10, 100,\n",
       "                               1000, 10000],\n",
       "                         'penalty': ['l1', 'l2']},\n",
       "             verbose=1)"
      ]
     },
     "execution_count": 193,
     "metadata": {},
     "output_type": "execute_result"
    }
   ],
   "source": [
    "from sklearn.model_selection import GridSearchCV\n",
    "\n",
    "grid_cv = GridSearchCV(estimator=log_reg,\n",
    "                       param_grid = parameters,\n",
    "                       cv = 5,verbose=1\n",
    "                      )\n",
    "\n",
    "grid_cv.fit(X, y)"
   ]
  },
  {
   "cell_type": "code",
   "execution_count": 194,
   "metadata": {},
   "outputs": [
    {
     "name": "stdout",
     "output_type": "stream",
     "text": [
      "Best Parameters :  {'C': 100, 'penalty': 'l2'}\n",
      "Best Score      :  0.7949531938944092\n"
     ]
    }
   ],
   "source": [
    "print(\"Best Parameters : \", grid_cv.best_params_)\n",
    "print(\"Best Score      : \", grid_cv.best_score_)"
   ]
  },
  {
   "cell_type": "code",
   "execution_count": 195,
   "metadata": {
    "scrolled": true
   },
   "outputs": [
    {
     "data": {
      "image/png": "[encoded data removed]",
      "text/plain": [
       "<Figure size 720x720 with 2 Axes>"
      ]
     },
     "metadata": {},
     "output_type": "display_data"
    }
   ],
   "source": [
    "onstrue=olddf[olddf[\"No-show\"]==True][\"No-show\"].count()\n",
    "onstruepercent=nstrue/olddf[\"No-show\"].count()*100\n",
    "onsfalsepercent=100-nstruepercent\n",
    "\n",
    "nstrue=df[df[\"No-show\"]==True][\"No-show\"].count()\n",
    "nstruepercent=nstrue/df[\"No-show\"].count()*100\n",
    "nsfalsepercent=100-nstruepercent\n",
    "\n",
    "\n",
    "labels = 'True', 'False'\n",
    "sizes = [onstruepercent, onsfalsepercent]\n",
    "explode = (0.1, 0)  \n",
    "\n",
    "\n",
    "fig1, ax1 = plt.subplots(nrows=1,ncols=2, figsize=(10,10))\n",
    "ax1[0].pie(sizes, explode=explode, labels=labels,colors=colors, autopct='%1.1f%%',\n",
    "        shadow=True, startangle=90)\n",
    "ax1[0].set_xlabel('Old No-Score Rate',fontdict = axis_style)\n",
    "\n",
    "\n",
    "sizes = [nstruepercent, nsfalsepercent]\n",
    "\n",
    "ax1[1].pie(sizes, explode=explode, labels=labels,colors=colors, autopct='%1.1f%%',\n",
    "        shadow=True, startangle=90) \n",
    "ax1[1].set_xlabel('New No-Score Rate',fontdict = axis_style)\n",
    "\n",
    "\n",
    "\n",
    "\n",
    "plt.show()"
   ]
  },
  {
   "cell_type": "code",
   "execution_count": 196,
   "metadata": {},
   "outputs": [
    {
     "data": {
      "text/html": [
       "<div>\n",
       "<style scoped>\n",
       "    .dataframe tbody tr th:only-of-type {\n",
       "        vertical-align: middle;\n",
       "    }\n",
       "\n",
       "    .dataframe tbody tr th {\n",
       "        vertical-align: top;\n",
       "    }\n",
       "\n",
       "    .dataframe thead th {\n",
       "        text-align: right;\n",
       "    }\n",
       "</style>\n",
       "<table border=\"1\" class=\"dataframe\">\n",
       "  <thead>\n",
       "    <tr style=\"text-align: right;\">\n",
       "      <th></th>\n",
       "      <th>Gender</th>\n",
       "      <th>Age</th>\n",
       "      <th>Scholarship</th>\n",
       "      <th>Hipertension</th>\n",
       "      <th>Diabetes</th>\n",
       "      <th>Alcoholism</th>\n",
       "      <th>Handcap</th>\n",
       "      <th>SMS_received</th>\n",
       "      <th>days</th>\n",
       "      <th>Day-name</th>\n",
       "      <th>Chronic</th>\n",
       "      <th>No-show</th>\n",
       "    </tr>\n",
       "  </thead>\n",
       "  <tbody>\n",
       "    <tr>\n",
       "      <th>0</th>\n",
       "      <td>0</td>\n",
       "      <td>62</td>\n",
       "      <td>0</td>\n",
       "      <td>1</td>\n",
       "      <td>0</td>\n",
       "      <td>0</td>\n",
       "      <td>0</td>\n",
       "      <td>0</td>\n",
       "      <td>0</td>\n",
       "      <td>5</td>\n",
       "      <td>1</td>\n",
       "      <td>False</td>\n",
       "    </tr>\n",
       "    <tr>\n",
       "      <th>1</th>\n",
       "      <td>0</td>\n",
       "      <td>56</td>\n",
       "      <td>0</td>\n",
       "      <td>1</td>\n",
       "      <td>1</td>\n",
       "      <td>0</td>\n",
       "      <td>0</td>\n",
       "      <td>0</td>\n",
       "      <td>0</td>\n",
       "      <td>5</td>\n",
       "      <td>1</td>\n",
       "      <td>False</td>\n",
       "    </tr>\n",
       "    <tr>\n",
       "      <th>2</th>\n",
       "      <td>0</td>\n",
       "      <td>76</td>\n",
       "      <td>0</td>\n",
       "      <td>1</td>\n",
       "      <td>0</td>\n",
       "      <td>0</td>\n",
       "      <td>0</td>\n",
       "      <td>0</td>\n",
       "      <td>1</td>\n",
       "      <td>5</td>\n",
       "      <td>1</td>\n",
       "      <td>False</td>\n",
       "    </tr>\n",
       "    <tr>\n",
       "      <th>3</th>\n",
       "      <td>1</td>\n",
       "      <td>46</td>\n",
       "      <td>0</td>\n",
       "      <td>1</td>\n",
       "      <td>0</td>\n",
       "      <td>0</td>\n",
       "      <td>0</td>\n",
       "      <td>1</td>\n",
       "      <td>2</td>\n",
       "      <td>5</td>\n",
       "      <td>1</td>\n",
       "      <td>False</td>\n",
       "    </tr>\n",
       "    <tr>\n",
       "      <th>4</th>\n",
       "      <td>0</td>\n",
       "      <td>45</td>\n",
       "      <td>0</td>\n",
       "      <td>1</td>\n",
       "      <td>0</td>\n",
       "      <td>0</td>\n",
       "      <td>0</td>\n",
       "      <td>0</td>\n",
       "      <td>0</td>\n",
       "      <td>5</td>\n",
       "      <td>1</td>\n",
       "      <td>False</td>\n",
       "    </tr>\n",
       "    <tr>\n",
       "      <th>...</th>\n",
       "      <td>...</td>\n",
       "      <td>...</td>\n",
       "      <td>...</td>\n",
       "      <td>...</td>\n",
       "      <td>...</td>\n",
       "      <td>...</td>\n",
       "      <td>...</td>\n",
       "      <td>...</td>\n",
       "      <td>...</td>\n",
       "      <td>...</td>\n",
       "      <td>...</td>\n",
       "      <td>...</td>\n",
       "    </tr>\n",
       "    <tr>\n",
       "      <th>176409</th>\n",
       "      <td>1</td>\n",
       "      <td>56</td>\n",
       "      <td>1</td>\n",
       "      <td>0</td>\n",
       "      <td>0</td>\n",
       "      <td>0</td>\n",
       "      <td>0</td>\n",
       "      <td>0</td>\n",
       "      <td>0</td>\n",
       "      <td>2</td>\n",
       "      <td>0</td>\n",
       "      <td>True</td>\n",
       "    </tr>\n",
       "    <tr>\n",
       "      <th>176410</th>\n",
       "      <td>0</td>\n",
       "      <td>4</td>\n",
       "      <td>0</td>\n",
       "      <td>0</td>\n",
       "      <td>0</td>\n",
       "      <td>0</td>\n",
       "      <td>0</td>\n",
       "      <td>0</td>\n",
       "      <td>53</td>\n",
       "      <td>1</td>\n",
       "      <td>0</td>\n",
       "      <td>True</td>\n",
       "    </tr>\n",
       "    <tr>\n",
       "      <th>176411</th>\n",
       "      <td>0</td>\n",
       "      <td>19</td>\n",
       "      <td>0</td>\n",
       "      <td>0</td>\n",
       "      <td>0</td>\n",
       "      <td>0</td>\n",
       "      <td>0</td>\n",
       "      <td>1</td>\n",
       "      <td>25</td>\n",
       "      <td>1</td>\n",
       "      <td>0</td>\n",
       "      <td>True</td>\n",
       "    </tr>\n",
       "    <tr>\n",
       "      <th>176412</th>\n",
       "      <td>1</td>\n",
       "      <td>81</td>\n",
       "      <td>0</td>\n",
       "      <td>1</td>\n",
       "      <td>0</td>\n",
       "      <td>0</td>\n",
       "      <td>0</td>\n",
       "      <td>0</td>\n",
       "      <td>5</td>\n",
       "      <td>3</td>\n",
       "      <td>1</td>\n",
       "      <td>True</td>\n",
       "    </tr>\n",
       "    <tr>\n",
       "      <th>176413</th>\n",
       "      <td>0</td>\n",
       "      <td>0</td>\n",
       "      <td>0</td>\n",
       "      <td>0</td>\n",
       "      <td>0</td>\n",
       "      <td>0</td>\n",
       "      <td>0</td>\n",
       "      <td>1</td>\n",
       "      <td>55</td>\n",
       "      <td>3</td>\n",
       "      <td>0</td>\n",
       "      <td>True</td>\n",
       "    </tr>\n",
       "  </tbody>\n",
       "</table>\n",
       "<p>176414 rows × 12 columns</p>\n",
       "</div>"
      ],
      "text/plain": [
       "        Gender  Age  Scholarship  Hipertension  Diabetes  Alcoholism  Handcap  \\\n",
       "0            0   62            0             1         0           0        0   \n",
       "1            0   56            0             1         1           0        0   \n",
       "2            0   76            0             1         0           0        0   \n",
       "3            1   46            0             1         0           0        0   \n",
       "4            0   45            0             1         0           0        0   \n",
       "...        ...  ...          ...           ...       ...         ...      ...   \n",
       "176409       1   56            1             0         0           0        0   \n",
       "176410       0    4            0             0         0           0        0   \n",
       "176411       0   19            0             0         0           0        0   \n",
       "176412       1   81            0             1         0           0        0   \n",
       "176413       0    0            0             0         0           0        0   \n",
       "\n",
       "        SMS_received  days  Day-name  Chronic  No-show  \n",
       "0                  0     0         5        1    False  \n",
       "1                  0     0         5        1    False  \n",
       "2                  0     1         5        1    False  \n",
       "3                  1     2         5        1    False  \n",
       "4                  0     0         5        1    False  \n",
       "...              ...   ...       ...      ...      ...  \n",
       "176409             0     0         2        0     True  \n",
       "176410             0    53         1        0     True  \n",
       "176411             1    25         1        0     True  \n",
       "176412             0     5         3        1     True  \n",
       "176413             1    55         3        0     True  \n",
       "\n",
       "[176414 rows x 12 columns]"
      ]
     },
     "execution_count": 196,
     "metadata": {},
     "output_type": "execute_result"
    }
   ],
   "source": [
    "df"
   ]
  },
  {
   "cell_type": "code",
   "execution_count": 197,
   "metadata": {},
   "outputs": [
    {
     "name": "stdout",
     "output_type": "stream",
     "text": [
      "One-vs.-Rest\n",
      "------------------------------\n",
      "Accuracy on Train Data : 0.63\n",
      "Accuracy on Test Data  : 0.63\n"
     ]
    }
   ],
   "source": [
    "from sklearn.linear_model import LogisticRegression\n",
    "log_reg = LogisticRegression(solver='lbfgs')\n",
    "\n",
    "from sklearn.model_selection import train_test_split\n",
    "\n",
    "y = df['No-show']\n",
    "X = df.drop(['No-show'],axis=1)\n",
    "X_train, X_test, y_train, y_test =  train_test_split(X, y, test_size=0.20, random_state=111,stratify=y)\n",
    "\n",
    "log_reg.fit(X_train, y_train)\n",
    "\n",
    "train_accuracy = log_reg.score(X_train, y_train)\n",
    "test_accuracy = log_reg.score(X_test, y_test)\n",
    "\n",
    "print('One-vs.-Rest', '-'*30, \n",
    "      'Accuracy on Train Data : {:.2f}'.format(train_accuracy), \n",
    "      'Accuracy on Test Data  : {:.2f}'.format(test_accuracy), sep='\\n')"
   ]
  },
  {
   "cell_type": "code",
   "execution_count": 198,
   "metadata": {},
   "outputs": [],
   "source": [
    "y = list(y)\n"
   ]
  },
  {
   "cell_type": "markdown",
   "metadata": {},
   "source": [
    "#### Polynomial Features"
   ]
  },
  {
   "cell_type": "code",
   "execution_count": 199,
   "metadata": {},
   "outputs": [
    {
     "data": {
      "text/plain": [
       "PolynomialFeatures()"
      ]
     },
     "execution_count": 199,
     "metadata": {},
     "output_type": "execute_result"
    }
   ],
   "source": [
    "from sklearn.preprocessing import PolynomialFeatures\n",
    "\n",
    "pm=PolynomialFeatures()\n",
    "pm.fit(X)\n"
   ]
  },
  {
   "cell_type": "code",
   "execution_count": 200,
   "metadata": {},
   "outputs": [
    {
     "data": {
      "text/plain": [
       "<bound method TransformerMixin.fit_transform of PolynomialFeatures()>"
      ]
     },
     "execution_count": 200,
     "metadata": {},
     "output_type": "execute_result"
    }
   ],
   "source": [
    "pm.fit_transform"
   ]
  },
  {
   "cell_type": "code",
   "execution_count": 201,
   "metadata": {},
   "outputs": [],
   "source": [
    "x_pol=pm.transform(X)"
   ]
  },
  {
   "cell_type": "code",
   "execution_count": 202,
   "metadata": {},
   "outputs": [],
   "source": [
    "#pm.get_feature_names(X.columns)"
   ]
  },
  {
   "cell_type": "code",
   "execution_count": 203,
   "metadata": {},
   "outputs": [],
   "source": [
    "x_pol_df=pd.DataFrame(x_pol,columns=pm.get_feature_names(X.columns))\n"
   ]
  },
  {
   "cell_type": "code",
   "execution_count": 204,
   "metadata": {},
   "outputs": [
    {
     "data": {
      "text/html": [
       "<table class=\"simpletable\">\n",
       "<caption>OLS Regression Results</caption>\n",
       "<tr>\n",
       "  <th>Dep. Variable:</th>            <td>y</td>        <th>  R-squared:         </th>  <td>   0.112</td>  \n",
       "</tr>\n",
       "<tr>\n",
       "  <th>Model:</th>                   <td>OLS</td>       <th>  Adj. R-squared:    </th>  <td>   0.112</td>  \n",
       "</tr>\n",
       "<tr>\n",
       "  <th>Method:</th>             <td>Least Squares</td>  <th>  F-statistic:       </th>  <td>   332.0</td>  \n",
       "</tr>\n",
       "<tr>\n",
       "  <th>Date:</th>             <td>Sat, 03 Oct 2020</td> <th>  Prob (F-statistic):</th>   <td>  0.00</td>   \n",
       "</tr>\n",
       "<tr>\n",
       "  <th>Time:</th>                 <td>19:56:30</td>     <th>  Log-Likelihood:    </th> <td>-1.1756e+05</td>\n",
       "</tr>\n",
       "<tr>\n",
       "  <th>No. Observations:</th>      <td>176414</td>      <th>  AIC:               </th>  <td>2.353e+05</td> \n",
       "</tr>\n",
       "<tr>\n",
       "  <th>Df Residuals:</th>          <td>176346</td>      <th>  BIC:               </th>  <td>2.359e+05</td> \n",
       "</tr>\n",
       "<tr>\n",
       "  <th>Df Model:</th>              <td>    67</td>      <th>                     </th>      <td> </td>     \n",
       "</tr>\n",
       "<tr>\n",
       "  <th>Covariance Type:</th>      <td>nonrobust</td>    <th>                     </th>      <td> </td>     \n",
       "</tr>\n",
       "</table>\n",
       "<table class=\"simpletable\">\n",
       "<tr>\n",
       "              <td></td>                 <th>coef</th>     <th>std err</th>      <th>t</th>      <th>P>|t|</th>  <th>[0.025</th>    <th>0.975]</th>  \n",
       "</tr>\n",
       "<tr>\n",
       "  <th>1</th>                         <td>    0.3360</td> <td>    0.009</td> <td>   39.420</td> <td> 0.000</td> <td>    0.319</td> <td>    0.353</td>\n",
       "</tr>\n",
       "<tr>\n",
       "  <th>Gender</th>                    <td>   -0.0118</td> <td>    0.004</td> <td>   -3.202</td> <td> 0.001</td> <td>   -0.019</td> <td>   -0.005</td>\n",
       "</tr>\n",
       "<tr>\n",
       "  <th>Age</th>                       <td>    0.0043</td> <td>    0.000</td> <td>   17.641</td> <td> 0.000</td> <td>    0.004</td> <td>    0.005</td>\n",
       "</tr>\n",
       "<tr>\n",
       "  <th>Scholarship</th>               <td>   -0.0396</td> <td>    0.007</td> <td>   -5.638</td> <td> 0.000</td> <td>   -0.053</td> <td>   -0.026</td>\n",
       "</tr>\n",
       "<tr>\n",
       "  <th>Hipertension</th>              <td>   -0.1993</td> <td>    0.013</td> <td>  -14.867</td> <td> 0.000</td> <td>   -0.226</td> <td>   -0.173</td>\n",
       "</tr>\n",
       "<tr>\n",
       "  <th>Diabetes</th>                  <td>   -0.1716</td> <td>    0.012</td> <td>  -14.541</td> <td> 0.000</td> <td>   -0.195</td> <td>   -0.148</td>\n",
       "</tr>\n",
       "<tr>\n",
       "  <th>Alcoholism</th>                <td>   -0.1368</td> <td>    0.017</td> <td>   -8.261</td> <td> 0.000</td> <td>   -0.169</td> <td>   -0.104</td>\n",
       "</tr>\n",
       "<tr>\n",
       "  <th>Handcap</th>                   <td>   -0.1716</td> <td>    0.053</td> <td>   -3.254</td> <td> 0.001</td> <td>   -0.275</td> <td>   -0.068</td>\n",
       "</tr>\n",
       "<tr>\n",
       "  <th>SMS_received</th>              <td>    0.1202</td> <td>    0.004</td> <td>   30.766</td> <td> 0.000</td> <td>    0.113</td> <td>    0.128</td>\n",
       "</tr>\n",
       "<tr>\n",
       "  <th>days</th>                      <td>    0.0180</td> <td>    0.000</td> <td>   73.583</td> <td> 0.000</td> <td>    0.018</td> <td>    0.019</td>\n",
       "</tr>\n",
       "<tr>\n",
       "  <th>Day-name</th>                  <td>    0.0120</td> <td>    0.004</td> <td>    2.672</td> <td> 0.008</td> <td>    0.003</td> <td>    0.021</td>\n",
       "</tr>\n",
       "<tr>\n",
       "  <th>Chronic</th>                   <td>    0.1802</td> <td>    0.020</td> <td>    8.834</td> <td> 0.000</td> <td>    0.140</td> <td>    0.220</td>\n",
       "</tr>\n",
       "<tr>\n",
       "  <th>Gender^2</th>                  <td>   -0.0118</td> <td>    0.004</td> <td>   -3.202</td> <td> 0.001</td> <td>   -0.019</td> <td>   -0.005</td>\n",
       "</tr>\n",
       "<tr>\n",
       "  <th>Gender Age</th>                <td>   -0.0014</td> <td>    0.000</td> <td>  -10.809</td> <td> 0.000</td> <td>   -0.002</td> <td>   -0.001</td>\n",
       "</tr>\n",
       "<tr>\n",
       "  <th>Gender Scholarship</th>        <td>    0.0228</td> <td>    0.012</td> <td>    1.970</td> <td> 0.049</td> <td>    0.000</td> <td>    0.045</td>\n",
       "</tr>\n",
       "<tr>\n",
       "  <th>Gender Hipertension</th>       <td>   -0.0469</td> <td>    0.017</td> <td>   -2.739</td> <td> 0.006</td> <td>   -0.081</td> <td>   -0.013</td>\n",
       "</tr>\n",
       "<tr>\n",
       "  <th>Gender Diabetes</th>           <td>   -0.0120</td> <td>    0.013</td> <td>   -0.902</td> <td> 0.367</td> <td>   -0.038</td> <td>    0.014</td>\n",
       "</tr>\n",
       "<tr>\n",
       "  <th>Gender Alcoholism</th>         <td>    0.0104</td> <td>    0.021</td> <td>    0.498</td> <td> 0.618</td> <td>   -0.030</td> <td>    0.051</td>\n",
       "</tr>\n",
       "<tr>\n",
       "  <th>Gender Handcap</th>            <td>    0.0494</td> <td>    0.019</td> <td>    2.643</td> <td> 0.008</td> <td>    0.013</td> <td>    0.086</td>\n",
       "</tr>\n",
       "<tr>\n",
       "  <th>Gender SMS_received</th>       <td>   -0.0609</td> <td>    0.006</td> <td>  -10.652</td> <td> 0.000</td> <td>   -0.072</td> <td>   -0.050</td>\n",
       "</tr>\n",
       "<tr>\n",
       "  <th>Gender days</th>               <td>   -0.0012</td> <td>    0.000</td> <td>   -6.617</td> <td> 0.000</td> <td>   -0.002</td> <td>   -0.001</td>\n",
       "</tr>\n",
       "<tr>\n",
       "  <th>Gender Day-name</th>           <td>    0.0039</td> <td>    0.002</td> <td>    2.128</td> <td> 0.033</td> <td>    0.000</td> <td>    0.007</td>\n",
       "</tr>\n",
       "<tr>\n",
       "  <th>Gender Chronic</th>            <td>    0.0423</td> <td>    0.018</td> <td>    2.364</td> <td> 0.018</td> <td>    0.007</td> <td>    0.077</td>\n",
       "</tr>\n",
       "<tr>\n",
       "  <th>Age^2</th>                     <td>-5.714e-05</td> <td> 2.63e-06</td> <td>  -21.765</td> <td> 0.000</td> <td>-6.23e-05</td> <td> -5.2e-05</td>\n",
       "</tr>\n",
       "<tr>\n",
       "  <th>Age Scholarship</th>           <td>   -0.0008</td> <td>    0.000</td> <td>   -2.610</td> <td> 0.009</td> <td>   -0.001</td> <td>   -0.000</td>\n",
       "</tr>\n",
       "<tr>\n",
       "  <th>Age Hipertension</th>          <td>    0.0041</td> <td>    0.001</td> <td>    7.523</td> <td> 0.000</td> <td>    0.003</td> <td>    0.005</td>\n",
       "</tr>\n",
       "<tr>\n",
       "  <th>Age Diabetes</th>              <td>    0.0008</td> <td>    0.000</td> <td>    1.768</td> <td> 0.077</td> <td>-8.69e-05</td> <td>    0.002</td>\n",
       "</tr>\n",
       "<tr>\n",
       "  <th>Age Alcoholism</th>            <td>   -0.0011</td> <td>    0.001</td> <td>   -1.337</td> <td> 0.181</td> <td>   -0.003</td> <td>    0.000</td>\n",
       "</tr>\n",
       "<tr>\n",
       "  <th>Age Handcap</th>               <td>   -0.0010</td> <td>    0.001</td> <td>   -1.911</td> <td> 0.056</td> <td>   -0.002</td> <td> 2.66e-05</td>\n",
       "</tr>\n",
       "<tr>\n",
       "  <th>Age SMS_received</th>          <td>   -0.0011</td> <td>    0.000</td> <td>   -8.314</td> <td> 0.000</td> <td>   -0.001</td> <td>   -0.001</td>\n",
       "</tr>\n",
       "<tr>\n",
       "  <th>Age days</th>                  <td>-4.201e-05</td> <td> 3.68e-06</td> <td>  -11.431</td> <td> 0.000</td> <td>-4.92e-05</td> <td>-3.48e-05</td>\n",
       "</tr>\n",
       "<tr>\n",
       "  <th>Age Day-name</th>              <td>   -0.0002</td> <td> 4.31e-05</td> <td>   -4.903</td> <td> 0.000</td> <td>   -0.000</td> <td>   -0.000</td>\n",
       "</tr>\n",
       "<tr>\n",
       "  <th>Age Chronic</th>               <td> 1.965e-07</td> <td>    0.001</td> <td>    0.000</td> <td> 1.000</td> <td>   -0.001</td> <td>    0.001</td>\n",
       "</tr>\n",
       "<tr>\n",
       "  <th>Scholarship^2</th>             <td>   -0.0396</td> <td>    0.007</td> <td>   -5.638</td> <td> 0.000</td> <td>   -0.053</td> <td>   -0.026</td>\n",
       "</tr>\n",
       "<tr>\n",
       "  <th>Scholarship Hipertension</th>  <td>   -0.0589</td> <td>    0.029</td> <td>   -2.064</td> <td> 0.039</td> <td>   -0.115</td> <td>   -0.003</td>\n",
       "</tr>\n",
       "<tr>\n",
       "  <th>Scholarship Diabetes</th>      <td>    0.0208</td> <td>    0.024</td> <td>    0.864</td> <td> 0.387</td> <td>   -0.026</td> <td>    0.068</td>\n",
       "</tr>\n",
       "<tr>\n",
       "  <th>Scholarship Alcoholism</th>    <td>    0.1325</td> <td>    0.031</td> <td>    4.307</td> <td> 0.000</td> <td>    0.072</td> <td>    0.193</td>\n",
       "</tr>\n",
       "<tr>\n",
       "  <th>Scholarship Handcap</th>       <td>   -0.0918</td> <td>    0.036</td> <td>   -2.526</td> <td> 0.012</td> <td>   -0.163</td> <td>   -0.021</td>\n",
       "</tr>\n",
       "<tr>\n",
       "  <th>Scholarship SMS_received</th>  <td>   -0.0210</td> <td>    0.010</td> <td>   -2.160</td> <td> 0.031</td> <td>   -0.040</td> <td>   -0.002</td>\n",
       "</tr>\n",
       "<tr>\n",
       "  <th>Scholarship days</th>          <td>    0.0005</td> <td>    0.000</td> <td>    1.339</td> <td> 0.181</td> <td>   -0.000</td> <td>    0.001</td>\n",
       "</tr>\n",
       "<tr>\n",
       "  <th>Scholarship Day-name</th>      <td>   -0.0013</td> <td>    0.003</td> <td>   -0.429</td> <td> 0.668</td> <td>   -0.007</td> <td>    0.005</td>\n",
       "</tr>\n",
       "<tr>\n",
       "  <th>Scholarship Chronic</th>       <td>    0.0430</td> <td>    0.030</td> <td>    1.428</td> <td> 0.153</td> <td>   -0.016</td> <td>    0.102</td>\n",
       "</tr>\n",
       "<tr>\n",
       "  <th>Hipertension^2</th>            <td>   -0.1993</td> <td>    0.013</td> <td>  -14.867</td> <td> 0.000</td> <td>   -0.226</td> <td>   -0.173</td>\n",
       "</tr>\n",
       "<tr>\n",
       "  <th>Hipertension Diabetes</th>     <td>    0.4005</td> <td>    0.022</td> <td>   17.943</td> <td> 0.000</td> <td>    0.357</td> <td>    0.444</td>\n",
       "</tr>\n",
       "<tr>\n",
       "  <th>Hipertension Alcoholism</th>   <td>    0.3908</td> <td>    0.026</td> <td>   15.267</td> <td> 0.000</td> <td>    0.341</td> <td>    0.441</td>\n",
       "</tr>\n",
       "<tr>\n",
       "  <th>Hipertension Handcap</th>      <td>    0.4122</td> <td>    0.029</td> <td>   14.052</td> <td> 0.000</td> <td>    0.355</td> <td>    0.470</td>\n",
       "</tr>\n",
       "<tr>\n",
       "  <th>Hipertension SMS_received</th> <td>   -0.0602</td> <td>    0.019</td> <td>   -3.187</td> <td> 0.001</td> <td>   -0.097</td> <td>   -0.023</td>\n",
       "</tr>\n",
       "<tr>\n",
       "  <th>Hipertension days</th>         <td>    0.0040</td> <td>    0.001</td> <td>    6.464</td> <td> 0.000</td> <td>    0.003</td> <td>    0.005</td>\n",
       "</tr>\n",
       "<tr>\n",
       "  <th>Hipertension Day-name</th>     <td>   -0.0227</td> <td>    0.006</td> <td>   -3.962</td> <td> 0.000</td> <td>   -0.034</td> <td>   -0.011</td>\n",
       "</tr>\n",
       "<tr>\n",
       "  <th>Hipertension Chronic</th>      <td>   -0.1993</td> <td>    0.013</td> <td>  -14.867</td> <td> 0.000</td> <td>   -0.226</td> <td>   -0.173</td>\n",
       "</tr>\n",
       "<tr>\n",
       "  <th>Diabetes^2</th>                <td>   -0.1716</td> <td>    0.012</td> <td>  -14.541</td> <td> 0.000</td> <td>   -0.195</td> <td>   -0.148</td>\n",
       "</tr>\n",
       "<tr>\n",
       "  <th>Diabetes Alcoholism</th>       <td>    0.1316</td> <td>    0.029</td> <td>    4.476</td> <td> 0.000</td> <td>    0.074</td> <td>    0.189</td>\n",
       "</tr>\n",
       "<tr>\n",
       "  <th>Diabetes Handcap</th>          <td>    0.0283</td> <td>    0.026</td> <td>    1.097</td> <td> 0.273</td> <td>   -0.022</td> <td>    0.079</td>\n",
       "</tr>\n",
       "<tr>\n",
       "  <th>Diabetes SMS_received</th>     <td>   -0.0454</td> <td>    0.013</td> <td>   -3.382</td> <td> 0.001</td> <td>   -0.072</td> <td>   -0.019</td>\n",
       "</tr>\n",
       "<tr>\n",
       "  <th>Diabetes days</th>             <td>   -0.0002</td> <td>    0.000</td> <td>   -0.454</td> <td> 0.650</td> <td>   -0.001</td> <td>    0.001</td>\n",
       "</tr>\n",
       "<tr>\n",
       "  <th>Diabetes Day-name</th>         <td>   -0.0014</td> <td>    0.004</td> <td>   -0.340</td> <td> 0.734</td> <td>   -0.010</td> <td>    0.007</td>\n",
       "</tr>\n",
       "<tr>\n",
       "  <th>Diabetes Chronic</th>          <td>   -0.1716</td> <td>    0.012</td> <td>  -14.541</td> <td> 0.000</td> <td>   -0.195</td> <td>   -0.148</td>\n",
       "</tr>\n",
       "<tr>\n",
       "  <th>Alcoholism^2</th>              <td>   -0.1368</td> <td>    0.017</td> <td>   -8.261</td> <td> 0.000</td> <td>   -0.169</td> <td>   -0.104</td>\n",
       "</tr>\n",
       "<tr>\n",
       "  <th>Alcoholism Handcap</th>        <td>    0.1869</td> <td>    0.047</td> <td>    3.951</td> <td> 0.000</td> <td>    0.094</td> <td>    0.280</td>\n",
       "</tr>\n",
       "<tr>\n",
       "  <th>Alcoholism SMS_received</th>   <td>    0.0468</td> <td>    0.023</td> <td>    2.073</td> <td> 0.038</td> <td>    0.003</td> <td>    0.091</td>\n",
       "</tr>\n",
       "<tr>\n",
       "  <th>Alcoholism days</th>           <td>    0.0019</td> <td>    0.001</td> <td>    2.331</td> <td> 0.020</td> <td>    0.000</td> <td>    0.004</td>\n",
       "</tr>\n",
       "<tr>\n",
       "  <th>Alcoholism Day-name</th>       <td>   -0.0319</td> <td>    0.007</td> <td>   -4.776</td> <td> 0.000</td> <td>   -0.045</td> <td>   -0.019</td>\n",
       "</tr>\n",
       "<tr>\n",
       "  <th>Alcoholism Chronic</th>        <td>   -0.1368</td> <td>    0.017</td> <td>   -8.261</td> <td> 0.000</td> <td>   -0.169</td> <td>   -0.104</td>\n",
       "</tr>\n",
       "<tr>\n",
       "  <th>Handcap^2</th>                 <td>    0.0679</td> <td>    0.019</td> <td>    3.607</td> <td> 0.000</td> <td>    0.031</td> <td>    0.105</td>\n",
       "</tr>\n",
       "<tr>\n",
       "  <th>Handcap SMS_received</th>      <td>   -0.0573</td> <td>    0.022</td> <td>   -2.590</td> <td> 0.010</td> <td>   -0.101</td> <td>   -0.014</td>\n",
       "</tr>\n",
       "<tr>\n",
       "  <th>Handcap days</th>              <td>    0.0013</td> <td>    0.001</td> <td>    2.112</td> <td> 0.035</td> <td>  9.5e-05</td> <td>    0.003</td>\n",
       "</tr>\n",
       "<tr>\n",
       "  <th>Handcap Day-name</th>          <td>   -0.0205</td> <td>    0.007</td> <td>   -3.100</td> <td> 0.002</td> <td>   -0.034</td> <td>   -0.008</td>\n",
       "</tr>\n",
       "<tr>\n",
       "  <th>Handcap Chronic</th>           <td>   -0.3349</td> <td>    0.040</td> <td>   -8.436</td> <td> 0.000</td> <td>   -0.413</td> <td>   -0.257</td>\n",
       "</tr>\n",
       "<tr>\n",
       "  <th>SMS_received^2</th>            <td>    0.1202</td> <td>    0.004</td> <td>   30.766</td> <td> 0.000</td> <td>    0.113</td> <td>    0.128</td>\n",
       "</tr>\n",
       "<tr>\n",
       "  <th>SMS_received days</th>         <td>   -0.0080</td> <td>    0.000</td> <td>  -51.034</td> <td> 0.000</td> <td>   -0.008</td> <td>   -0.008</td>\n",
       "</tr>\n",
       "<tr>\n",
       "  <th>SMS_received Day-name</th>     <td>   -0.0237</td> <td>    0.002</td> <td>  -12.141</td> <td> 0.000</td> <td>   -0.028</td> <td>   -0.020</td>\n",
       "</tr>\n",
       "<tr>\n",
       "  <th>SMS_received Chronic</th>      <td>    0.0092</td> <td>    0.020</td> <td>    0.469</td> <td> 0.639</td> <td>   -0.029</td> <td>    0.047</td>\n",
       "</tr>\n",
       "<tr>\n",
       "  <th>days^2</th>                    <td>-9.116e-05</td> <td> 2.09e-06</td> <td>  -43.597</td> <td> 0.000</td> <td>-9.53e-05</td> <td>-8.71e-05</td>\n",
       "</tr>\n",
       "<tr>\n",
       "  <th>days Day-name</th>             <td>   -0.0004</td> <td> 5.54e-05</td> <td>   -7.829</td> <td> 0.000</td> <td>   -0.001</td> <td>   -0.000</td>\n",
       "</tr>\n",
       "<tr>\n",
       "  <th>days Chronic</th>              <td>   -0.0019</td> <td>    0.001</td> <td>   -3.049</td> <td> 0.002</td> <td>   -0.003</td> <td>   -0.001</td>\n",
       "</tr>\n",
       "<tr>\n",
       "  <th>Day-name^2</th>                <td>-8.823e-05</td> <td>    0.001</td> <td>   -0.130</td> <td> 0.896</td> <td>   -0.001</td> <td>    0.001</td>\n",
       "</tr>\n",
       "<tr>\n",
       "  <th>Day-name Chronic</th>          <td>    0.0211</td> <td>    0.006</td> <td>    3.520</td> <td> 0.000</td> <td>    0.009</td> <td>    0.033</td>\n",
       "</tr>\n",
       "<tr>\n",
       "  <th>Chronic^2</th>                 <td>    0.1802</td> <td>    0.020</td> <td>    8.834</td> <td> 0.000</td> <td>    0.140</td> <td>    0.220</td>\n",
       "</tr>\n",
       "</table>\n",
       "<table class=\"simpletable\">\n",
       "<tr>\n",
       "  <th>Omnibus:</th>       <td>981859.743</td> <th>  Durbin-Watson:     </th> <td>   0.894</td> \n",
       "</tr>\n",
       "<tr>\n",
       "  <th>Prob(Omnibus):</th>   <td> 0.000</td>   <th>  Jarque-Bera (JB):  </th> <td>17256.726</td>\n",
       "</tr>\n",
       "<tr>\n",
       "  <th>Skew:</th>            <td> 0.024</td>   <th>  Prob(JB):          </th> <td>    0.00</td> \n",
       "</tr>\n",
       "<tr>\n",
       "  <th>Kurtosis:</th>        <td> 1.469</td>   <th>  Cond. No.          </th> <td>1.40e+16</td> \n",
       "</tr>\n",
       "</table><br/><br/>Warnings:<br/>[1] Standard Errors assume that the covariance matrix of the errors is correctly specified.<br/>[2] The smallest eigenvalue is 6.34e-21. This might indicate that there are<br/>strong multicollinearity problems or that the design matrix is singular."
      ],
      "text/plain": [
       "<class 'statsmodels.iolib.summary.Summary'>\n",
       "\"\"\"\n",
       "                            OLS Regression Results                            \n",
       "==============================================================================\n",
       "Dep. Variable:                      y   R-squared:                       0.112\n",
       "Model:                            OLS   Adj. R-squared:                  0.112\n",
       "Method:                 Least Squares   F-statistic:                     332.0\n",
       "Date:                Sat, 03 Oct 2020   Prob (F-statistic):               0.00\n",
       "Time:                        19:56:30   Log-Likelihood:            -1.1756e+05\n",
       "No. Observations:              176414   AIC:                         2.353e+05\n",
       "Df Residuals:                  176346   BIC:                         2.359e+05\n",
       "Df Model:                          67                                         \n",
       "Covariance Type:            nonrobust                                         \n",
       "=============================================================================================\n",
       "                                coef    std err          t      P>|t|      [0.025      0.975]\n",
       "---------------------------------------------------------------------------------------------\n",
       "1                             0.3360      0.009     39.420      0.000       0.319       0.353\n",
       "Gender                       -0.0118      0.004     -3.202      0.001      -0.019      -0.005\n",
       "Age                           0.0043      0.000     17.641      0.000       0.004       0.005\n",
       "Scholarship                  -0.0396      0.007     -5.638      0.000      -0.053      -0.026\n",
       "Hipertension                 -0.1993      0.013    -14.867      0.000      -0.226      -0.173\n",
       "Diabetes                     -0.1716      0.012    -14.541      0.000      -0.195      -0.148\n",
       "Alcoholism                   -0.1368      0.017     -8.261      0.000      -0.169      -0.104\n",
       "Handcap                      -0.1716      0.053     -3.254      0.001      -0.275      -0.068\n",
       "SMS_received                  0.1202      0.004     30.766      0.000       0.113       0.128\n",
       "days                          0.0180      0.000     73.583      0.000       0.018       0.019\n",
       "Day-name                      0.0120      0.004      2.672      0.008       0.003       0.021\n",
       "Chronic                       0.1802      0.020      8.834      0.000       0.140       0.220\n",
       "Gender^2                     -0.0118      0.004     -3.202      0.001      -0.019      -0.005\n",
       "Gender Age                   -0.0014      0.000    -10.809      0.000      -0.002      -0.001\n",
       "Gender Scholarship            0.0228      0.012      1.970      0.049       0.000       0.045\n",
       "Gender Hipertension          -0.0469      0.017     -2.739      0.006      -0.081      -0.013\n",
       "Gender Diabetes              -0.0120      0.013     -0.902      0.367      -0.038       0.014\n",
       "Gender Alcoholism             0.0104      0.021      0.498      0.618      -0.030       0.051\n",
       "Gender Handcap                0.0494      0.019      2.643      0.008       0.013       0.086\n",
       "Gender SMS_received          -0.0609      0.006    -10.652      0.000      -0.072      -0.050\n",
       "Gender days                  -0.0012      0.000     -6.617      0.000      -0.002      -0.001\n",
       "Gender Day-name               0.0039      0.002      2.128      0.033       0.000       0.007\n",
       "Gender Chronic                0.0423      0.018      2.364      0.018       0.007       0.077\n",
       "Age^2                     -5.714e-05   2.63e-06    -21.765      0.000   -6.23e-05    -5.2e-05\n",
       "Age Scholarship              -0.0008      0.000     -2.610      0.009      -0.001      -0.000\n",
       "Age Hipertension              0.0041      0.001      7.523      0.000       0.003       0.005\n",
       "Age Diabetes                  0.0008      0.000      1.768      0.077   -8.69e-05       0.002\n",
       "Age Alcoholism               -0.0011      0.001     -1.337      0.181      -0.003       0.000\n",
       "Age Handcap                  -0.0010      0.001     -1.911      0.056      -0.002    2.66e-05\n",
       "Age SMS_received             -0.0011      0.000     -8.314      0.000      -0.001      -0.001\n",
       "Age days                  -4.201e-05   3.68e-06    -11.431      0.000   -4.92e-05   -3.48e-05\n",
       "Age Day-name                 -0.0002   4.31e-05     -4.903      0.000      -0.000      -0.000\n",
       "Age Chronic                1.965e-07      0.001      0.000      1.000      -0.001       0.001\n",
       "Scholarship^2                -0.0396      0.007     -5.638      0.000      -0.053      -0.026\n",
       "Scholarship Hipertension     -0.0589      0.029     -2.064      0.039      -0.115      -0.003\n",
       "Scholarship Diabetes          0.0208      0.024      0.864      0.387      -0.026       0.068\n",
       "Scholarship Alcoholism        0.1325      0.031      4.307      0.000       0.072       0.193\n",
       "Scholarship Handcap          -0.0918      0.036     -2.526      0.012      -0.163      -0.021\n",
       "Scholarship SMS_received     -0.0210      0.010     -2.160      0.031      -0.040      -0.002\n",
       "Scholarship days              0.0005      0.000      1.339      0.181      -0.000       0.001\n",
       "Scholarship Day-name         -0.0013      0.003     -0.429      0.668      -0.007       0.005\n",
       "Scholarship Chronic           0.0430      0.030      1.428      0.153      -0.016       0.102\n",
       "Hipertension^2               -0.1993      0.013    -14.867      0.000      -0.226      -0.173\n",
       "Hipertension Diabetes         0.4005      0.022     17.943      0.000       0.357       0.444\n",
       "Hipertension Alcoholism       0.3908      0.026     15.267      0.000       0.341       0.441\n",
       "Hipertension Handcap          0.4122      0.029     14.052      0.000       0.355       0.470\n",
       "Hipertension SMS_received    -0.0602      0.019     -3.187      0.001      -0.097      -0.023\n",
       "Hipertension days             0.0040      0.001      6.464      0.000       0.003       0.005\n",
       "Hipertension Day-name        -0.0227      0.006     -3.962      0.000      -0.034      -0.011\n",
       "Hipertension Chronic         -0.1993      0.013    -14.867      0.000      -0.226      -0.173\n",
       "Diabetes^2                   -0.1716      0.012    -14.541      0.000      -0.195      -0.148\n",
       "Diabetes Alcoholism           0.1316      0.029      4.476      0.000       0.074       0.189\n",
       "Diabetes Handcap              0.0283      0.026      1.097      0.273      -0.022       0.079\n",
       "Diabetes SMS_received        -0.0454      0.013     -3.382      0.001      -0.072      -0.019\n",
       "Diabetes days                -0.0002      0.000     -0.454      0.650      -0.001       0.001\n",
       "Diabetes Day-name            -0.0014      0.004     -0.340      0.734      -0.010       0.007\n",
       "Diabetes Chronic             -0.1716      0.012    -14.541      0.000      -0.195      -0.148\n",
       "Alcoholism^2                 -0.1368      0.017     -8.261      0.000      -0.169      -0.104\n",
       "Alcoholism Handcap            0.1869      0.047      3.951      0.000       0.094       0.280\n",
       "Alcoholism SMS_received       0.0468      0.023      2.073      0.038       0.003       0.091\n",
       "Alcoholism days               0.0019      0.001      2.331      0.020       0.000       0.004\n",
       "Alcoholism Day-name          -0.0319      0.007     -4.776      0.000      -0.045      -0.019\n",
       "Alcoholism Chronic           -0.1368      0.017     -8.261      0.000      -0.169      -0.104\n",
       "Handcap^2                     0.0679      0.019      3.607      0.000       0.031       0.105\n",
       "Handcap SMS_received         -0.0573      0.022     -2.590      0.010      -0.101      -0.014\n",
       "Handcap days                  0.0013      0.001      2.112      0.035     9.5e-05       0.003\n",
       "Handcap Day-name             -0.0205      0.007     -3.100      0.002      -0.034      -0.008\n",
       "Handcap Chronic              -0.3349      0.040     -8.436      0.000      -0.413      -0.257\n",
       "SMS_received^2                0.1202      0.004     30.766      0.000       0.113       0.128\n",
       "SMS_received days            -0.0080      0.000    -51.034      0.000      -0.008      -0.008\n",
       "SMS_received Day-name        -0.0237      0.002    -12.141      0.000      -0.028      -0.020\n",
       "SMS_received Chronic          0.0092      0.020      0.469      0.639      -0.029       0.047\n",
       "days^2                    -9.116e-05   2.09e-06    -43.597      0.000   -9.53e-05   -8.71e-05\n",
       "days Day-name                -0.0004   5.54e-05     -7.829      0.000      -0.001      -0.000\n",
       "days Chronic                 -0.0019      0.001     -3.049      0.002      -0.003      -0.001\n",
       "Day-name^2                -8.823e-05      0.001     -0.130      0.896      -0.001       0.001\n",
       "Day-name Chronic              0.0211      0.006      3.520      0.000       0.009       0.033\n",
       "Chronic^2                     0.1802      0.020      8.834      0.000       0.140       0.220\n",
       "==============================================================================\n",
       "Omnibus:                   981859.743   Durbin-Watson:                   0.894\n",
       "Prob(Omnibus):                  0.000   Jarque-Bera (JB):            17256.726\n",
       "Skew:                           0.024   Prob(JB):                         0.00\n",
       "Kurtosis:                       1.469   Cond. No.                     1.40e+16\n",
       "==============================================================================\n",
       "\n",
       "Warnings:\n",
       "[1] Standard Errors assume that the covariance matrix of the errors is correctly specified.\n",
       "[2] The smallest eigenvalue is 6.34e-21. This might indicate that there are\n",
       "strong multicollinearity problems or that the design matrix is singular.\n",
       "\"\"\""
      ]
     },
     "metadata": {},
     "output_type": "display_data"
    }
   ],
   "source": [
    "import statsmodels.api as sm\n",
    "results = sm.OLS(y, x_pol_df).fit()\n",
    "\n",
    "# We print the summary results\n",
    "display(results.summary())"
   ]
  },
  {
   "cell_type": "code",
   "execution_count": 205,
   "metadata": {},
   "outputs": [
    {
     "data": {
      "text/plain": [
       "['1',\n",
       " 'Gender',\n",
       " 'Age',\n",
       " 'Scholarship',\n",
       " 'Hipertension',\n",
       " 'Diabetes',\n",
       " 'Alcoholism',\n",
       " 'Handcap',\n",
       " 'SMS_received',\n",
       " 'days',\n",
       " 'Chronic',\n",
       " 'Gender^2',\n",
       " 'Gender Age',\n",
       " 'Gender SMS_received',\n",
       " 'Gender days',\n",
       " 'Age^2',\n",
       " 'Age Hipertension',\n",
       " 'Age SMS_received',\n",
       " 'Age days',\n",
       " 'Age Day-name',\n",
       " 'Scholarship^2',\n",
       " 'Scholarship Alcoholism',\n",
       " 'Hipertension^2',\n",
       " 'Hipertension Diabetes',\n",
       " 'Hipertension Alcoholism',\n",
       " 'Hipertension Handcap',\n",
       " 'Hipertension SMS_received',\n",
       " 'Hipertension days',\n",
       " 'Hipertension Day-name',\n",
       " 'Hipertension Chronic',\n",
       " 'Diabetes^2',\n",
       " 'Diabetes Alcoholism',\n",
       " 'Diabetes SMS_received',\n",
       " 'Diabetes Chronic',\n",
       " 'Alcoholism^2',\n",
       " 'Alcoholism Handcap',\n",
       " 'Alcoholism Day-name',\n",
       " 'Alcoholism Chronic',\n",
       " 'Handcap^2',\n",
       " 'Handcap Day-name',\n",
       " 'Handcap Chronic',\n",
       " 'SMS_received^2',\n",
       " 'SMS_received days',\n",
       " 'SMS_received Day-name',\n",
       " 'days^2',\n",
       " 'days Day-name',\n",
       " 'days Chronic',\n",
       " 'Day-name Chronic',\n",
       " 'Chronic^2']"
      ]
     },
     "execution_count": 205,
     "metadata": {},
     "output_type": "execute_result"
    }
   ],
   "source": [
    "list(results.pvalues[results.pvalues < 0.005].index)\n"
   ]
  },
  {
   "cell_type": "markdown",
   "metadata": {},
   "source": [
    "#### Model1"
   ]
  },
  {
   "cell_type": "code",
   "execution_count": 206,
   "metadata": {},
   "outputs": [
    {
     "name": "stdout",
     "output_type": "stream",
     "text": [
      "Accuracy : 0.6494062296289999\n",
      "\n",
      "Train Dataset\n",
      "              precision    recall  f1-score   support\n",
      "\n",
      "       False       0.64      0.69      0.66     70565\n",
      "        True       0.66      0.61      0.64     70566\n",
      "\n",
      "    accuracy                           0.65    141131\n",
      "   macro avg       0.65      0.65      0.65    141131\n",
      "weighted avg       0.65      0.65      0.65    141131\n",
      "\n",
      "Test Dataset\n",
      "              precision    recall  f1-score   support\n",
      "\n",
      "       False       0.64      0.69      0.66     17642\n",
      "        True       0.66      0.61      0.64     17641\n",
      "\n",
      "    accuracy                           0.65     35283\n",
      "   macro avg       0.65      0.65      0.65     35283\n",
      "weighted avg       0.65      0.65      0.65     35283\n",
      "\n"
     ]
    }
   ],
   "source": [
    "from sklearn.linear_model import LogisticRegression\n",
    "log_reg = LogisticRegression(solver='lbfgs')\n",
    "\n",
    "from sklearn.model_selection import train_test_split\n",
    "##X = df[\"Age\",\"Hipertension\",\"SMS_received\",\"days\",\"Gender SMS_received\",\"Age Hipertension\",\"Age days\",\"Age Chronic\",\"Scholarship Handcap\",\"Scholarship days\",\"Hipertension days\",\"Hipertension Chronic\",\"\"]\n",
    "x_pol_df=x_pol_df[['Gender',\n",
    " 'Age',\n",
    " 'Scholarship',\n",
    " 'Hipertension',\n",
    " 'Diabetes',\n",
    " 'Alcoholism',\n",
    " 'Handcap',\n",
    " 'SMS_received',\n",
    " 'days',\n",
    " 'Day-name',\n",
    " 'Chronic',\n",
    " 'Gender Age',\n",
    " 'Gender SMS_received',\n",
    " 'Gender days',\n",
    " 'Age Scholarship',\n",
    " 'Age Hipertension',\n",
    " 'Age SMS_received',\n",
    " 'Age days',\n",
    " 'Age Day-name',\n",
    " 'Scholarship Hipertension',\n",
    " 'Scholarship Alcoholism',\n",
    " 'Hipertension Diabetes',\n",
    " 'Hipertension Alcoholism',\n",
    " 'Hipertension Handcap',\n",
    " 'Hipertension SMS_received',\n",
    " 'Hipertension days',\n",
    " 'Hipertension Day-name',\n",
    " 'Hipertension Chronic',\n",
    " 'Diabetes Alcoholism',\n",
    " 'Diabetes Chronic',\n",
    " 'Alcoholism Handcap',\n",
    " 'Alcoholism Day-name',\n",
    " 'Alcoholism Chronic',\n",
    " 'Handcap Day-name',\n",
    " 'Handcap Chronic',\n",
    " 'SMS_received^2',\n",
    " 'SMS_received days',\n",
    " 'SMS_received Day-name',\n",
    " 'days Day-name',\n",
    " 'Day-name Chronic']]\n",
    "\n",
    "y = df['No-show']\n",
    "X = x_pol_df\n",
    "X_train, X_test, y_train, y_test =  train_test_split(X, y, test_size=0.20, random_state=111,stratify=y)\n",
    "\n",
    "\n",
    "create_model(X,y)\n",
    "#log_reg.fit(X_train, y_train)\n",
    "\n",
    "#train_accuracy = log_reg.score(X_train, y_train)\n",
    "#test_accuracy = log_reg.score(X_test, y_test)\n",
    "\n",
    "#print('One-vs.-Rest', '-'*30, \n",
    "#      'Accuracy on Train Data : {:.2f}'.format(train_accuracy), \n",
    "#      'Accuracy on Test Data  : {:.2f}'.format(test_accuracy), sep='\\n')"
   ]
  },
  {
   "cell_type": "markdown",
   "metadata": {},
   "source": [
    "#### Model2"
   ]
  },
  {
   "cell_type": "code",
   "execution_count": 207,
   "metadata": {},
   "outputs": [
    {
     "name": "stdout",
     "output_type": "stream",
     "text": [
      "Accuracy : 0.6243800130374402\n",
      "\n",
      "Train Dataset\n",
      "              precision    recall  f1-score   support\n",
      "\n",
      "       False       0.62      0.66      0.63     70565\n",
      "        True       0.63      0.59      0.61     70566\n",
      "\n",
      "    accuracy                           0.62    141131\n",
      "   macro avg       0.62      0.62      0.62    141131\n",
      "weighted avg       0.62      0.62      0.62    141131\n",
      "\n",
      "Test Dataset\n",
      "              precision    recall  f1-score   support\n",
      "\n",
      "       False       0.62      0.66      0.64     17642\n",
      "        True       0.63      0.59      0.61     17641\n",
      "\n",
      "    accuracy                           0.62     35283\n",
      "   macro avg       0.62      0.62      0.62     35283\n",
      "weighted avg       0.62      0.62      0.62     35283\n",
      "\n"
     ]
    }
   ],
   "source": [
    "y = df['No-show']\n",
    "X = df.drop(['No-show'],axis=1)\n",
    "X_train, X_test, y_train, y_test =  train_test_split(X, y, test_size=0.20, random_state=111,stratify=y)\n",
    "\n",
    "create_model(X,y)"
   ]
  },
  {
   "cell_type": "markdown",
   "metadata": {},
   "source": [
    "> Polynomial Features ile Oluşturduğumuz yeni Feature'lar sayesinde (Model1) tahmin değerlerimiz bir miktar daha arttı. Buyüzden bu featuresları kullanacağız"
   ]
  },
  {
   "cell_type": "code",
   "execution_count": 208,
   "metadata": {},
   "outputs": [],
   "source": [
    "y = df['No-show']\n",
    "X = x_pol_df\n",
    "X_train, X_test, y_train, y_test =  train_test_split(X, y, test_size=0.20, random_state=111,stratify=y)\n"
   ]
  },
  {
   "cell_type": "code",
   "execution_count": null,
   "metadata": {},
   "outputs": [],
   "source": []
  },
  {
   "cell_type": "markdown",
   "metadata": {},
   "source": [
    "#### Cross Validation"
   ]
  },
  {
   "cell_type": "code",
   "execution_count": 94,
   "metadata": {},
   "outputs": [],
   "source": [
    "from sklearn.model_selection import cross_validate, cross_val_score\n",
    "from sklearn.metrics import make_scorer, accuracy_score, precision_score, recall_score, f1_score\n",
    "\n",
    "log_reg_model = LogisticRegression()\n",
    "\n",
    "cv = cross_validate(estimator=log_reg_model,\n",
    "                    X=X,\n",
    "                    y=y,\n",
    "                    cv=10,\n",
    "                    return_train_score=True,\n",
    "                    scoring = ['accuracy','precision',\"recall\"]\n",
    "                   )\n",
    "\n"
   ]
  },
  {
   "cell_type": "code",
   "execution_count": 95,
   "metadata": {},
   "outputs": [
    {
     "name": "stdout",
     "output_type": "stream",
     "text": [
      "Train Set Mean Precision : 0.67  \n",
      "Train Set Mean Recall : 0.61\n",
      "Train Set Mean Accuracy  : 0.65\n",
      "  \n",
      "Test Set Mean Precision  : 0.64  \n",
      "Test Set Mean Recall : 0.60\n",
      "Test Set Mean Accuracy   : 0.63  \n"
     ]
    }
   ],
   "source": [
    "print('Train Set Mean Precision : {:.2f}  '.format(cv['train_precision'].mean()))\n",
    "print('Train Set Mean Recall : {:.2f}'.format(cv['train_recall'].mean()))\n",
    "print('Train Set Mean Accuracy  : {:.2f}\\n  '.format(cv['train_accuracy'].mean()))\n",
    "\n",
    "\n",
    "print('Test Set Mean Precision  : {:.2f}  '.format(cv['test_precision'].mean()))\n",
    "print('Test Set Mean Recall : {:.2f}'.format(cv['test_recall'].mean()))\n",
    "print('Test Set Mean Accuracy   : {:.2f}  '.format(cv['test_accuracy'].mean()))\n",
    "\n"
   ]
  },
  {
   "cell_type": "code",
   "execution_count": 96,
   "metadata": {},
   "outputs": [
    {
     "data": {
      "text/plain": [
       "KNeighborsClassifier(n_neighbors=1)"
      ]
     },
     "execution_count": 96,
     "metadata": {},
     "output_type": "execute_result"
    }
   ],
   "source": [
    "from sklearn.neighbors import KNeighborsClassifier\n",
    "knn = KNeighborsClassifier(n_neighbors = 1)\n",
    "knn.fit(X_train,y_train)"
   ]
  },
  {
   "cell_type": "code",
   "execution_count": 97,
   "metadata": {},
   "outputs": [
    {
     "data": {
      "text/plain": [
       "0.703653317461667"
      ]
     },
     "execution_count": 97,
     "metadata": {},
     "output_type": "execute_result"
    }
   ],
   "source": [
    "knn.score(X_test, y_test)\n"
   ]
  },
  {
   "cell_type": "code",
   "execution_count": 98,
   "metadata": {},
   "outputs": [
    {
     "name": "stdout",
     "output_type": "stream",
     "text": [
      "cv =  3 ---> Average cross validation score :  0.6487826998837968\n",
      "cv = 10 ---> Average cross validation score  :  0.6583906732618428\n"
     ]
    }
   ],
   "source": [
    "from sklearn.model_selection import cross_val_score\n",
    "cvscores_3 = cross_val_score(knn, X_test, y_test, cv=3)\n",
    "print('cv =  3 ---> Average cross validation score : ', np.mean(cvscores_3))\n",
    "\n",
    "# Perform 10-fold CV\n",
    "cvscores_10 = cross_val_score(knn, X_test, y_test, cv=10)\n",
    "print('cv = 10 ---> Average cross validation score  : ', np.mean(cvscores_10))"
   ]
  },
  {
   "cell_type": "code",
   "execution_count": 99,
   "metadata": {},
   "outputs": [
    {
     "data": {
      "text/plain": [
       "LogisticRegression()"
      ]
     },
     "execution_count": 99,
     "metadata": {},
     "output_type": "execute_result"
    }
   ],
   "source": [
    "from sklearn.tree import DecisionTreeClassifier, export_graphviz\n",
    "import pydotplus\n",
    "\n",
    "compare_decision_tree = DecisionTreeClassifier(criterion='entropy',\n",
    "                                     max_depth=3,random_state = 100)\n",
    "compare_decision_tree.fit(X_train, y_train)\n",
    "\n",
    "compare_log_reg = LogisticRegression()\n",
    "compare_log_reg.fit(X_train, y_train)"
   ]
  },
  {
   "cell_type": "code",
   "execution_count": 100,
   "metadata": {},
   "outputs": [
    {
     "name": "stdout",
     "output_type": "stream",
     "text": [
      "Decision Tree Accuracy        : 0.6708\n",
      "Logistic Regression Accuracy : 0.6507\n"
     ]
    }
   ],
   "source": [
    "from sklearn.metrics import accuracy_score\n",
    "y_predict_dt = compare_decision_tree.predict(X_test)\n",
    "y_predict_lr = compare_log_reg.predict(X_test)\n",
    "\n",
    "print(\"Decision Tree Accuracy        : {:.4f}\".format(accuracy_score(y_test, y_predict_dt)))\n",
    "print(\"Logistic Regression Accuracy : {:.4f}\".format(accuracy_score(y_test, y_predict_lr)))"
   ]
  },
  {
   "cell_type": "code",
   "execution_count": 101,
   "metadata": {},
   "outputs": [
    {
     "data": {
      "text/plain": [
       "RandomForestClassifier(n_estimators=25, random_state=2)"
      ]
     },
     "execution_count": 101,
     "metadata": {},
     "output_type": "execute_result"
    }
   ],
   "source": [
    "from sklearn.ensemble import RandomForestClassifier\n",
    "random_forest = RandomForestClassifier(n_estimators=25, random_state=2)\n",
    "random_forest.fit(X_train, y_train) "
   ]
  },
  {
   "cell_type": "code",
   "execution_count": 102,
   "metadata": {},
   "outputs": [
    {
     "name": "stdout",
     "output_type": "stream",
     "text": [
      "Accuracy of the Random Forest : 0.7541\n"
     ]
    }
   ],
   "source": [
    "from sklearn.metrics import accuracy_score\n",
    "y_predict = random_forest.predict(X_test)\n",
    "print(\"Accuracy of the Random Forest : {:.4f}\".format(accuracy_score(y_test, y_predict)))"
   ]
  },
  {
   "cell_type": "code",
   "execution_count": 103,
   "metadata": {},
   "outputs": [
    {
     "data": {
      "image/png": "[encoded data removed]",
      "text/plain": [
       "<Figure size 1440x720 with 1 Axes>"
      ]
     },
     "metadata": {},
     "output_type": "display_data"
    }
   ],
   "source": [
    "plt.figure(figsize=(20,10))\n",
    "importance_level = pd.Series(data=random_forest.feature_importances_,\n",
    "                        index= X_train.columns)\n",
    "\n",
    "importance_level_sorted = importance_level.sort_values()\n",
    "\n",
    "importance_level_sorted.plot(kind='barh', color='darkblue')\n",
    "plt.title('Importance Level of the Features')\n",
    "plt.show()"
   ]
  },
  {
   "cell_type": "code",
   "execution_count": 104,
   "metadata": {},
   "outputs": [],
   "source": [
    "from imblearn.over_sampling import SMOTE\n",
    "from sklearn.model_selection import train_test_split, GridSearchCV, cross_validate"
   ]
  },
  {
   "cell_type": "code",
   "execution_count": 105,
   "metadata": {},
   "outputs": [],
   "source": [
    "oversampler=SMOTE(random_state=0)\n",
    "smote_train, smote_target = oversampler.fit_sample(X_train,y_train)"
   ]
  },
  {
   "cell_type": "code",
   "execution_count": 106,
   "metadata": {},
   "outputs": [],
   "source": [
    "from sklearn.model_selection import train_test_split, GridSearchCV, cross_validate"
   ]
  },
  {
   "cell_type": "code",
   "execution_count": 107,
   "metadata": {},
   "outputs": [],
   "source": [
    "#from sklearn.svm import SVC\n",
    "#svc = SVC(kernel='linear', C=1)\n",
    "#svc.fit(smote_train, smote_target)"
   ]
  },
  {
   "cell_type": "code",
   "execution_count": 108,
   "metadata": {},
   "outputs": [],
   "source": [
    "#from sklearn.metrics import accuracy_score\n",
    "#y_pred= svc.predict(X_test)\n",
    "#print(\"Accuracy Rate of SVC: {:.2f}\".format(accuracy_score(y_test, y_pred)))"
   ]
  },
  {
   "cell_type": "code",
   "execution_count": 109,
   "metadata": {},
   "outputs": [],
   "source": [
    "#!pip install ipywidgets \n"
   ]
  },
  {
   "cell_type": "code",
   "execution_count": 110,
   "metadata": {},
   "outputs": [],
   "source": [
    "#!jupyter nbextension enable --py widgetsnbextension\n",
    "#!jupyter labextension install @jupyter-widgets/jupyterlab-manager"
   ]
  },
  {
   "cell_type": "code",
   "execution_count": 111,
   "metadata": {},
   "outputs": [],
   "source": [
    "%%capture\n",
    "from tqdm import tqdm_notebook as tqdm\n",
    "tqdm().pandas()"
   ]
  },
  {
   "cell_type": "code",
   "execution_count": 112,
   "metadata": {},
   "outputs": [],
   "source": [
    "#from sklearn.svm import SVC\n",
    "#svc = SVC(kernel='linear', C=1)\n",
    "#svc.fit(smote_train, smote_target,nb_epoch=40)\n"
   ]
  },
  {
   "cell_type": "code",
   "execution_count": 113,
   "metadata": {},
   "outputs": [],
   "source": [
    "#from sklearn.svm import SVC\n",
    "#svc = SVC(kernel='linear', C=1)\n",
    "#svc.fit(smote_train, smote_target)"
   ]
  },
  {
   "cell_type": "code",
   "execution_count": 114,
   "metadata": {},
   "outputs": [],
   "source": [
    "import xgboost as xgb\n"
   ]
  },
  {
   "cell_type": "code",
   "execution_count": null,
   "metadata": {},
   "outputs": [],
   "source": [
    "param_test1 = {\n",
    " 'max_depth':range(9,12,1),\n",
    " 'min_child_weight':range(1,6,2)\n",
    "}\n",
    "\n",
    "xgb_model = xgb.XGBClassifier(objective= 'binary:logistic',\n",
    "                              learning_rate=0.1, \n",
    "                             )\n",
    "gsearch = GridSearchCV(estimator = xgb_model , \n",
    "                        param_grid = param_test1, \n",
    "                        scoring='roc_auc', \n",
    "                        n_jobs=-1, \n",
    "                        cv=5, return_train_score = True)\n",
    "gsearch.fit(X, y)\n",
    "\n",
    "\n",
    "df_results = pd.DataFrame(gsearch.cv_results_['params'])\n",
    "df_results['mean_test_score'] = gsearch.cv_results_['mean_test_score']\n",
    "df_results['mean_train_score'] = gsearch.cv_results_['mean_train_score']\n",
    "df_results.sort_values('mean_test_score', ascending = False)"
   ]
  },
  {
   "cell_type": "code",
   "execution_count": 252,
   "metadata": {},
   "outputs": [
    {
     "data": {
      "text/html": [
       "<div>\n",
       "<style scoped>\n",
       "    .dataframe tbody tr th:only-of-type {\n",
       "        vertical-align: middle;\n",
       "    }\n",
       "\n",
       "    .dataframe tbody tr th {\n",
       "        vertical-align: top;\n",
       "    }\n",
       "\n",
       "    .dataframe thead th {\n",
       "        text-align: right;\n",
       "    }\n",
       "</style>\n",
       "<table border=\"1\" class=\"dataframe\">\n",
       "  <thead>\n",
       "    <tr style=\"text-align: right;\">\n",
       "      <th></th>\n",
       "      <th>max_depth</th>\n",
       "      <th>min_child_weight</th>\n",
       "      <th>mean_test_score</th>\n",
       "      <th>mean_train_score</th>\n",
       "    </tr>\n",
       "  </thead>\n",
       "  <tbody>\n",
       "    <tr>\n",
       "      <th>22</th>\n",
       "      <td>6</td>\n",
       "      <td>4</td>\n",
       "      <td>0.672692</td>\n",
       "      <td>0.777327</td>\n",
       "    </tr>\n",
       "    <tr>\n",
       "      <th>21</th>\n",
       "      <td>6</td>\n",
       "      <td>3</td>\n",
       "      <td>0.672660</td>\n",
       "      <td>0.777278</td>\n",
       "    </tr>\n",
       "    <tr>\n",
       "      <th>20</th>\n",
       "      <td>6</td>\n",
       "      <td>2</td>\n",
       "      <td>0.672582</td>\n",
       "      <td>0.777251</td>\n",
       "    </tr>\n",
       "    <tr>\n",
       "      <th>24</th>\n",
       "      <td>6</td>\n",
       "      <td>6</td>\n",
       "      <td>0.672554</td>\n",
       "      <td>0.776594</td>\n",
       "    </tr>\n",
       "    <tr>\n",
       "      <th>23</th>\n",
       "      <td>6</td>\n",
       "      <td>5</td>\n",
       "      <td>0.672157</td>\n",
       "      <td>0.776436</td>\n",
       "    </tr>\n",
       "    <tr>\n",
       "      <th>15</th>\n",
       "      <td>5</td>\n",
       "      <td>2</td>\n",
       "      <td>0.667088</td>\n",
       "      <td>0.768414</td>\n",
       "    </tr>\n",
       "    <tr>\n",
       "      <th>16</th>\n",
       "      <td>5</td>\n",
       "      <td>3</td>\n",
       "      <td>0.666737</td>\n",
       "      <td>0.768335</td>\n",
       "    </tr>\n",
       "    <tr>\n",
       "      <th>19</th>\n",
       "      <td>5</td>\n",
       "      <td>6</td>\n",
       "      <td>0.666498</td>\n",
       "      <td>0.768068</td>\n",
       "    </tr>\n",
       "    <tr>\n",
       "      <th>17</th>\n",
       "      <td>5</td>\n",
       "      <td>4</td>\n",
       "      <td>0.666496</td>\n",
       "      <td>0.768179</td>\n",
       "    </tr>\n",
       "    <tr>\n",
       "      <th>18</th>\n",
       "      <td>5</td>\n",
       "      <td>5</td>\n",
       "      <td>0.666388</td>\n",
       "      <td>0.767836</td>\n",
       "    </tr>\n",
       "    <tr>\n",
       "      <th>11</th>\n",
       "      <td>4</td>\n",
       "      <td>3</td>\n",
       "      <td>0.662284</td>\n",
       "      <td>0.761182</td>\n",
       "    </tr>\n",
       "    <tr>\n",
       "      <th>12</th>\n",
       "      <td>4</td>\n",
       "      <td>4</td>\n",
       "      <td>0.662080</td>\n",
       "      <td>0.761208</td>\n",
       "    </tr>\n",
       "    <tr>\n",
       "      <th>10</th>\n",
       "      <td>4</td>\n",
       "      <td>2</td>\n",
       "      <td>0.661981</td>\n",
       "      <td>0.761168</td>\n",
       "    </tr>\n",
       "    <tr>\n",
       "      <th>14</th>\n",
       "      <td>4</td>\n",
       "      <td>6</td>\n",
       "      <td>0.661542</td>\n",
       "      <td>0.761002</td>\n",
       "    </tr>\n",
       "    <tr>\n",
       "      <th>13</th>\n",
       "      <td>4</td>\n",
       "      <td>5</td>\n",
       "      <td>0.661537</td>\n",
       "      <td>0.761269</td>\n",
       "    </tr>\n",
       "    <tr>\n",
       "      <th>5</th>\n",
       "      <td>3</td>\n",
       "      <td>2</td>\n",
       "      <td>0.659148</td>\n",
       "      <td>0.755303</td>\n",
       "    </tr>\n",
       "    <tr>\n",
       "      <th>9</th>\n",
       "      <td>3</td>\n",
       "      <td>6</td>\n",
       "      <td>0.658579</td>\n",
       "      <td>0.755314</td>\n",
       "    </tr>\n",
       "    <tr>\n",
       "      <th>7</th>\n",
       "      <td>3</td>\n",
       "      <td>4</td>\n",
       "      <td>0.658466</td>\n",
       "      <td>0.755322</td>\n",
       "    </tr>\n",
       "    <tr>\n",
       "      <th>8</th>\n",
       "      <td>3</td>\n",
       "      <td>5</td>\n",
       "      <td>0.658315</td>\n",
       "      <td>0.755249</td>\n",
       "    </tr>\n",
       "    <tr>\n",
       "      <th>6</th>\n",
       "      <td>3</td>\n",
       "      <td>3</td>\n",
       "      <td>0.658226</td>\n",
       "      <td>0.755286</td>\n",
       "    </tr>\n",
       "    <tr>\n",
       "      <th>3</th>\n",
       "      <td>2</td>\n",
       "      <td>5</td>\n",
       "      <td>0.655661</td>\n",
       "      <td>0.749435</td>\n",
       "    </tr>\n",
       "    <tr>\n",
       "      <th>2</th>\n",
       "      <td>2</td>\n",
       "      <td>4</td>\n",
       "      <td>0.655661</td>\n",
       "      <td>0.749435</td>\n",
       "    </tr>\n",
       "    <tr>\n",
       "      <th>4</th>\n",
       "      <td>2</td>\n",
       "      <td>6</td>\n",
       "      <td>0.655617</td>\n",
       "      <td>0.749440</td>\n",
       "    </tr>\n",
       "    <tr>\n",
       "      <th>1</th>\n",
       "      <td>2</td>\n",
       "      <td>3</td>\n",
       "      <td>0.655613</td>\n",
       "      <td>0.749442</td>\n",
       "    </tr>\n",
       "    <tr>\n",
       "      <th>0</th>\n",
       "      <td>2</td>\n",
       "      <td>2</td>\n",
       "      <td>0.655582</td>\n",
       "      <td>0.749429</td>\n",
       "    </tr>\n",
       "  </tbody>\n",
       "</table>\n",
       "</div>"
      ],
      "text/plain": [
       "    max_depth  min_child_weight  mean_test_score  mean_train_score\n",
       "22          6                 4         0.672692          0.777327\n",
       "21          6                 3         0.672660          0.777278\n",
       "20          6                 2         0.672582          0.777251\n",
       "24          6                 6         0.672554          0.776594\n",
       "23          6                 5         0.672157          0.776436\n",
       "15          5                 2         0.667088          0.768414\n",
       "16          5                 3         0.666737          0.768335\n",
       "19          5                 6         0.666498          0.768068\n",
       "17          5                 4         0.666496          0.768179\n",
       "18          5                 5         0.666388          0.767836\n",
       "11          4                 3         0.662284          0.761182\n",
       "12          4                 4         0.662080          0.761208\n",
       "10          4                 2         0.661981          0.761168\n",
       "14          4                 6         0.661542          0.761002\n",
       "13          4                 5         0.661537          0.761269\n",
       "5           3                 2         0.659148          0.755303\n",
       "9           3                 6         0.658579          0.755314\n",
       "7           3                 4         0.658466          0.755322\n",
       "8           3                 5         0.658315          0.755249\n",
       "6           3                 3         0.658226          0.755286\n",
       "3           2                 5         0.655661          0.749435\n",
       "2           2                 4         0.655661          0.749435\n",
       "4           2                 6         0.655617          0.749440\n",
       "1           2                 3         0.655613          0.749442\n",
       "0           2                 2         0.655582          0.749429"
      ]
     },
     "execution_count": 252,
     "metadata": {},
     "output_type": "execute_result"
    }
   ],
   "source": [
    "\n",
    "param_test2 = {\n",
    " 'max_depth':[2,3,4,5,6],\n",
    " 'min_child_weight':[2,3,4,5,6]\n",
    "}\n",
    "\n",
    "\n",
    "\n",
    "xgb_model = xgb.XGBClassifier(objective= 'binary:logistic',\n",
    "                              learning_rate=0.1, \n",
    "                             )\n",
    "gsearch = GridSearchCV(estimator = xgb_model , \n",
    "                        param_grid = param_test2, \n",
    "                        scoring='roc_auc', \n",
    "                        n_jobs=-1, \n",
    "                        cv=5, return_train_score = True)\n",
    "gsearch.fit(X, y)\n",
    "\n",
    "\n",
    "df_results = pd.DataFrame(gsearch.cv_results_['params'])\n",
    "df_results['mean_test_score'] = gsearch.cv_results_['mean_test_score']\n",
    "df_results['mean_train_score'] = gsearch.cv_results_['mean_train_score']\n",
    "df_results.sort_values('mean_test_score', ascending = False)"
   ]
  },
  {
   "cell_type": "code",
   "execution_count": 239,
   "metadata": {},
   "outputs": [
    {
     "data": {
      "text/html": [
       "<div>\n",
       "<style scoped>\n",
       "    .dataframe tbody tr th:only-of-type {\n",
       "        vertical-align: middle;\n",
       "    }\n",
       "\n",
       "    .dataframe tbody tr th {\n",
       "        vertical-align: top;\n",
       "    }\n",
       "\n",
       "    .dataframe thead th {\n",
       "        text-align: right;\n",
       "    }\n",
       "</style>\n",
       "<table border=\"1\" class=\"dataframe\">\n",
       "  <thead>\n",
       "    <tr style=\"text-align: right;\">\n",
       "      <th></th>\n",
       "      <th>gamma</th>\n",
       "      <th>mean_test_score</th>\n",
       "      <th>mean_train_score</th>\n",
       "    </tr>\n",
       "  </thead>\n",
       "  <tbody>\n",
       "    <tr>\n",
       "      <th>0</th>\n",
       "      <td>0.0</td>\n",
       "      <td>0.655661</td>\n",
       "      <td>0.749435</td>\n",
       "    </tr>\n",
       "    <tr>\n",
       "      <th>1</th>\n",
       "      <td>0.1</td>\n",
       "      <td>0.655661</td>\n",
       "      <td>0.749435</td>\n",
       "    </tr>\n",
       "    <tr>\n",
       "      <th>2</th>\n",
       "      <td>0.2</td>\n",
       "      <td>0.655661</td>\n",
       "      <td>0.749435</td>\n",
       "    </tr>\n",
       "    <tr>\n",
       "      <th>3</th>\n",
       "      <td>0.3</td>\n",
       "      <td>0.655661</td>\n",
       "      <td>0.749435</td>\n",
       "    </tr>\n",
       "    <tr>\n",
       "      <th>4</th>\n",
       "      <td>0.4</td>\n",
       "      <td>0.655661</td>\n",
       "      <td>0.749435</td>\n",
       "    </tr>\n",
       "    <tr>\n",
       "      <th>5</th>\n",
       "      <td>0.5</td>\n",
       "      <td>0.655661</td>\n",
       "      <td>0.749435</td>\n",
       "    </tr>\n",
       "  </tbody>\n",
       "</table>\n",
       "</div>"
      ],
      "text/plain": [
       "   gamma  mean_test_score  mean_train_score\n",
       "0    0.0         0.655661          0.749435\n",
       "1    0.1         0.655661          0.749435\n",
       "2    0.2         0.655661          0.749435\n",
       "3    0.3         0.655661          0.749435\n",
       "4    0.4         0.655661          0.749435\n",
       "5    0.5         0.655661          0.749435"
      ]
     },
     "execution_count": 239,
     "metadata": {},
     "output_type": "execute_result"
    }
   ],
   "source": [
    "param_test3 = {\n",
    "'gamma':[i for i in np.arange(0,0.6,0.1)]\n",
    "}\n",
    "\n",
    "xgb_model = xgb.XGBClassifier(objective= 'binary:logistic',\n",
    "                              learning_rate=0.1,\n",
    "                              max_depth = 2,\n",
    "                              min_child_weight = 4\n",
    "                             )\n",
    "gsearch = GridSearchCV(estimator = xgb_model , \n",
    "                        param_grid = param_test3, \n",
    "                        scoring='roc_auc', \n",
    "                        n_jobs=-1, \n",
    "                        cv=5, return_train_score = True)\n",
    "gsearch.fit(X, y)\n",
    "\n",
    "\n",
    "df_results = pd.DataFrame(gsearch.cv_results_['params'])\n",
    "df_results['mean_test_score'] = gsearch.cv_results_['mean_test_score']\n",
    "df_results['mean_train_score'] = gsearch.cv_results_['mean_train_score']\n",
    "df_results.sort_values('mean_test_score', ascending = False)"
   ]
  },
  {
   "cell_type": "code",
   "execution_count": null,
   "metadata": {},
   "outputs": [],
   "source": [
    "param_test4 = {\n",
    " 'subsample':[i/10.0 for i in range(6,10)],\n",
    " 'colsample_bytree':[i/10.0 for i in range(6,10)]\n",
    "}\n",
    "gsearch4 = GridSearchCV(estimator = XGBClassifier( learning_rate =0.1, n_estimators=177, max_depth=4,\n",
    " min_child_weight=6, gamma=0, subsample=0.8, colsample_bytree=0.8,\n",
    " objective= 'binary:logistic', nthread=4, scale_pos_weight=1,seed=27), \n",
    " param_grid = param_test4, scoring='roc_auc',n_jobs=4,iid=False, cv=5)\n",
    "gsearch4.fit(train[predictors],train[target])\n",
    "gsearch4.grid_scores_, gsearch4.best_params_, gsearch4.best_score_"
   ]
  },
  {
   "cell_type": "code",
   "execution_count": 240,
   "metadata": {},
   "outputs": [
    {
     "data": {
      "text/html": [
       "<div>\n",
       "<style scoped>\n",
       "    .dataframe tbody tr th:only-of-type {\n",
       "        vertical-align: middle;\n",
       "    }\n",
       "\n",
       "    .dataframe tbody tr th {\n",
       "        vertical-align: top;\n",
       "    }\n",
       "\n",
       "    .dataframe thead th {\n",
       "        text-align: right;\n",
       "    }\n",
       "</style>\n",
       "<table border=\"1\" class=\"dataframe\">\n",
       "  <thead>\n",
       "    <tr style=\"text-align: right;\">\n",
       "      <th></th>\n",
       "      <th>colsample_bytree</th>\n",
       "      <th>subsample</th>\n",
       "      <th>mean_test_score</th>\n",
       "      <th>mean_train_score</th>\n",
       "    </tr>\n",
       "  </thead>\n",
       "  <tbody>\n",
       "    <tr>\n",
       "      <th>0</th>\n",
       "      <td>0.6</td>\n",
       "      <td>0.6</td>\n",
       "      <td>0.655419</td>\n",
       "      <td>0.749379</td>\n",
       "    </tr>\n",
       "    <tr>\n",
       "      <th>8</th>\n",
       "      <td>0.8</td>\n",
       "      <td>0.6</td>\n",
       "      <td>0.655256</td>\n",
       "      <td>0.749436</td>\n",
       "    </tr>\n",
       "    <tr>\n",
       "      <th>4</th>\n",
       "      <td>0.7</td>\n",
       "      <td>0.6</td>\n",
       "      <td>0.655148</td>\n",
       "      <td>0.749348</td>\n",
       "    </tr>\n",
       "    <tr>\n",
       "      <th>14</th>\n",
       "      <td>0.9</td>\n",
       "      <td>0.8</td>\n",
       "      <td>0.655002</td>\n",
       "      <td>0.749425</td>\n",
       "    </tr>\n",
       "    <tr>\n",
       "      <th>5</th>\n",
       "      <td>0.7</td>\n",
       "      <td>0.7</td>\n",
       "      <td>0.654937</td>\n",
       "      <td>0.749320</td>\n",
       "    </tr>\n",
       "    <tr>\n",
       "      <th>12</th>\n",
       "      <td>0.9</td>\n",
       "      <td>0.6</td>\n",
       "      <td>0.654853</td>\n",
       "      <td>0.749449</td>\n",
       "    </tr>\n",
       "    <tr>\n",
       "      <th>15</th>\n",
       "      <td>0.9</td>\n",
       "      <td>0.9</td>\n",
       "      <td>0.654820</td>\n",
       "      <td>0.749215</td>\n",
       "    </tr>\n",
       "    <tr>\n",
       "      <th>13</th>\n",
       "      <td>0.9</td>\n",
       "      <td>0.7</td>\n",
       "      <td>0.654771</td>\n",
       "      <td>0.749488</td>\n",
       "    </tr>\n",
       "    <tr>\n",
       "      <th>3</th>\n",
       "      <td>0.6</td>\n",
       "      <td>0.9</td>\n",
       "      <td>0.654512</td>\n",
       "      <td>0.749184</td>\n",
       "    </tr>\n",
       "    <tr>\n",
       "      <th>11</th>\n",
       "      <td>0.8</td>\n",
       "      <td>0.9</td>\n",
       "      <td>0.654438</td>\n",
       "      <td>0.749359</td>\n",
       "    </tr>\n",
       "    <tr>\n",
       "      <th>10</th>\n",
       "      <td>0.8</td>\n",
       "      <td>0.8</td>\n",
       "      <td>0.654427</td>\n",
       "      <td>0.749421</td>\n",
       "    </tr>\n",
       "    <tr>\n",
       "      <th>7</th>\n",
       "      <td>0.7</td>\n",
       "      <td>0.9</td>\n",
       "      <td>0.653994</td>\n",
       "      <td>0.749354</td>\n",
       "    </tr>\n",
       "    <tr>\n",
       "      <th>9</th>\n",
       "      <td>0.8</td>\n",
       "      <td>0.7</td>\n",
       "      <td>0.653756</td>\n",
       "      <td>0.749264</td>\n",
       "    </tr>\n",
       "    <tr>\n",
       "      <th>2</th>\n",
       "      <td>0.6</td>\n",
       "      <td>0.8</td>\n",
       "      <td>0.653543</td>\n",
       "      <td>0.749199</td>\n",
       "    </tr>\n",
       "    <tr>\n",
       "      <th>1</th>\n",
       "      <td>0.6</td>\n",
       "      <td>0.7</td>\n",
       "      <td>0.652823</td>\n",
       "      <td>0.749140</td>\n",
       "    </tr>\n",
       "    <tr>\n",
       "      <th>6</th>\n",
       "      <td>0.7</td>\n",
       "      <td>0.8</td>\n",
       "      <td>0.652566</td>\n",
       "      <td>0.749017</td>\n",
       "    </tr>\n",
       "  </tbody>\n",
       "</table>\n",
       "</div>"
      ],
      "text/plain": [
       "    colsample_bytree  subsample  mean_test_score  mean_train_score\n",
       "0                0.6        0.6         0.655419          0.749379\n",
       "8                0.8        0.6         0.655256          0.749436\n",
       "4                0.7        0.6         0.655148          0.749348\n",
       "14               0.9        0.8         0.655002          0.749425\n",
       "5                0.7        0.7         0.654937          0.749320\n",
       "12               0.9        0.6         0.654853          0.749449\n",
       "15               0.9        0.9         0.654820          0.749215\n",
       "13               0.9        0.7         0.654771          0.749488\n",
       "3                0.6        0.9         0.654512          0.749184\n",
       "11               0.8        0.9         0.654438          0.749359\n",
       "10               0.8        0.8         0.654427          0.749421\n",
       "7                0.7        0.9         0.653994          0.749354\n",
       "9                0.8        0.7         0.653756          0.749264\n",
       "2                0.6        0.8         0.653543          0.749199\n",
       "1                0.6        0.7         0.652823          0.749140\n",
       "6                0.7        0.8         0.652566          0.749017"
      ]
     },
     "execution_count": 240,
     "metadata": {},
     "output_type": "execute_result"
    }
   ],
   "source": [
    "param_test4 = {\n",
    "'subsample':[i for i in np.arange(0.6,1, 0.1)],\n",
    " 'colsample_bytree':[i for i in np.arange(0.6,1, 0.1)]\n",
    "}\n",
    "\n",
    "\n",
    "xgb_model = xgb.XGBClassifier(objective= 'binary:logistic',\n",
    "                              learning_rate=0.1,\n",
    "                              max_depth = 2,\n",
    "                              min_child_weight = 4\n",
    "                             )\n",
    "gsearch = GridSearchCV(estimator = xgb_model , \n",
    "                        param_grid = param_test4, \n",
    "                        scoring='roc_auc', \n",
    "                        n_jobs=-1, \n",
    "                        cv=5, return_train_score = True)\n",
    "gsearch.fit(X, y)\n",
    "\n",
    "\n",
    "df_results = pd.DataFrame(gsearch.cv_results_['params'])\n",
    "df_results['mean_test_score'] = gsearch.cv_results_['mean_test_score']\n",
    "df_results['mean_train_score'] = gsearch.cv_results_['mean_train_score']\n",
    "df_results.sort_values('mean_test_score', ascending = False)"
   ]
  },
  {
   "cell_type": "code",
   "execution_count": 241,
   "metadata": {},
   "outputs": [
    {
     "data": {
      "text/html": [
       "<div>\n",
       "<style scoped>\n",
       "    .dataframe tbody tr th:only-of-type {\n",
       "        vertical-align: middle;\n",
       "    }\n",
       "\n",
       "    .dataframe tbody tr th {\n",
       "        vertical-align: top;\n",
       "    }\n",
       "\n",
       "    .dataframe thead th {\n",
       "        text-align: right;\n",
       "    }\n",
       "</style>\n",
       "<table border=\"1\" class=\"dataframe\">\n",
       "  <thead>\n",
       "    <tr style=\"text-align: right;\">\n",
       "      <th></th>\n",
       "      <th>colsample_bytree</th>\n",
       "      <th>subsample</th>\n",
       "      <th>mean_test_score</th>\n",
       "      <th>mean_train_score</th>\n",
       "    </tr>\n",
       "  </thead>\n",
       "  <tbody>\n",
       "    <tr>\n",
       "      <th>12</th>\n",
       "      <td>0.80</td>\n",
       "      <td>0.65</td>\n",
       "      <td>0.655671</td>\n",
       "      <td>0.749326</td>\n",
       "    </tr>\n",
       "    <tr>\n",
       "      <th>5</th>\n",
       "      <td>0.70</td>\n",
       "      <td>0.70</td>\n",
       "      <td>0.654937</td>\n",
       "      <td>0.749320</td>\n",
       "    </tr>\n",
       "    <tr>\n",
       "      <th>1</th>\n",
       "      <td>0.65</td>\n",
       "      <td>0.70</td>\n",
       "      <td>0.654697</td>\n",
       "      <td>0.749175</td>\n",
       "    </tr>\n",
       "    <tr>\n",
       "      <th>4</th>\n",
       "      <td>0.70</td>\n",
       "      <td>0.65</td>\n",
       "      <td>0.654656</td>\n",
       "      <td>0.749307</td>\n",
       "    </tr>\n",
       "    <tr>\n",
       "      <th>15</th>\n",
       "      <td>0.80</td>\n",
       "      <td>0.80</td>\n",
       "      <td>0.654427</td>\n",
       "      <td>0.749421</td>\n",
       "    </tr>\n",
       "    <tr>\n",
       "      <th>11</th>\n",
       "      <td>0.75</td>\n",
       "      <td>0.80</td>\n",
       "      <td>0.654405</td>\n",
       "      <td>0.749365</td>\n",
       "    </tr>\n",
       "    <tr>\n",
       "      <th>9</th>\n",
       "      <td>0.75</td>\n",
       "      <td>0.70</td>\n",
       "      <td>0.654391</td>\n",
       "      <td>0.749125</td>\n",
       "    </tr>\n",
       "    <tr>\n",
       "      <th>10</th>\n",
       "      <td>0.75</td>\n",
       "      <td>0.75</td>\n",
       "      <td>0.654174</td>\n",
       "      <td>0.749234</td>\n",
       "    </tr>\n",
       "    <tr>\n",
       "      <th>8</th>\n",
       "      <td>0.75</td>\n",
       "      <td>0.65</td>\n",
       "      <td>0.653931</td>\n",
       "      <td>0.749283</td>\n",
       "    </tr>\n",
       "    <tr>\n",
       "      <th>13</th>\n",
       "      <td>0.80</td>\n",
       "      <td>0.70</td>\n",
       "      <td>0.653756</td>\n",
       "      <td>0.749264</td>\n",
       "    </tr>\n",
       "    <tr>\n",
       "      <th>3</th>\n",
       "      <td>0.65</td>\n",
       "      <td>0.80</td>\n",
       "      <td>0.653582</td>\n",
       "      <td>0.749122</td>\n",
       "    </tr>\n",
       "    <tr>\n",
       "      <th>14</th>\n",
       "      <td>0.80</td>\n",
       "      <td>0.75</td>\n",
       "      <td>0.653492</td>\n",
       "      <td>0.749288</td>\n",
       "    </tr>\n",
       "    <tr>\n",
       "      <th>6</th>\n",
       "      <td>0.70</td>\n",
       "      <td>0.75</td>\n",
       "      <td>0.653174</td>\n",
       "      <td>0.749253</td>\n",
       "    </tr>\n",
       "    <tr>\n",
       "      <th>2</th>\n",
       "      <td>0.65</td>\n",
       "      <td>0.75</td>\n",
       "      <td>0.653088</td>\n",
       "      <td>0.749081</td>\n",
       "    </tr>\n",
       "    <tr>\n",
       "      <th>0</th>\n",
       "      <td>0.65</td>\n",
       "      <td>0.65</td>\n",
       "      <td>0.652802</td>\n",
       "      <td>0.749171</td>\n",
       "    </tr>\n",
       "    <tr>\n",
       "      <th>7</th>\n",
       "      <td>0.70</td>\n",
       "      <td>0.80</td>\n",
       "      <td>0.652566</td>\n",
       "      <td>0.749017</td>\n",
       "    </tr>\n",
       "  </tbody>\n",
       "</table>\n",
       "</div>"
      ],
      "text/plain": [
       "    colsample_bytree  subsample  mean_test_score  mean_train_score\n",
       "12              0.80       0.65         0.655671          0.749326\n",
       "5               0.70       0.70         0.654937          0.749320\n",
       "1               0.65       0.70         0.654697          0.749175\n",
       "4               0.70       0.65         0.654656          0.749307\n",
       "15              0.80       0.80         0.654427          0.749421\n",
       "11              0.75       0.80         0.654405          0.749365\n",
       "9               0.75       0.70         0.654391          0.749125\n",
       "10              0.75       0.75         0.654174          0.749234\n",
       "8               0.75       0.65         0.653931          0.749283\n",
       "13              0.80       0.70         0.653756          0.749264\n",
       "3               0.65       0.80         0.653582          0.749122\n",
       "14              0.80       0.75         0.653492          0.749288\n",
       "6               0.70       0.75         0.653174          0.749253\n",
       "2               0.65       0.75         0.653088          0.749081\n",
       "0               0.65       0.65         0.652802          0.749171\n",
       "7               0.70       0.80         0.652566          0.749017"
      ]
     },
     "execution_count": 241,
     "metadata": {},
     "output_type": "execute_result"
    }
   ],
   "source": [
    "param_test5 = {\n",
    "'subsample':[i for i in np.arange(0.65,0.8, 0.05)],\n",
    " 'colsample_bytree':[i for i in np.arange(0.65,0.8, 0.05)]\n",
    "}\n",
    "\n",
    "\n",
    "xgb_model = xgb.XGBClassifier(objective= 'binary:logistic',\n",
    "                              learning_rate=0.1,\n",
    "                              max_depth = 2,\n",
    "                              min_child_weight = 4\n",
    "                             )\n",
    "gsearch = GridSearchCV(estimator = xgb_model , \n",
    "                        param_grid = param_test5, \n",
    "                        scoring='roc_auc', \n",
    "                        n_jobs=-1, \n",
    "                        cv=5, return_train_score = True)\n",
    "gsearch.fit(X, y)\n",
    "\n",
    "\n",
    "df_results = pd.DataFrame(gsearch.cv_results_['params'])\n",
    "df_results['mean_test_score'] = gsearch.cv_results_['mean_test_score']\n",
    "df_results['mean_train_score'] = gsearch.cv_results_['mean_train_score']\n",
    "df_results.sort_values('mean_test_score', ascending = False)"
   ]
  },
  {
   "cell_type": "code",
   "execution_count": 242,
   "metadata": {},
   "outputs": [
    {
     "data": {
      "text/html": [
       "<div>\n",
       "<style scoped>\n",
       "    .dataframe tbody tr th:only-of-type {\n",
       "        vertical-align: middle;\n",
       "    }\n",
       "\n",
       "    .dataframe tbody tr th {\n",
       "        vertical-align: top;\n",
       "    }\n",
       "\n",
       "    .dataframe thead th {\n",
       "        text-align: right;\n",
       "    }\n",
       "</style>\n",
       "<table border=\"1\" class=\"dataframe\">\n",
       "  <thead>\n",
       "    <tr style=\"text-align: right;\">\n",
       "      <th></th>\n",
       "      <th>reg_alpha</th>\n",
       "      <th>mean_test_score</th>\n",
       "      <th>mean_train_score</th>\n",
       "    </tr>\n",
       "  </thead>\n",
       "  <tbody>\n",
       "    <tr>\n",
       "      <th>8</th>\n",
       "      <td>1000.00000</td>\n",
       "      <td>0.657025</td>\n",
       "      <td>0.736168</td>\n",
       "    </tr>\n",
       "    <tr>\n",
       "      <th>5</th>\n",
       "      <td>1.00000</td>\n",
       "      <td>0.654220</td>\n",
       "      <td>0.749289</td>\n",
       "    </tr>\n",
       "    <tr>\n",
       "      <th>1</th>\n",
       "      <td>0.00010</td>\n",
       "      <td>0.653931</td>\n",
       "      <td>0.749283</td>\n",
       "    </tr>\n",
       "    <tr>\n",
       "      <th>0</th>\n",
       "      <td>0.00001</td>\n",
       "      <td>0.653931</td>\n",
       "      <td>0.749283</td>\n",
       "    </tr>\n",
       "    <tr>\n",
       "      <th>2</th>\n",
       "      <td>0.00100</td>\n",
       "      <td>0.653931</td>\n",
       "      <td>0.749283</td>\n",
       "    </tr>\n",
       "    <tr>\n",
       "      <th>3</th>\n",
       "      <td>0.01000</td>\n",
       "      <td>0.653931</td>\n",
       "      <td>0.749283</td>\n",
       "    </tr>\n",
       "    <tr>\n",
       "      <th>4</th>\n",
       "      <td>0.10000</td>\n",
       "      <td>0.653800</td>\n",
       "      <td>0.749317</td>\n",
       "    </tr>\n",
       "    <tr>\n",
       "      <th>6</th>\n",
       "      <td>10.00000</td>\n",
       "      <td>0.653641</td>\n",
       "      <td>0.748889</td>\n",
       "    </tr>\n",
       "    <tr>\n",
       "      <th>7</th>\n",
       "      <td>100.00000</td>\n",
       "      <td>0.650007</td>\n",
       "      <td>0.746503</td>\n",
       "    </tr>\n",
       "    <tr>\n",
       "      <th>9</th>\n",
       "      <td>10000.00000</td>\n",
       "      <td>0.500000</td>\n",
       "      <td>0.500000</td>\n",
       "    </tr>\n",
       "  </tbody>\n",
       "</table>\n",
       "</div>"
      ],
      "text/plain": [
       "     reg_alpha  mean_test_score  mean_train_score\n",
       "8   1000.00000         0.657025          0.736168\n",
       "5      1.00000         0.654220          0.749289\n",
       "1      0.00010         0.653931          0.749283\n",
       "0      0.00001         0.653931          0.749283\n",
       "2      0.00100         0.653931          0.749283\n",
       "3      0.01000         0.653931          0.749283\n",
       "4      0.10000         0.653800          0.749317\n",
       "6     10.00000         0.653641          0.748889\n",
       "7    100.00000         0.650007          0.746503\n",
       "9  10000.00000         0.500000          0.500000"
      ]
     },
     "execution_count": 242,
     "metadata": {},
     "output_type": "execute_result"
    }
   ],
   "source": [
    "param_test6 = {\n",
    " 'reg_alpha':[10**i for i in range (-5,5)]\n",
    "}\n",
    "\n",
    "xgb_model = xgb.XGBClassifier(objective= 'binary:logistic',\n",
    "                              learning_rate=0.1,\n",
    "                              max_depth = 2,\n",
    "                              min_child_weight = 4,\n",
    "                              colsample_bytree = 0.75,\n",
    "                              subsample = 0.65\n",
    "                              \n",
    "                             )\n",
    "gsearch = GridSearchCV(estimator = xgb_model , \n",
    "                        param_grid = param_test6, \n",
    "                        scoring='roc_auc', \n",
    "                        n_jobs=-1, \n",
    "                        cv=5, return_train_score = True)\n",
    "gsearch.fit(X, y)\n",
    "\n",
    "\n",
    "df_results = pd.DataFrame(gsearch.cv_results_['params'])\n",
    "df_results['mean_test_score'] = gsearch.cv_results_['mean_test_score']\n",
    "df_results['mean_train_score'] = gsearch.cv_results_['mean_train_score']\n",
    "df_results.sort_values('mean_test_score', ascending = False)"
   ]
  },
  {
   "cell_type": "code",
   "execution_count": 243,
   "metadata": {},
   "outputs": [
    {
     "data": {
      "text/html": [
       "<div>\n",
       "<style scoped>\n",
       "    .dataframe tbody tr th:only-of-type {\n",
       "        vertical-align: middle;\n",
       "    }\n",
       "\n",
       "    .dataframe tbody tr th {\n",
       "        vertical-align: top;\n",
       "    }\n",
       "\n",
       "    .dataframe thead th {\n",
       "        text-align: right;\n",
       "    }\n",
       "</style>\n",
       "<table border=\"1\" class=\"dataframe\">\n",
       "  <thead>\n",
       "    <tr style=\"text-align: right;\">\n",
       "      <th></th>\n",
       "      <th>learning_rate</th>\n",
       "      <th>mean_test_score</th>\n",
       "      <th>mean_train_score</th>\n",
       "    </tr>\n",
       "  </thead>\n",
       "  <tbody>\n",
       "    <tr>\n",
       "      <th>11</th>\n",
       "      <td>0.28</td>\n",
       "      <td>0.658143</td>\n",
       "      <td>0.754577</td>\n",
       "    </tr>\n",
       "    <tr>\n",
       "      <th>9</th>\n",
       "      <td>0.24</td>\n",
       "      <td>0.657634</td>\n",
       "      <td>0.753603</td>\n",
       "    </tr>\n",
       "    <tr>\n",
       "      <th>7</th>\n",
       "      <td>0.20</td>\n",
       "      <td>0.657529</td>\n",
       "      <td>0.752626</td>\n",
       "    </tr>\n",
       "    <tr>\n",
       "      <th>8</th>\n",
       "      <td>0.22</td>\n",
       "      <td>0.657372</td>\n",
       "      <td>0.753248</td>\n",
       "    </tr>\n",
       "    <tr>\n",
       "      <th>10</th>\n",
       "      <td>0.26</td>\n",
       "      <td>0.656877</td>\n",
       "      <td>0.754077</td>\n",
       "    </tr>\n",
       "    <tr>\n",
       "      <th>3</th>\n",
       "      <td>0.12</td>\n",
       "      <td>0.655895</td>\n",
       "      <td>0.750114</td>\n",
       "    </tr>\n",
       "    <tr>\n",
       "      <th>4</th>\n",
       "      <td>0.14</td>\n",
       "      <td>0.655450</td>\n",
       "      <td>0.750943</td>\n",
       "    </tr>\n",
       "    <tr>\n",
       "      <th>6</th>\n",
       "      <td>0.18</td>\n",
       "      <td>0.654801</td>\n",
       "      <td>0.751873</td>\n",
       "    </tr>\n",
       "    <tr>\n",
       "      <th>5</th>\n",
       "      <td>0.16</td>\n",
       "      <td>0.654506</td>\n",
       "      <td>0.751393</td>\n",
       "    </tr>\n",
       "    <tr>\n",
       "      <th>2</th>\n",
       "      <td>0.10</td>\n",
       "      <td>0.653931</td>\n",
       "      <td>0.749283</td>\n",
       "    </tr>\n",
       "    <tr>\n",
       "      <th>1</th>\n",
       "      <td>0.08</td>\n",
       "      <td>0.653440</td>\n",
       "      <td>0.748252</td>\n",
       "    </tr>\n",
       "    <tr>\n",
       "      <th>0</th>\n",
       "      <td>0.06</td>\n",
       "      <td>0.651264</td>\n",
       "      <td>0.746825</td>\n",
       "    </tr>\n",
       "  </tbody>\n",
       "</table>\n",
       "</div>"
      ],
      "text/plain": [
       "    learning_rate  mean_test_score  mean_train_score\n",
       "11           0.28         0.658143          0.754577\n",
       "9            0.24         0.657634          0.753603\n",
       "7            0.20         0.657529          0.752626\n",
       "8            0.22         0.657372          0.753248\n",
       "10           0.26         0.656877          0.754077\n",
       "3            0.12         0.655895          0.750114\n",
       "4            0.14         0.655450          0.750943\n",
       "6            0.18         0.654801          0.751873\n",
       "5            0.16         0.654506          0.751393\n",
       "2            0.10         0.653931          0.749283\n",
       "1            0.08         0.653440          0.748252\n",
       "0            0.06         0.651264          0.746825"
      ]
     },
     "execution_count": 243,
     "metadata": {},
     "output_type": "execute_result"
    }
   ],
   "source": [
    "param_test7 = {\n",
    " 'learning_rate':list(np.arange(0.06,0.3, 0.02))\n",
    "}\n",
    "\n",
    "xgb_model = xgb.XGBClassifier(objective= 'binary:logistic',\n",
    "                              learning_rate=0.1,\n",
    "                              max_depth = 2,\n",
    "                              min_child_weight = 4,\n",
    "                              colsample_bytree = 0.75,\n",
    "                              subsample = 0.65,\n",
    "                              reg_alpha = 0.01\n",
    "                              \n",
    "                             )\n",
    "gsearch = GridSearchCV(estimator = xgb_model , \n",
    "                        param_grid = param_test7, \n",
    "                        scoring='roc_auc', \n",
    "                        n_jobs=-1, \n",
    "                        cv=5, return_train_score = True)\n",
    "gsearch.fit(X, y)\n",
    "\n",
    "\n",
    "df_results = pd.DataFrame(gsearch.cv_results_['params'])\n",
    "df_results['mean_test_score'] = gsearch.cv_results_['mean_test_score']\n",
    "df_results['mean_train_score'] = gsearch.cv_results_['mean_train_score']\n",
    "df_results.sort_values('mean_test_score', ascending = False)"
   ]
  },
  {
   "cell_type": "code",
   "execution_count": 249,
   "metadata": {},
   "outputs": [],
   "source": [
    "xgb_model = xgb.XGBClassifier(objective= 'binary:logistic',\n",
    "                              learning_rate=0.28,\n",
    "                              max_depth = 10,\n",
    "                              min_child_weight = 1,\n",
    "                              colsample_bytree = 0.6,\n",
    "                              subsample = 0.6,\n",
    "                              gamma = 0.0,\n",
    "                              reg_alpha = 1000.00000\n",
    "                             )"
   ]
  },
  {
   "cell_type": "code",
   "execution_count": 250,
   "metadata": {},
   "outputs": [],
   "source": [
    "from sklearn.model_selection import cross_validate"
   ]
  },
  {
   "cell_type": "code",
   "execution_count": 251,
   "metadata": {},
   "outputs": [
    {
     "name": "stdout",
     "output_type": "stream",
     "text": [
      "0.6645833297379445\n",
      "0.7407479619717523\n"
     ]
    }
   ],
   "source": [
    "cv_ = cross_validate(xgb_model, X, y, cv=5, scoring = \"roc_auc\", return_train_score=True)\n",
    "print(cv_['test_score'].mean())\n",
    "print(cv_['train_score'].mean())"
   ]
  },
  {
   "cell_type": "code",
   "execution_count": 248,
   "metadata": {},
   "outputs": [
    {
     "data": {
      "text/plain": [
       "XGBClassifier(base_score=0.5, booster='gbtree', colsample_bylevel=1,\n",
       "              colsample_bynode=1, colsample_bytree=0.6, gamma=0, gpu_id=-1,\n",
       "              importance_type='gain', interaction_constraints='',\n",
       "              learning_rate=0.28, max_delta_step=0, max_depth=4,\n",
       "              min_child_weight=1, missing=nan, monotone_constraints='()',\n",
       "              n_estimators=100, n_jobs=0, num_parallel_tree=1, random_state=0,\n",
       "              reg_alpha=1000.0, reg_lambda=1, scale_pos_weight=1, subsample=0.6,\n",
       "              tree_method='exact', validate_parameters=1, verbosity=None)"
      ]
     },
     "execution_count": 248,
     "metadata": {},
     "output_type": "execute_result"
    }
   ],
   "source": [
    "xgb_model.fit(X, y)"
   ]
  },
  {
   "cell_type": "code",
   "execution_count": null,
   "metadata": {},
   "outputs": [],
   "source": []
  }
 ],
 "metadata": {
  "kernelspec": {
   "display_name": "Python 3",
   "language": "python",
   "name": "python3"
  },
  "language_info": {
   "codemirror_mode": {
    "name": "ipython",
    "version": 3
   },
   "file_extension": ".py",
   "mimetype": "text/x-python",
   "name": "python",
   "nbconvert_exporter": "python",
   "pygments_lexer": "ipython3",
   "version": "3.8.3"
  }
 },
 "nbformat": 4,
 "nbformat_minor": 4
}
